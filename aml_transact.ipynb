{
 "cells": [
  {
   "cell_type": "code",
   "execution_count": 1,
   "metadata": {
    "execution": {
     "iopub.execute_input": "2025-07-28T20:30:45.335471Z",
     "iopub.status.busy": "2025-07-28T20:30:45.335165Z",
     "iopub.status.idle": "2025-07-28T20:30:45.399927Z",
     "shell.execute_reply": "2025-07-28T20:30:45.399662Z",
     "shell.execute_reply.started": "2025-07-28T20:30:45.335448Z"
    }
   },
   "outputs": [],
   "source": [
    "from icecream import ic\n",
    "from yfiles_jupyter_graphs_for_kuzu import KuzuGraphWidget\n",
    "import kuzu\n",
    "import watermark"
   ]
  },
  {
   "cell_type": "code",
   "execution_count": 2,
   "metadata": {
    "execution": {
     "iopub.execute_input": "2025-07-28T20:30:45.400276Z",
     "iopub.status.busy": "2025-07-28T20:30:45.400196Z",
     "iopub.status.idle": "2025-07-28T20:30:45.409468Z",
     "shell.execute_reply": "2025-07-28T20:30:45.409199Z",
     "shell.execute_reply.started": "2025-07-28T20:30:45.400264Z"
    }
   },
   "outputs": [
    {
     "name": "stdout",
     "output_type": "stream",
     "text": [
      "Last updated: 2025-07-28T13:30:45.401095-07:00\n",
      "\n",
      "Python implementation: CPython\n",
      "Python version       : 3.13.3\n",
      "IPython version      : 9.1.0\n",
      "\n",
      "Compiler    : Clang 16.0.0 (clang-1600.0.26.6)\n",
      "OS          : Darwin\n",
      "Release     : 24.5.0\n",
      "Machine     : arm64\n",
      "Processor   : arm\n",
      "CPU cores   : 14\n",
      "Architecture: 64bit\n",
      "\n",
      "kuzu                          : 0.9.0\n",
      "yfiles_jupyter_graphs_for_kuzu: 0.0.4\n",
      "watermark                     : 2.5.0\n",
      "\n"
     ]
    }
   ],
   "source": [
    "%load_ext watermark\n",
    "%watermark\n",
    "%watermark --iversions"
   ]
  },
  {
   "cell_type": "code",
   "execution_count": 3,
   "metadata": {
    "execution": {
     "iopub.execute_input": "2025-07-28T20:30:45.410238Z",
     "iopub.status.busy": "2025-07-28T20:30:45.409953Z",
     "iopub.status.idle": "2025-07-28T20:30:45.471279Z",
     "shell.execute_reply": "2025-07-28T20:30:45.470210Z",
     "shell.execute_reply.started": "2025-07-28T20:30:45.410223Z"
    }
   },
   "outputs": [
    {
     "ename": "NameError",
     "evalue": "name 'pathlib' is not defined",
     "output_type": "error",
     "traceback": [
      "\u001b[31m---------------------------------------------------------------------------\u001b[39m",
      "\u001b[31mNameError\u001b[39m                                 Traceback (most recent call last)",
      "\u001b[36mCell\u001b[39m\u001b[36m \u001b[39m\u001b[32mIn[3]\u001b[39m\u001b[32m, line 1\u001b[39m\n\u001b[32m----> \u001b[39m\u001b[32m1\u001b[39m data_path: pathlib.Path = \u001b[43mpathlib\u001b[49m.Path(\u001b[33m\"\u001b[39m\u001b[33mdata\u001b[39m\u001b[33m\"\u001b[39m)\n",
      "\u001b[31mNameError\u001b[39m: name 'pathlib' is not defined"
     ]
    }
   ],
   "source": [
    "data_path: pathlib.Path = pathlib.Path(\"data\")"
   ]
  },
  {
   "cell_type": "markdown",
   "metadata": {},
   "source": [
    "We'll load a slice of the [OpenSanctions](https://www.opensanctions.org/) dataset, which provides the \"risk\" category of data.\n",
    "This describes people and organizations who represent known risks for FinCrime."
   ]
  },
  {
   "cell_type": "code",
   "execution_count": null,
   "metadata": {
    "execution": {
     "iopub.status.busy": "2025-07-28T20:30:45.471430Z",
     "iopub.status.idle": "2025-07-28T20:30:45.471512Z",
     "shell.execute_reply": "2025-07-28T20:30:45.471474Z",
     "shell.execute_reply.started": "2025-07-28T20:30:45.471469Z"
    }
   },
   "outputs": [],
   "source": [
    "df1 = pl.read_ndjson(data_path / \"open-sanctions.json\")\n",
    "df1.head(3)"
   ]
  },
  {
   "cell_type": "markdown",
   "metadata": {},
   "source": [
    "Each entity ID from OpenSanctions has a risk classification. This can be useful to associate an ID with a particular risk, allowing us to narrow down on candidates that are relevant to a particular investigation."
   ]
  },
  {
   "cell_type": "code",
   "execution_count": null,
   "metadata": {
    "execution": {
     "iopub.status.busy": "2025-07-28T20:30:45.471826Z",
     "iopub.status.idle": "2025-07-28T20:30:45.471922Z",
     "shell.execute_reply": "2025-07-28T20:30:45.471866Z",
     "shell.execute_reply.started": "2025-07-28T20:30:45.471862Z"
    }
   },
   "outputs": [],
   "source": [
    "# Get risks from OpenSanctions\n",
    "df_risk = os.extract_risks(df1)\n",
    "df_risk.head(3)"
   ]
  },
  {
   "cell_type": "markdown",
   "metadata": {},
   "source": [
    "We're now ready to extract the open sanctions data. The `extract_open_sanctions` function will take the raw data, process the nested fields within it and return the relevant columns that we need for our graph."
   ]
  },
  {
   "cell_type": "code",
   "execution_count": null,
   "metadata": {
    "execution": {
     "iopub.status.busy": "2025-07-28T20:30:45.472411Z",
     "iopub.status.idle": "2025-07-28T20:30:45.472565Z",
     "shell.execute_reply": "2025-07-28T20:30:45.472493Z",
     "shell.execute_reply.started": "2025-07-28T20:30:45.472486Z"
    }
   },
   "outputs": [],
   "source": [
    "df_os = os.extract_open_sanctions(df1)\n",
    "df_os.head(3)"
   ]
  },
  {
   "cell_type": "markdown",
   "metadata": {},
   "source": [
    "Of particular interest for this workshop is the person [\"Abassin Badshah\"](https://find-and-update.company-information.service.gov.uk/disqualified-officers/natural/mGquuTbmESWiRmHJPz1ObUwfDgk), former owner of multiple Papa John's franchises in London, who is disqualified from being a corporate director until 2026, due to his [tax evasion conviction](https://londonnewsonline.co.uk/news/catford-papa-johns-pizza-boss-jailed-after-669000-tax-evasion/) in 2021."
   ]
  },
  {
   "cell_type": "markdown",
   "metadata": {},
   "source": [
    "[Open Ownership](https://www.openownership.org/) describes _ultimate beneficial ownership_ (UBO) details, which provides the \"link\" category of data. In other words, \"Who owns how much of what, and who actually has controlling interest?\""
   ]
  },
  {
   "cell_type": "code",
   "execution_count": null,
   "metadata": {
    "execution": {
     "iopub.status.busy": "2025-07-28T20:30:45.472973Z",
     "iopub.status.idle": "2025-07-28T20:30:45.473081Z",
     "shell.execute_reply": "2025-07-28T20:30:45.473027Z",
     "shell.execute_reply.started": "2025-07-28T20:30:45.473023Z"
    }
   },
   "outputs": [],
   "source": [
    "df2 = pl.read_ndjson(data_path / \"open-ownership.json\")\n",
    "df2.head(3)"
   ]
  },
  {
   "cell_type": "markdown",
   "metadata": {},
   "source": [
    "Just like with the OpenSanctions data, we can use the `extract_open_ownership` function to process the nested JSON data and return the relevant columns that we need for our graph."
   ]
  },
  {
   "cell_type": "code",
   "execution_count": null,
   "metadata": {
    "execution": {
     "iopub.status.busy": "2025-07-28T20:30:45.473562Z",
     "iopub.status.idle": "2025-07-28T20:30:45.473696Z",
     "shell.execute_reply": "2025-07-28T20:30:45.473617Z",
     "shell.execute_reply.started": "2025-07-28T20:30:45.473613Z"
    }
   },
   "outputs": [],
   "source": [
    "df_oo = oo.extract_open_ownership(df2)\n",
    "df_oo.head(3)"
   ]
  },
  {
   "cell_type": "markdown",
   "metadata": {},
   "source": [
    "For the relationships in our graph, we'll need to select only the relationships that have **both** `src_id` and `dst_id` in the list of ids. This is done via the `extract_open_ownership_relationships` function."
   ]
  },
  {
   "cell_type": "code",
   "execution_count": null,
   "metadata": {
    "execution": {
     "iopub.status.busy": "2025-07-28T20:30:45.474224Z",
     "iopub.status.idle": "2025-07-28T20:30:45.474367Z",
     "shell.execute_reply": "2025-07-28T20:30:45.474302Z",
     "shell.execute_reply.started": "2025-07-28T20:30:45.474296Z"
    }
   },
   "outputs": [],
   "source": [
    "ids = df_oo.select(\"id\").to_series().to_list()\n",
    "df_oa_relationships = oo.extract_open_ownership_relationships(df2, open_ownership_ids=ids)\n",
    "df_oa_relationships.head(3)"
   ]
  },
  {
   "cell_type": "code",
   "execution_count": null,
   "metadata": {
    "execution": {
     "iopub.status.busy": "2025-07-28T20:30:45.474782Z",
     "iopub.status.idle": "2025-07-28T20:30:45.474887Z",
     "shell.execute_reply": "2025-07-28T20:30:45.474825Z",
     "shell.execute_reply.started": "2025-07-28T20:30:45.474820Z"
    }
   },
   "outputs": [],
   "source": [
    "sz_export = sz.process_senzing_export(data_path / \"export.json\")"
   ]
  },
  {
   "cell_type": "markdown",
   "metadata": {},
   "source": [
    "This first dataframe `df_ent` lists the entities identified by Senzing _entity resolution_."
   ]
  },
  {
   "cell_type": "code",
   "execution_count": null,
   "metadata": {
    "execution": {
     "iopub.status.busy": "2025-07-28T20:30:45.475274Z",
     "iopub.status.idle": "2025-07-28T20:30:45.475374Z",
     "shell.execute_reply": "2025-07-28T20:30:45.475323Z",
     "shell.execute_reply.started": "2025-07-28T20:30:45.475318Z"
    }
   },
   "outputs": [],
   "source": [
    "df_ent = sz_export.df_ent.sort(\"id\")\n",
    "df_ent.head(3)"
   ]
  },
  {
   "cell_type": "markdown",
   "metadata": {},
   "source": [
    "The `df_rel` dataframe lists probabilistic relationships between entities, also identified by Senzing _entity resolution_. In other words, there isn't sufficient evidence _yet_ to merge these entities; however, there's enough evidence to suggest following these as closely related leads during an investigation."
   ]
  },
  {
   "cell_type": "code",
   "execution_count": null,
   "metadata": {
    "execution": {
     "iopub.status.busy": "2025-07-28T20:30:45.475965Z",
     "iopub.status.idle": "2025-07-28T20:30:45.476343Z",
     "shell.execute_reply": "2025-07-28T20:30:45.476256Z",
     "shell.execute_reply.started": "2025-07-28T20:30:45.476249Z"
    }
   },
   "outputs": [],
   "source": [
    "df_rel = sz_export.df_rel\n",
    "df_rel.head(3)"
   ]
  },
  {
   "cell_type": "markdown",
   "metadata": {},
   "source": [
    "### Separate the Senzing entities by source"
   ]
  },
  {
   "cell_type": "markdown",
   "metadata": {},
   "source": [
    "The final step to preprocess the data for our graph is to separate the entities by their source (whether they come from OpenSanctions or Open Ownership)."
   ]
  },
  {
   "cell_type": "code",
   "execution_count": null,
   "metadata": {
    "execution": {
     "iopub.status.busy": "2025-07-28T20:30:45.476735Z",
     "iopub.status.idle": "2025-07-28T20:30:45.476853Z",
     "shell.execute_reply": "2025-07-28T20:30:45.476783Z",
     "shell.execute_reply.started": "2025-07-28T20:30:45.476779Z"
    }
   },
   "outputs": [],
   "source": [
    "df_sz_oo = sz_export.df_rec.filter(pl.col(\"source\") == \"OPEN-OWNERSHIP\").select(\"ent_id\", \"rec_id\", \"why\", \"level\")\n",
    "df_sz_oo.head(3)"
   ]
  },
  {
   "cell_type": "code",
   "execution_count": null,
   "metadata": {
    "execution": {
     "iopub.status.busy": "2025-07-28T20:30:45.477453Z",
     "iopub.status.idle": "2025-07-28T20:30:45.477583Z",
     "shell.execute_reply": "2025-07-28T20:30:45.477499Z",
     "shell.execute_reply.started": "2025-07-28T20:30:45.477495Z"
    }
   },
   "outputs": [],
   "source": [
    "df_sz_os = sz_export.df_rec.filter(pl.col(\"source\") == \"OPEN-SANCTIONS\").select(\"ent_id\", \"rec_id\", \"why\", \"level\")\n",
    "df_sz_os.head(3)"
   ]
  },
  {
   "cell_type": "markdown",
   "metadata": {},
   "source": [
    "## Extract one fraud network"
   ]
  },
  {
   "cell_type": "code",
   "execution_count": 4,
   "metadata": {
    "execution": {
     "iopub.execute_input": "2025-07-28T20:31:12.068686Z",
     "iopub.status.busy": "2025-07-28T20:31:12.068368Z",
     "iopub.status.idle": "2025-07-28T20:31:12.112339Z",
     "shell.execute_reply": "2025-07-28T20:31:12.111940Z",
     "shell.execute_reply.started": "2025-07-28T20:31:12.068666Z"
    }
   },
   "outputs": [],
   "source": [
    "DB_PATH = \"./db\"\n",
    "\n",
    "db = kuzu.Database(DB_PATH)\n",
    "conn = kuzu.Connection(db)"
   ]
  },
  {
   "cell_type": "markdown",
   "metadata": {},
   "source": [
    "Create a yFiles graph widget so we can explore our graph interactively"
   ]
  },
  {
   "cell_type": "code",
   "execution_count": 5,
   "metadata": {
    "execution": {
     "iopub.execute_input": "2025-07-28T20:31:20.710794Z",
     "iopub.status.busy": "2025-07-28T20:31:20.710362Z",
     "iopub.status.idle": "2025-07-28T20:31:20.714173Z",
     "shell.execute_reply": "2025-07-28T20:31:20.713467Z",
     "shell.execute_reply.started": "2025-07-28T20:31:20.710770Z"
    }
   },
   "outputs": [],
   "source": [
    "g = KuzuGraphWidget(conn)"
   ]
  },
  {
   "cell_type": "code",
   "execution_count": 6,
   "metadata": {
    "execution": {
     "iopub.execute_input": "2025-07-28T20:31:22.059459Z",
     "iopub.status.busy": "2025-07-28T20:31:22.059116Z",
     "iopub.status.idle": "2025-07-28T20:31:22.111452Z",
     "shell.execute_reply": "2025-07-28T20:31:22.111166Z",
     "shell.execute_reply.started": "2025-07-28T20:31:22.059436Z"
    }
   },
   "outputs": [
    {
     "data": {
      "application/vnd.jupyter.widget-view+json": {
       "model_id": "8df173ce5f5240e2b14f3ba2d86a3198",
       "version_major": 2,
       "version_minor": 0
      },
      "text/plain": [
       "GraphWidget(layout=Layout(height='650px', width='100%'))"
      ]
     },
     "metadata": {},
     "output_type": "display_data"
    }
   ],
   "source": [
    "g.show_cypher(\n",
    "    \"\"\"\n",
    "    MATCH (a:Entity)-[b *1..3]->(c)\n",
    "    WHERE a.descrip CONTAINS \"Abassin\"\n",
    "    RETURN * LIMIT 100;\n",
    "    \"\"\",\n",
    "    layout=\"radial\"\n",
    ")"
   ]
  },
  {
   "cell_type": "markdown",
   "metadata": {},
   "source": [
    "Now let's extract the shell companies in this particular fraud network"
   ]
  },
  {
   "cell_type": "code",
   "execution_count": 7,
   "metadata": {
    "execution": {
     "iopub.execute_input": "2025-07-28T20:31:24.095373Z",
     "iopub.status.busy": "2025-07-28T20:31:24.094988Z",
     "iopub.status.idle": "2025-07-28T20:31:24.325740Z",
     "shell.execute_reply": "2025-07-28T20:31:24.325358Z",
     "shell.execute_reply.started": "2025-07-28T20:31:24.095345Z"
    }
   },
   "outputs": [
    {
     "name": "stderr",
     "output_type": "stream",
     "text": [
      "ic| shells: {'BARLLOWS SERVICES LTD': ['3 Market Parade, 41 East Street, Bromley, BR1 1QN',\n",
      "                                       '31 Quernmore Close, Bromley, Kent, United Kingdom, '\n",
      "                                       'BR1 4EL'],\n",
      "             'LMAR (GB) LTD': ['31 Quernmore Close, Bromley, Kent, United Kingdom, BR1 '\n",
      "                               '4EL'],\n",
      "             'WELLHANCIA HEALTH CARE LTD': ['31 Quernmore Close, Bromley, BR1 4EL']}\n"
     ]
    }
   ],
   "source": [
    "res = conn.execute(\n",
    "    \"\"\"\n",
    "    MATCH (a:Entity)-[b *1..3]->(c)\n",
    "    WHERE a.descrip CONTAINS \"Abassin\"\n",
    "      AND c.kind = \"ORGANIZATION\"\n",
    "    RETURN c.name, COLLECT(DISTINCT c.addr)\n",
    "    LIMIT 10;\n",
    "    \"\"\"\n",
    ")\n",
    "\n",
    "shells: dict = {\n",
    "    row[0]: row[1]\n",
    "    for row in res.get_as_pl().iter_rows()\n",
    "}\n",
    "\n",
    "ic(shells);"
   ]
  }
 ],
 "metadata": {
  "kernelspec": {
   "display_name": "Python 3 (ipykernel)",
   "language": "python",
   "name": "python3"
  },
  "language_info": {
   "codemirror_mode": {
    "name": "ipython",
    "version": 3
   },
   "file_extension": ".py",
   "mimetype": "text/x-python",
   "name": "python",
   "nbconvert_exporter": "python",
   "pygments_lexer": "ipython3",
   "version": "3.13.3"
  }
 },
 "nbformat": 4,
 "nbformat_minor": 4
}
