{
 "cells": [
  {
   "cell_type": "markdown",
   "metadata": {},
   "source": [
    "# How to get started in Money Laundering"
   ]
  },
  {
   "cell_type": "markdown",
   "metadata": {},
   "source": [
    "## Set up the environment"
   ]
  },
  {
   "cell_type": "code",
   "execution_count": 1,
   "metadata": {
    "execution": {
     "iopub.execute_input": "2025-08-11T19:43:23.217988Z",
     "iopub.status.busy": "2025-08-11T19:43:23.217678Z",
     "iopub.status.idle": "2025-08-11T19:43:23.753549Z",
     "shell.execute_reply": "2025-08-11T19:43:23.753297Z",
     "shell.execute_reply.started": "2025-08-11T19:43:23.217966Z"
    }
   },
   "outputs": [],
   "source": [
    "from collections import defaultdict\n",
    "from datetime import datetime, timedelta\n",
    "import itertools\n",
    "import statistics\n",
    "import typing\n",
    "\n",
    "from icecream import ic\n",
    "from yfiles_jupyter_graphs_for_kuzu import KuzuGraphWidget\n",
    "import kuzu\n",
    "import matplotlib.pyplot as plt\n",
    "import networkx as nx\n",
    "import numpy as np\n",
    "import polars as pl\n",
    "import pyvis\n",
    "import seaborn as sns\n",
    "import watermark\n",
    "\n",
    "from aml import Simulation"
   ]
  },
  {
   "cell_type": "code",
   "execution_count": 2,
   "metadata": {
    "execution": {
     "iopub.execute_input": "2025-08-11T19:43:23.753965Z",
     "iopub.status.busy": "2025-08-11T19:43:23.753837Z",
     "iopub.status.idle": "2025-08-11T19:43:23.767228Z",
     "shell.execute_reply": "2025-08-11T19:43:23.767014Z",
     "shell.execute_reply.started": "2025-08-11T19:43:23.753957Z"
    }
   },
   "outputs": [
    {
     "name": "stdout",
     "output_type": "stream",
     "text": [
      "Last updated: 2025-08-11T12:43:23.754571-07:00\n",
      "\n",
      "Python implementation: CPython\n",
      "Python version       : 3.13.3\n",
      "IPython version      : 9.1.0\n",
      "\n",
      "Compiler    : Clang 16.0.0 (clang-1600.0.26.6)\n",
      "OS          : Darwin\n",
      "Release     : 24.5.0\n",
      "Machine     : arm64\n",
      "Processor   : arm\n",
      "CPU cores   : 14\n",
      "Architecture: 64bit\n",
      "\n",
      "polars                        : 1.29.0\n",
      "kuzu                          : 0.9.0\n",
      "yfiles_jupyter_graphs_for_kuzu: 0.0.4\n",
      "matplotlib                    : 3.10.5\n",
      "networkx                      : 3.4.2\n",
      "numpy                         : 2.3.2\n",
      "seaborn                       : 0.13.2\n",
      "pyvis                         : 0.3.2\n",
      "watermark                     : 2.5.0\n",
      "\n"
     ]
    }
   ],
   "source": [
    "%load_ext watermark\n",
    "%watermark\n",
    "%watermark --iversions"
   ]
  },
  {
   "cell_type": "markdown",
   "metadata": {
    "jp-MarkdownHeadingCollapsed": true
   },
   "source": [
    "## Extract one fraud network"
   ]
  },
  {
   "cell_type": "markdown",
   "metadata": {},
   "source": [
    "Be sure to run the `create_graph.ipynb` notebook at least once first.\n",
    "\n",
    "Then be sure to **shutdown** the `create_graph.ipynb` notebook after running it."
   ]
  },
  {
   "cell_type": "code",
   "execution_count": 3,
   "metadata": {
    "execution": {
     "iopub.execute_input": "2025-08-11T19:43:23.767672Z",
     "iopub.status.busy": "2025-08-11T19:43:23.767600Z",
     "iopub.status.idle": "2025-08-11T19:43:23.794557Z",
     "shell.execute_reply": "2025-08-11T19:43:23.794258Z",
     "shell.execute_reply.started": "2025-08-11T19:43:23.767663Z"
    }
   },
   "outputs": [],
   "source": [
    "DB_PATH = \"./db\"\n",
    "\n",
    "db = kuzu.Database(DB_PATH)\n",
    "conn = kuzu.Connection(db)"
   ]
  },
  {
   "cell_type": "markdown",
   "metadata": {},
   "source": [
    "Create a yFiles graph widget so we can explore our graph interactively"
   ]
  },
  {
   "cell_type": "code",
   "execution_count": 4,
   "metadata": {
    "execution": {
     "iopub.execute_input": "2025-08-11T19:43:23.794978Z",
     "iopub.status.busy": "2025-08-11T19:43:23.794911Z",
     "iopub.status.idle": "2025-08-11T19:43:23.796837Z",
     "shell.execute_reply": "2025-08-11T19:43:23.796561Z",
     "shell.execute_reply.started": "2025-08-11T19:43:23.794972Z"
    }
   },
   "outputs": [],
   "source": [
    "g = KuzuGraphWidget(conn)"
   ]
  },
  {
   "cell_type": "code",
   "execution_count": 5,
   "metadata": {
    "execution": {
     "iopub.execute_input": "2025-08-11T19:43:23.797569Z",
     "iopub.status.busy": "2025-08-11T19:43:23.797391Z",
     "iopub.status.idle": "2025-08-11T19:43:23.826720Z",
     "shell.execute_reply": "2025-08-11T19:43:23.826471Z",
     "shell.execute_reply.started": "2025-08-11T19:43:23.797557Z"
    }
   },
   "outputs": [
    {
     "data": {
      "application/vnd.jupyter.widget-view+json": {
       "model_id": "02ce04cd8b124873b12e18f787a35577",
       "version_major": 2,
       "version_minor": 0
      },
      "text/plain": [
       "GraphWidget(layout=Layout(height='650px', width='100%'))"
      ]
     },
     "metadata": {},
     "output_type": "display_data"
    }
   ],
   "source": [
    "g.show_cypher(\n",
    "    \"\"\"\n",
    "    MATCH (a:Entity)-[b *1..3]->(c)\n",
    "    WHERE a.descrip CONTAINS \"Abassin\"\n",
    "    RETURN * LIMIT 100;\n",
    "    \"\"\",\n",
    "    layout=\"radial\"\n",
    ")"
   ]
  },
  {
   "cell_type": "markdown",
   "metadata": {},
   "source": [
    "Now let's extract the shell companies in this particular fraud network"
   ]
  },
  {
   "cell_type": "code",
   "execution_count": 6,
   "metadata": {
    "execution": {
     "iopub.execute_input": "2025-08-11T19:43:23.828406Z",
     "iopub.status.busy": "2025-08-11T19:43:23.828308Z",
     "iopub.status.idle": "2025-08-11T19:43:24.029757Z",
     "shell.execute_reply": "2025-08-11T19:43:24.029507Z",
     "shell.execute_reply.started": "2025-08-11T19:43:23.828399Z"
    }
   },
   "outputs": [
    {
     "name": "stderr",
     "output_type": "stream",
     "text": [
      "ic| shells: {'BARLLOWS SERVICES LTD': ['3 Market Parade, 41 East Street, Bromley, BR1 1QN',\n",
      "                                       '31 Quernmore Close, Bromley, Kent, United Kingdom, '\n",
      "                                       'BR1 4EL'],\n",
      "             'LMAR (GB) LTD': ['31 Quernmore Close, Bromley, Kent, United Kingdom, BR1 '\n",
      "                               '4EL'],\n",
      "             'WELLHANCIA HEALTH CARE LTD': ['31 Quernmore Close, Bromley, BR1 4EL']}\n"
     ]
    }
   ],
   "source": [
    "res = conn.execute(\n",
    "    \"\"\"\n",
    "    MATCH (a:Entity)-[b *1..3]->(c)\n",
    "    WHERE a.descrip CONTAINS \"Abassin\"\n",
    "      AND c.kind = \"ORGANIZATION\"\n",
    "    RETURN c.name, COLLECT(DISTINCT c.addr)\n",
    "    LIMIT 100;\n",
    "    \"\"\"\n",
    ")\n",
    "\n",
    "shells: dict = {\n",
    "    row[0]: row[1]\n",
    "    for row in res.get_as_pl().iter_rows()\n",
    "}\n",
    "\n",
    "ic(shells);"
   ]
  },
  {
   "cell_type": "markdown",
   "metadata": {
    "jp-MarkdownHeadingCollapsed": true
   },
   "source": [
    "## Generate synthetic data for bank transactions"
   ]
  },
  {
   "cell_type": "code",
   "execution_count": 7,
   "metadata": {
    "execution": {
     "iopub.execute_input": "2025-08-11T19:43:24.030220Z",
     "iopub.status.busy": "2025-08-11T19:43:24.030141Z",
     "iopub.status.idle": "2025-08-11T19:43:24.032108Z",
     "shell.execute_reply": "2025-08-11T19:43:24.031861Z",
     "shell.execute_reply.started": "2025-08-11T19:43:24.030212Z"
    }
   },
   "outputs": [],
   "source": [
    "sim: Simulation = Simulation()\n",
    "sim.gen_shell_corps(shells)"
   ]
  },
  {
   "cell_type": "markdown",
   "metadata": {},
   "source": [
    "Simulate a \"layering\" phase a few times, followed by \"deals\" which drain the accounts to cash out."
   ]
  },
  {
   "cell_type": "code",
   "execution_count": 8,
   "metadata": {
    "execution": {
     "iopub.execute_input": "2025-08-11T19:43:24.032471Z",
     "iopub.status.busy": "2025-08-11T19:43:24.032410Z",
     "iopub.status.idle": "2025-08-11T19:43:24.034908Z",
     "shell.execute_reply": "2025-08-11T19:43:24.034567Z",
     "shell.execute_reply.started": "2025-08-11T19:43:24.032465Z"
    }
   },
   "outputs": [],
   "source": [
    "PRESS_YOUR_LUCK: int = 3\n",
    "\n",
    "for _ in range(PRESS_YOUR_LUCK):\n",
    "    sim.layer_rmf()\n",
    "\n",
    "sim.drain_into_deals()"
   ]
  },
  {
   "cell_type": "markdown",
   "metadata": {},
   "source": [
    "Export the synthetic data as a DataFrame"
   ]
  },
  {
   "cell_type": "code",
   "execution_count": 9,
   "metadata": {
    "execution": {
     "iopub.execute_input": "2025-08-11T19:43:24.035380Z",
     "iopub.status.busy": "2025-08-11T19:43:24.035301Z",
     "iopub.status.idle": "2025-08-11T19:43:24.039002Z",
     "shell.execute_reply": "2025-08-11T19:43:24.038778Z",
     "shell.execute_reply.started": "2025-08-11T19:43:24.035374Z"
    },
    "scrolled": true
   },
   "outputs": [
    {
     "data": {
      "text/html": [
       "<div><style>\n",
       ".dataframe > thead > tr,\n",
       ".dataframe > tbody > tr {\n",
       "  text-align: right;\n",
       "  white-space: pre-wrap;\n",
       "}\n",
       "</style>\n",
       "<small>shape: (5, 5)</small><table border=\"1\" class=\"dataframe\"><thead><tr><th>date</th><th>amount</th><th>remitter</th><th>receiver</th><th>descript</th></tr><tr><td>str</td><td>f64</td><td>str</td><td>str</td><td>str</td></tr></thead><tbody><tr><td>&quot;2025-08-12T12:43:23.752254&quot;</td><td>38000.0</td><td>&quot;Pulaski Savings&quot;</td><td>&quot;LMAR (GB) LTD&quot;</td><td>&quot;local deposit&quot;</td></tr><tr><td>&quot;2025-08-12T12:43:23.752254&quot;</td><td>33000.0</td><td>&quot;Ranchlander National Bank&quot;</td><td>&quot;WELLHANCIA HEALTH CARE LTD&quot;</td><td>&quot;local deposit&quot;</td></tr><tr><td>&quot;2025-08-15T12:43:23.752254&quot;</td><td>53000.0</td><td>&quot;Pulaski Savings&quot;</td><td>&quot;LMAR (GB) LTD&quot;</td><td>&quot;local deposit&quot;</td></tr><tr><td>&quot;2025-08-15T12:43:23.752254&quot;</td><td>49000.0</td><td>&quot;Banca Socială&quot;</td><td>&quot;BARLLOWS SERVICES LTD&quot;</td><td>&quot;local deposit&quot;</td></tr><tr><td>&quot;2025-08-15T12:43:23.752254&quot;</td><td>35000.0</td><td>&quot;Banca Socială&quot;</td><td>&quot;BARLLOWS SERVICES LTD&quot;</td><td>&quot;local deposit&quot;</td></tr></tbody></table></div>"
      ],
      "text/plain": [
       "shape: (5, 5)\n",
       "┌────────────────────────┬─────────┬───────────────────────┬───────────────────────┬───────────────┐\n",
       "│ date                   ┆ amount  ┆ remitter              ┆ receiver              ┆ descript      │\n",
       "│ ---                    ┆ ---     ┆ ---                   ┆ ---                   ┆ ---           │\n",
       "│ str                    ┆ f64     ┆ str                   ┆ str                   ┆ str           │\n",
       "╞════════════════════════╪═════════╪═══════════════════════╪═══════════════════════╪═══════════════╡\n",
       "│ 2025-08-12T12:43:23.75 ┆ 38000.0 ┆ Pulaski Savings       ┆ LMAR (GB) LTD         ┆ local deposit │\n",
       "│ 2254                   ┆         ┆                       ┆                       ┆               │\n",
       "│ 2025-08-12T12:43:23.75 ┆ 33000.0 ┆ Ranchlander National  ┆ WELLHANCIA HEALTH     ┆ local deposit │\n",
       "│ 2254                   ┆         ┆ Bank                  ┆ CARE LTD              ┆               │\n",
       "│ 2025-08-15T12:43:23.75 ┆ 53000.0 ┆ Pulaski Savings       ┆ LMAR (GB) LTD         ┆ local deposit │\n",
       "│ 2254                   ┆         ┆                       ┆                       ┆               │\n",
       "│ 2025-08-15T12:43:23.75 ┆ 49000.0 ┆ Banca Socială         ┆ BARLLOWS SERVICES LTD ┆ local deposit │\n",
       "│ 2254                   ┆         ┆                       ┆                       ┆               │\n",
       "│ 2025-08-15T12:43:23.75 ┆ 35000.0 ┆ Banca Socială         ┆ BARLLOWS SERVICES LTD ┆ local deposit │\n",
       "│ 2254                   ┆         ┆                       ┆                       ┆               │\n",
       "└────────────────────────┴─────────┴───────────────────────┴───────────────────────┴───────────────┘"
      ]
     },
     "execution_count": 9,
     "metadata": {},
     "output_type": "execute_result"
    }
   ],
   "source": [
    "pl.Config.set_tbl_rows(-1)\n",
    "\n",
    "df: pl.DataFrame = sim.get_xact_df()\n",
    "df.head()"
   ]
  },
  {
   "cell_type": "markdown",
   "metadata": {
    "jp-MarkdownHeadingCollapsed": true
   },
   "source": [
    "## Construct a graph of transactions among companies"
   ]
  },
  {
   "cell_type": "markdown",
   "metadata": {},
   "source": [
    "Construct a graph of the transactions between companies."
   ]
  },
  {
   "cell_type": "code",
   "execution_count": 10,
   "metadata": {
    "execution": {
     "iopub.execute_input": "2025-08-11T19:43:24.039525Z",
     "iopub.status.busy": "2025-08-11T19:43:24.039457Z",
     "iopub.status.idle": "2025-08-11T19:43:24.042055Z",
     "shell.execute_reply": "2025-08-11T19:43:24.041857Z",
     "shell.execute_reply.started": "2025-08-11T19:43:24.039519Z"
    }
   },
   "outputs": [],
   "source": [
    "graph: nx.DiGraph = nx.DiGraph()\n",
    "node_names: list = []\n",
    "edge_xact: dict = defaultdict(list)\n",
    "\n",
    "for row in df.rows(named = True):\n",
    "    src_label: str = row[\"remitter\"]\n",
    "    dst_label: str = row[\"receiver\"]\n",
    "\n",
    "    if src_label not in node_names:\n",
    "        node_names.append(src_label)\n",
    "        src_id: int = node_names.index(src_label)\n",
    "\n",
    "        graph.add_node(\n",
    "            src_id,\n",
    "            name = src_label,\n",
    "        )            \n",
    "    else:\n",
    "        src_id = node_names.index(src_label)\n",
    "\n",
    "    if dst_label not in node_names:\n",
    "        node_names.append(dst_label)\n",
    "        dst_id: int = node_names.index(dst_label)\n",
    "\n",
    "        graph.add_node(\n",
    "            dst_id,\n",
    "            name = dst_label,\n",
    "        )\n",
    "    else:\n",
    "        dst_id = node_names.index(dst_label)\n",
    "\n",
    "    graph.add_edge(\n",
    "        src_id,\n",
    "        dst_id,\n",
    "    )\n",
    "\n",
    "    edge_xact[ (src_id, dst_id) ].append({\n",
    "        \"amount\": row[\"amount\"],\n",
    "        \"date\": datetime.fromisoformat(str(row[\"date\"])),\n",
    "        \"descript\": row[\"descript\"],\n",
    "    })    "
   ]
  },
  {
   "cell_type": "markdown",
   "metadata": {},
   "source": [
    "## Summary statistics"
   ]
  },
  {
   "cell_type": "markdown",
   "metadata": {},
   "source": [
    "Use descriptive statistics to get a summary analysis of the transactions."
   ]
  },
  {
   "cell_type": "code",
   "execution_count": 11,
   "metadata": {
    "execution": {
     "iopub.execute_input": "2025-08-11T19:43:24.042585Z",
     "iopub.status.busy": "2025-08-11T19:43:24.042520Z",
     "iopub.status.idle": "2025-08-11T19:43:24.045897Z",
     "shell.execute_reply": "2025-08-11T19:43:24.045698Z",
     "shell.execute_reply.started": "2025-08-11T19:43:24.042579Z"
    }
   },
   "outputs": [
    {
     "data": {
      "text/html": [
       "<div><style>\n",
       ".dataframe > thead > tr,\n",
       ".dataframe > tbody > tr {\n",
       "  text-align: right;\n",
       "  white-space: pre-wrap;\n",
       "}\n",
       "</style>\n",
       "<small>shape: (9, 6)</small><table border=\"1\" class=\"dataframe\"><thead><tr><th>statistic</th><th>date</th><th>amount</th><th>remitter</th><th>receiver</th><th>descript</th></tr><tr><td>str</td><td>str</td><td>f64</td><td>str</td><td>str</td><td>str</td></tr></thead><tbody><tr><td>&quot;count&quot;</td><td>&quot;45&quot;</td><td>45.0</td><td>&quot;45&quot;</td><td>&quot;45&quot;</td><td>&quot;45&quot;</td></tr><tr><td>&quot;null_count&quot;</td><td>&quot;0&quot;</td><td>0.0</td><td>&quot;0&quot;</td><td>&quot;0&quot;</td><td>&quot;0&quot;</td></tr><tr><td>&quot;mean&quot;</td><td>null</td><td>43682.387556</td><td>null</td><td>null</td><td>null</td></tr><tr><td>&quot;std&quot;</td><td>null</td><td>11541.572536</td><td>null</td><td>null</td><td>null</td></tr><tr><td>&quot;min&quot;</td><td>&quot;2025-08-12T12:43:23.752254&quot;</td><td>2864.11</td><td>&quot;Amazon Marketplace&quot;</td><td>&quot;BARLLOWS SERVICES LTD&quot;</td><td>&quot;investment&quot;</td></tr><tr><td>&quot;25%&quot;</td><td>null</td><td>38000.0</td><td>null</td><td>null</td><td>null</td></tr><tr><td>&quot;50%&quot;</td><td>null</td><td>45000.0</td><td>null</td><td>null</td><td>null</td></tr><tr><td>&quot;75%&quot;</td><td>null</td><td>53000.0</td><td>null</td><td>null</td><td>null</td></tr><tr><td>&quot;max&quot;</td><td>&quot;2026-03-11T12:43:23.752254&quot;</td><td>62000.0</td><td>&quot;WELLHANCIA HEALTH CARE LTD&quot;</td><td>&quot;WELLHANCIA HEALTH CARE LTD&quot;</td><td>&quot;local deposit&quot;</td></tr></tbody></table></div>"
      ],
      "text/plain": [
       "shape: (9, 6)\n",
       "┌────────────┬──────────────────┬──────────────┬─────────────────┬─────────────────┬───────────────┐\n",
       "│ statistic  ┆ date             ┆ amount       ┆ remitter        ┆ receiver        ┆ descript      │\n",
       "│ ---        ┆ ---              ┆ ---          ┆ ---             ┆ ---             ┆ ---           │\n",
       "│ str        ┆ str              ┆ f64          ┆ str             ┆ str             ┆ str           │\n",
       "╞════════════╪══════════════════╪══════════════╪═════════════════╪═════════════════╪═══════════════╡\n",
       "│ count      ┆ 45               ┆ 45.0         ┆ 45              ┆ 45              ┆ 45            │\n",
       "│ null_count ┆ 0                ┆ 0.0          ┆ 0               ┆ 0               ┆ 0             │\n",
       "│ mean       ┆ null             ┆ 43682.387556 ┆ null            ┆ null            ┆ null          │\n",
       "│ std        ┆ null             ┆ 11541.572536 ┆ null            ┆ null            ┆ null          │\n",
       "│ min        ┆ 2025-08-12T12:43 ┆ 2864.11      ┆ Amazon          ┆ BARLLOWS        ┆ investment    │\n",
       "│            ┆ :23.752254       ┆              ┆ Marketplace     ┆ SERVICES LTD    ┆               │\n",
       "│ 25%        ┆ null             ┆ 38000.0      ┆ null            ┆ null            ┆ null          │\n",
       "│ 50%        ┆ null             ┆ 45000.0      ┆ null            ┆ null            ┆ null          │\n",
       "│ 75%        ┆ null             ┆ 53000.0      ┆ null            ┆ null            ┆ null          │\n",
       "│ max        ┆ 2026-03-11T12:43 ┆ 62000.0      ┆ WELLHANCIA      ┆ WELLHANCIA      ┆ local deposit │\n",
       "│            ┆ :23.752254       ┆              ┆ HEALTH CARE LTD ┆ HEALTH CARE LTD ┆               │\n",
       "└────────────┴──────────────────┴──────────────┴─────────────────┴─────────────────┴───────────────┘"
      ]
     },
     "execution_count": 11,
     "metadata": {},
     "output_type": "execute_result"
    }
   ],
   "source": [
    "df.describe()"
   ]
  },
  {
   "cell_type": "markdown",
   "metadata": {},
   "source": [
    "How much money was transferred in total?"
   ]
  },
  {
   "cell_type": "code",
   "execution_count": 12,
   "metadata": {
    "execution": {
     "iopub.execute_input": "2025-08-11T19:43:24.046412Z",
     "iopub.status.busy": "2025-08-11T19:43:24.046348Z",
     "iopub.status.idle": "2025-08-11T19:43:24.048193Z",
     "shell.execute_reply": "2025-08-11T19:43:24.047935Z",
     "shell.execute_reply.started": "2025-08-11T19:43:24.046405Z"
    }
   },
   "outputs": [
    {
     "name": "stdout",
     "output_type": "stream",
     "text": [
      "total amount: $1.97M\n"
     ]
    }
   ],
   "source": [
    "total_amount: float = round(float(df[\"amount\"].sum()) / 10**6, 2)\n",
    "print(f\"total amount: ${total_amount}M\")"
   ]
  },
  {
   "cell_type": "markdown",
   "metadata": {},
   "source": [
    "## Simple forensic accounting applied"
   ]
  },
  {
   "cell_type": "markdown",
   "metadata": {},
   "source": [
    "Summarize the transactions, while analyzing inter-arrival times and total amounts transferred among pairs of companies."
   ]
  },
  {
   "cell_type": "code",
   "execution_count": 13,
   "metadata": {
    "execution": {
     "iopub.execute_input": "2025-08-11T19:43:24.048716Z",
     "iopub.status.busy": "2025-08-11T19:43:24.048629Z",
     "iopub.status.idle": "2025-08-11T19:43:24.051800Z",
     "shell.execute_reply": "2025-08-11T19:43:24.051561Z",
     "shell.execute_reply.started": "2025-08-11T19:43:24.048709Z"
    }
   },
   "outputs": [
    {
     "data": {
      "text/html": [
       "<div><style>\n",
       ".dataframe > thead > tr,\n",
       ".dataframe > tbody > tr {\n",
       "  text-align: right;\n",
       "  white-space: pre-wrap;\n",
       "}\n",
       "</style>\n",
       "<small>shape: (5, 4)</small><table border=\"1\" class=\"dataframe\"><thead><tr><th>src_id</th><th>dst_id</th><th>median_amount</th><th>total_amount</th></tr><tr><td>i64</td><td>i64</td><td>f64</td><td>f64</td></tr></thead><tbody><tr><td>0</td><td>1</td><td>39000.0</td><td>228000.0</td></tr><tr><td>2</td><td>3</td><td>39000.0</td><td>78000.0</td></tr><tr><td>4</td><td>5</td><td>50000.0</td><td>190000.0</td></tr><tr><td>6</td><td>1</td><td>37500.0</td><td>75000.0</td></tr><tr><td>1</td><td>3</td><td>36827.31</td><td>73654.62</td></tr></tbody></table></div>"
      ],
      "text/plain": [
       "shape: (5, 4)\n",
       "┌────────┬────────┬───────────────┬──────────────┐\n",
       "│ src_id ┆ dst_id ┆ median_amount ┆ total_amount │\n",
       "│ ---    ┆ ---    ┆ ---           ┆ ---          │\n",
       "│ i64    ┆ i64    ┆ f64           ┆ f64          │\n",
       "╞════════╪════════╪═══════════════╪══════════════╡\n",
       "│ 0      ┆ 1      ┆ 39000.0       ┆ 228000.0     │\n",
       "│ 2      ┆ 3      ┆ 39000.0       ┆ 78000.0      │\n",
       "│ 4      ┆ 5      ┆ 50000.0       ┆ 190000.0     │\n",
       "│ 6      ┆ 1      ┆ 37500.0       ┆ 75000.0      │\n",
       "│ 1      ┆ 3      ┆ 36827.31      ┆ 73654.62     │\n",
       "└────────┴────────┴───────────────┴──────────────┘"
      ]
     },
     "execution_count": 13,
     "metadata": {},
     "output_type": "execute_result"
    }
   ],
   "source": [
    "summary_data: list = []\n",
    "timing_data: list = []\n",
    "\n",
    "for edge, dat in edge_xact.items():        \n",
    "    dates: list = sorted([\n",
    "        xact[\"date\"]\n",
    "        for xact in dat\n",
    "    ], reverse = False)\n",
    "\n",
    "    inter_arrival: list = [\n",
    "        (pair[1] - pair[0]).days\n",
    "        for pair in itertools.pairwise(dates)\n",
    "    ]\n",
    "\n",
    "    timing_data.extend(inter_arrival)\n",
    "\n",
    "    amounts: list = [\n",
    "        xact[\"amount\"]\n",
    "        for xact in dat\n",
    "    ]\n",
    "\n",
    "    summary_data.append({\n",
    "        \"src_id\": edge[0],\n",
    "        \"dst_id\": edge[1],\n",
    "        \"median_amount\": round(statistics.median(amounts), 2),\n",
    "        \"total_amount\": sum(amounts),\n",
    "    })\n",
    "\n",
    "df_summary: pl.DataFrame = pl.DataFrame(\n",
    "    summary_data,\n",
    ")\n",
    "\n",
    "df_summary.head()"
   ]
  },
  {
   "cell_type": "code",
   "execution_count": 14,
   "metadata": {
    "execution": {
     "iopub.execute_input": "2025-08-11T19:43:24.052284Z",
     "iopub.status.busy": "2025-08-11T19:43:24.052224Z",
     "iopub.status.idle": "2025-08-11T19:43:24.055149Z",
     "shell.execute_reply": "2025-08-11T19:43:24.054900Z",
     "shell.execute_reply.started": "2025-08-11T19:43:24.052278Z"
    }
   },
   "outputs": [
    {
     "data": {
      "text/html": [
       "<div><style>\n",
       ".dataframe > thead > tr,\n",
       ".dataframe > tbody > tr {\n",
       "  text-align: right;\n",
       "  white-space: pre-wrap;\n",
       "}\n",
       "</style>\n",
       "<small>shape: (9, 5)</small><table border=\"1\" class=\"dataframe\"><thead><tr><th>statistic</th><th>src_id</th><th>dst_id</th><th>median_amount</th><th>total_amount</th></tr><tr><td>str</td><td>f64</td><td>f64</td><td>f64</td><td>f64</td></tr></thead><tbody><tr><td>&quot;count&quot;</td><td>26.0</td><td>26.0</td><td>26.0</td><td>26.0</td></tr><tr><td>&quot;null_count&quot;</td><td>0.0</td><td>0.0</td><td>0.0</td><td>0.0</td></tr><tr><td>&quot;mean&quot;</td><td>2.923077</td><td>7.423077</td><td>44368.494615</td><td>75604.132308</td></tr><tr><td>&quot;std&quot;</td><td>1.958021</td><td>4.640458</td><td>11135.574492</td><td>53673.464882</td></tr><tr><td>&quot;min&quot;</td><td>0.0</td><td>1.0</td><td>2864.11</td><td>2864.11</td></tr><tr><td>&quot;25%&quot;</td><td>1.0</td><td>3.0</td><td>39000.0</td><td>45434.11</td></tr><tr><td>&quot;50%&quot;</td><td>3.0</td><td>8.0</td><td>45434.11</td><td>54000.0</td></tr><tr><td>&quot;75%&quot;</td><td>5.0</td><td>11.0</td><td>51000.0</td><td>75000.0</td></tr><tr><td>&quot;max&quot;</td><td>7.0</td><td>15.0</td><td>60000.0</td><td>228000.0</td></tr></tbody></table></div>"
      ],
      "text/plain": [
       "shape: (9, 5)\n",
       "┌────────────┬──────────┬──────────┬───────────────┬──────────────┐\n",
       "│ statistic  ┆ src_id   ┆ dst_id   ┆ median_amount ┆ total_amount │\n",
       "│ ---        ┆ ---      ┆ ---      ┆ ---           ┆ ---          │\n",
       "│ str        ┆ f64      ┆ f64      ┆ f64           ┆ f64          │\n",
       "╞════════════╪══════════╪══════════╪═══════════════╪══════════════╡\n",
       "│ count      ┆ 26.0     ┆ 26.0     ┆ 26.0          ┆ 26.0         │\n",
       "│ null_count ┆ 0.0      ┆ 0.0      ┆ 0.0           ┆ 0.0          │\n",
       "│ mean       ┆ 2.923077 ┆ 7.423077 ┆ 44368.494615  ┆ 75604.132308 │\n",
       "│ std        ┆ 1.958021 ┆ 4.640458 ┆ 11135.574492  ┆ 53673.464882 │\n",
       "│ min        ┆ 0.0      ┆ 1.0      ┆ 2864.11       ┆ 2864.11      │\n",
       "│ 25%        ┆ 1.0      ┆ 3.0      ┆ 39000.0       ┆ 45434.11     │\n",
       "│ 50%        ┆ 3.0      ┆ 8.0      ┆ 45434.11      ┆ 54000.0      │\n",
       "│ 75%        ┆ 5.0      ┆ 11.0     ┆ 51000.0       ┆ 75000.0      │\n",
       "│ max        ┆ 7.0      ┆ 15.0     ┆ 60000.0       ┆ 228000.0     │\n",
       "└────────────┴──────────┴──────────┴───────────────┴──────────────┘"
      ]
     },
     "execution_count": 14,
     "metadata": {},
     "output_type": "execute_result"
    }
   ],
   "source": [
    "df_summary.describe()"
   ]
  },
  {
   "cell_type": "code",
   "execution_count": 15,
   "metadata": {
    "execution": {
     "iopub.execute_input": "2025-08-11T19:43:24.055520Z",
     "iopub.status.busy": "2025-08-11T19:43:24.055458Z",
     "iopub.status.idle": "2025-08-11T19:43:24.057235Z",
     "shell.execute_reply": "2025-08-11T19:43:24.056975Z",
     "shell.execute_reply.started": "2025-08-11T19:43:24.055513Z"
    }
   },
   "outputs": [],
   "source": [
    "for node_id in graph.nodes():\n",
    "    graph.nodes[node_id][\"count\"] = 0\n",
    "    graph.nodes[node_id][\"volume\"] = 0\n",
    "    graph.nodes[node_id][\"credits\"] = 0\n",
    "    graph.nodes[node_id][\"debits\"] = 0"
   ]
  },
  {
   "cell_type": "code",
   "execution_count": 16,
   "metadata": {
    "execution": {
     "iopub.execute_input": "2025-08-11T19:43:24.057704Z",
     "iopub.status.busy": "2025-08-11T19:43:24.057639Z",
     "iopub.status.idle": "2025-08-11T19:43:24.059603Z",
     "shell.execute_reply": "2025-08-11T19:43:24.059395Z",
     "shell.execute_reply.started": "2025-08-11T19:43:24.057692Z"
    }
   },
   "outputs": [],
   "source": [
    "for row in df_summary.rows(named = True):\n",
    "    src_id: int = row[\"src_id\"]\n",
    "    dst_id: int = row[\"dst_id\"]\n",
    "    amount: float = float(row[\"total_amount\"])\n",
    "\n",
    "    graph.nodes[src_id][\"count\"] += 1\n",
    "    graph.nodes[src_id][\"volume\"] += amount\n",
    "    graph.nodes[src_id][\"debits\"] += amount\n",
    "\n",
    "    graph.nodes[dst_id][\"count\"] += 1\n",
    "    graph.nodes[dst_id][\"volume\"] += amount\n",
    "    graph.nodes[dst_id][\"credits\"] += amount"
   ]
  },
  {
   "cell_type": "code",
   "execution_count": 17,
   "metadata": {
    "execution": {
     "iopub.execute_input": "2025-08-11T19:43:24.060055Z",
     "iopub.status.busy": "2025-08-11T19:43:24.059983Z",
     "iopub.status.idle": "2025-08-11T19:43:24.061716Z",
     "shell.execute_reply": "2025-08-11T19:43:24.061500Z",
     "shell.execute_reply.started": "2025-08-11T19:43:24.060048Z"
    }
   },
   "outputs": [],
   "source": [
    "for node_id, degree in sorted(nx.degree(graph), key = lambda x: x[1], reverse = True):\n",
    "    graph.nodes[node_id][\"degree\"] = degree"
   ]
  },
  {
   "cell_type": "code",
   "execution_count": 18,
   "metadata": {
    "execution": {
     "iopub.execute_input": "2025-08-11T19:43:24.062153Z",
     "iopub.status.busy": "2025-08-11T19:43:24.062049Z",
     "iopub.status.idle": "2025-08-11T19:43:24.064912Z",
     "shell.execute_reply": "2025-08-11T19:43:24.064666Z",
     "shell.execute_reply.started": "2025-08-11T19:43:24.062143Z"
    }
   },
   "outputs": [
    {
     "data": {
      "text/html": [
       "<div><style>\n",
       ".dataframe > thead > tr,\n",
       ".dataframe > tbody > tr {\n",
       "  text-align: right;\n",
       "  white-space: pre-wrap;\n",
       "}\n",
       "</style>\n",
       "<small>shape: (5, 6)</small><table border=\"1\" class=\"dataframe\"><thead><tr><th>name</th><th>count</th><th>volume</th><th>credits</th><th>debits</th><th>degree</th></tr><tr><td>str</td><td>i64</td><td>f64</td><td>f64</td><td>f64</td><td>i64</td></tr></thead><tbody><tr><td>&quot;Pulaski Savings&quot;</td><td>1</td><td>228000.0</td><td>0.0</td><td>228000.0</td><td>1</td></tr><tr><td>&quot;LMAR (GB) LTD&quot;</td><td>14</td><td>1.0698e6</td><td>473055.34</td><td>596711.87</td><td>14</td></tr><tr><td>&quot;Ranchlander National Bank&quot;</td><td>1</td><td>78000.0</td><td>0.0</td><td>78000.0</td><td>1</td></tr><tr><td>&quot;WELLHANCIA HEALTH CARE LTD&quot;</td><td>9</td><td>515094.69</td><td>199864.12</td><td>315230.57</td><td>9</td></tr><tr><td>&quot;Banca Socială&quot;</td><td>1</td><td>190000.0</td><td>0.0</td><td>190000.0</td><td>1</td></tr></tbody></table></div>"
      ],
      "text/plain": [
       "shape: (5, 6)\n",
       "┌────────────────────────────┬───────┬───────────┬───────────┬───────────┬────────┐\n",
       "│ name                       ┆ count ┆ volume    ┆ credits   ┆ debits    ┆ degree │\n",
       "│ ---                        ┆ ---   ┆ ---       ┆ ---       ┆ ---       ┆ ---    │\n",
       "│ str                        ┆ i64   ┆ f64       ┆ f64       ┆ f64       ┆ i64    │\n",
       "╞════════════════════════════╪═══════╪═══════════╪═══════════╪═══════════╪════════╡\n",
       "│ Pulaski Savings            ┆ 1     ┆ 228000.0  ┆ 0.0       ┆ 228000.0  ┆ 1      │\n",
       "│ LMAR (GB) LTD              ┆ 14    ┆ 1.0698e6  ┆ 473055.34 ┆ 596711.87 ┆ 14     │\n",
       "│ Ranchlander National Bank  ┆ 1     ┆ 78000.0   ┆ 0.0       ┆ 78000.0   ┆ 1      │\n",
       "│ WELLHANCIA HEALTH CARE LTD ┆ 9     ┆ 515094.69 ┆ 199864.12 ┆ 315230.57 ┆ 9      │\n",
       "│ Banca Socială              ┆ 1     ┆ 190000.0  ┆ 0.0       ┆ 190000.0  ┆ 1      │\n",
       "└────────────────────────────┴───────┴───────────┴───────────┴───────────┴────────┘"
      ]
     },
     "execution_count": 18,
     "metadata": {},
     "output_type": "execute_result"
    }
   ],
   "source": [
    "nodes_dat: typing.List[ dict ] = [\n",
    "    dat\n",
    "    for _, dat in graph.nodes(data = True)\n",
    "]\n",
    "\n",
    "df_nodes: pl.DataFrame = pl.DataFrame(nodes_dat)\n",
    "df_nodes.head()"
   ]
  },
  {
   "cell_type": "code",
   "execution_count": 19,
   "metadata": {
    "execution": {
     "iopub.execute_input": "2025-08-11T19:43:24.065252Z",
     "iopub.status.busy": "2025-08-11T19:43:24.065197Z",
     "iopub.status.idle": "2025-08-11T19:43:24.068331Z",
     "shell.execute_reply": "2025-08-11T19:43:24.068072Z",
     "shell.execute_reply.started": "2025-08-11T19:43:24.065246Z"
    }
   },
   "outputs": [
    {
     "data": {
      "text/html": [
       "<div><style>\n",
       ".dataframe > thead > tr,\n",
       ".dataframe > tbody > tr {\n",
       "  text-align: right;\n",
       "  white-space: pre-wrap;\n",
       "}\n",
       "</style>\n",
       "<small>shape: (9, 7)</small><table border=\"1\" class=\"dataframe\"><thead><tr><th>statistic</th><th>name</th><th>count</th><th>volume</th><th>credits</th><th>debits</th><th>degree</th></tr><tr><td>str</td><td>str</td><td>f64</td><td>f64</td><td>f64</td><td>f64</td><td>f64</td></tr></thead><tbody><tr><td>&quot;count&quot;</td><td>&quot;16&quot;</td><td>16.0</td><td>16.0</td><td>16.0</td><td>16.0</td><td>16.0</td></tr><tr><td>&quot;null_count&quot;</td><td>&quot;0&quot;</td><td>0.0</td><td>0.0</td><td>0.0</td><td>0.0</td><td>0.0</td></tr><tr><td>&quot;mean&quot;</td><td>null</td><td>3.25</td><td>245713.43</td><td>122856.715</td><td>122856.715</td><td>3.25</td></tr><tr><td>&quot;std&quot;</td><td>null</td><td>3.890159</td><td>288757.831578</td><td>137849.672959</td><td>181853.100891</td><td>3.890159</td></tr><tr><td>&quot;min&quot;</td><td>&quot;Amazon Marketplace&quot;</td><td>1.0</td><td>44864.11</td><td>0.0</td><td>0.0</td><td>1.0</td></tr><tr><td>&quot;25%&quot;</td><td>null</td><td>1.0</td><td>75000.0</td><td>0.0</td><td>0.0</td><td>1.0</td></tr><tr><td>&quot;50%&quot;</td><td>null</td><td>2.0</td><td>182055.33</td><td>89000.0</td><td>60000.0</td><td>2.0</td></tr><tr><td>&quot;75%&quot;</td><td>null</td><td>3.0</td><td>228000.0</td><td>199864.12</td><td>190000.0</td><td>3.0</td></tr><tr><td>&quot;max&quot;</td><td>&quot;WELLHANCIA HEALTH CARE LTD&quot;</td><td>14.0</td><td>1.0698e6</td><td>473055.34</td><td>596711.87</td><td>14.0</td></tr></tbody></table></div>"
      ],
      "text/plain": [
       "shape: (9, 7)\n",
       "┌────────────┬───────────────┬──────────┬───────────────┬───────────────┬───────────────┬──────────┐\n",
       "│ statistic  ┆ name          ┆ count    ┆ volume        ┆ credits       ┆ debits        ┆ degree   │\n",
       "│ ---        ┆ ---           ┆ ---      ┆ ---           ┆ ---           ┆ ---           ┆ ---      │\n",
       "│ str        ┆ str           ┆ f64      ┆ f64           ┆ f64           ┆ f64           ┆ f64      │\n",
       "╞════════════╪═══════════════╪══════════╪═══════════════╪═══════════════╪═══════════════╪══════════╡\n",
       "│ count      ┆ 16            ┆ 16.0     ┆ 16.0          ┆ 16.0          ┆ 16.0          ┆ 16.0     │\n",
       "│ null_count ┆ 0             ┆ 0.0      ┆ 0.0           ┆ 0.0           ┆ 0.0           ┆ 0.0      │\n",
       "│ mean       ┆ null          ┆ 3.25     ┆ 245713.43     ┆ 122856.715    ┆ 122856.715    ┆ 3.25     │\n",
       "│ std        ┆ null          ┆ 3.890159 ┆ 288757.831578 ┆ 137849.672959 ┆ 181853.100891 ┆ 3.890159 │\n",
       "│ min        ┆ Amazon        ┆ 1.0      ┆ 44864.11      ┆ 0.0           ┆ 0.0           ┆ 1.0      │\n",
       "│            ┆ Marketplace   ┆          ┆               ┆               ┆               ┆          │\n",
       "│ 25%        ┆ null          ┆ 1.0      ┆ 75000.0       ┆ 0.0           ┆ 0.0           ┆ 1.0      │\n",
       "│ 50%        ┆ null          ┆ 2.0      ┆ 182055.33     ┆ 89000.0       ┆ 60000.0       ┆ 2.0      │\n",
       "│ 75%        ┆ null          ┆ 3.0      ┆ 228000.0      ┆ 199864.12     ┆ 190000.0      ┆ 3.0      │\n",
       "│ max        ┆ WELLHANCIA    ┆ 14.0     ┆ 1.0698e6      ┆ 473055.34     ┆ 596711.87     ┆ 14.0     │\n",
       "│            ┆ HEALTH CARE   ┆          ┆               ┆               ┆               ┆          │\n",
       "│            ┆ LTD           ┆          ┆               ┆               ┆               ┆          │\n",
       "└────────────┴───────────────┴──────────┴───────────────┴───────────────┴───────────────┴──────────┘"
      ]
     },
     "execution_count": 19,
     "metadata": {},
     "output_type": "execute_result"
    }
   ],
   "source": [
    "df_nodes.describe()"
   ]
  },
  {
   "cell_type": "markdown",
   "metadata": {},
   "source": [
    "We will use these statistics later, when attempting to identify patterns of tradecraft."
   ]
  },
  {
   "cell_type": "markdown",
   "metadata": {},
   "source": [
    "## Graph analytics applied"
   ]
  },
  {
   "cell_type": "markdown",
   "metadata": {},
   "source": [
    "Calculate _betweenness centrality_ measures for each node"
   ]
  },
  {
   "cell_type": "code",
   "execution_count": 20,
   "metadata": {
    "execution": {
     "iopub.execute_input": "2025-08-11T19:43:24.068837Z",
     "iopub.status.busy": "2025-08-11T19:43:24.068780Z",
     "iopub.status.idle": "2025-08-11T19:43:24.071476Z",
     "shell.execute_reply": "2025-08-11T19:43:24.071260Z",
     "shell.execute_reply.started": "2025-08-11T19:43:24.068831Z"
    },
    "scrolled": true
   },
   "outputs": [
    {
     "name": "stdout",
     "output_type": "stream",
     "text": [
      "  1 rank 0.2542 LMAR (GB) LTD\n",
      "  3 rank 0.125 WELLHANCIA HEALTH CARE LTD\n",
      "  5 rank 0.125 BARLLOWS SERVICES LTD\n",
      "  0 rank 0.04583 Pulaski Savings\n",
      "  2 rank 0.04583 Ranchlander National Bank\n",
      "  4 rank 0.04583 Banca Socială\n",
      "  6 rank 0.04583 Hermitage Capital Management\n",
      "  7 rank 0.04583 Amazon Marketplace\n",
      "  8 rank 0.03333 Coinegg\n",
      "  9 rank 0.03333 DCEX Exchange\n",
      " 10 rank 0.03333 FX Alliance Traders\n",
      " 11 rank 0.03333 CoinWpro\n",
      " 12 rank 0.03333 BitMEX\n",
      " 13 rank 0.03333 BIPPAX\n",
      " 14 rank 0.03333 Bityard\n",
      " 15 rank 0.03333 Pinance.io\n"
     ]
    }
   ],
   "source": [
    "ranks: dict = nx.betweenness_centrality(\n",
    "    graph,\n",
    "    weight = \"volume\",\n",
    "    normalized = True,\n",
    "    endpoints = True,\n",
    ")\n",
    "\n",
    "for node_id, rank in sorted(ranks.items(), key = lambda x: x[1], reverse = True):\n",
    "    graph.nodes[node_id][\"rank\"] = round(rank, 4)\n",
    "\n",
    "    if rank > 0.0001:\n",
    "        print(f\"{node_id:3} rank {rank:.4}\",  graph.nodes[node_id][\"name\"])"
   ]
  },
  {
   "cell_type": "markdown",
   "metadata": {},
   "source": [
    "Graph measures: _diameter_, _density_, _girth_, _node degree_"
   ]
  },
  {
   "cell_type": "code",
   "execution_count": 21,
   "metadata": {
    "execution": {
     "iopub.execute_input": "2025-08-11T19:43:24.074927Z",
     "iopub.status.busy": "2025-08-11T19:43:24.074828Z",
     "iopub.status.idle": "2025-08-11T19:43:24.077251Z",
     "shell.execute_reply": "2025-08-11T19:43:24.077069Z",
     "shell.execute_reply.started": "2025-08-11T19:43:24.074921Z"
    }
   },
   "outputs": [
    {
     "data": {
      "text/plain": [
       "3"
      ]
     },
     "execution_count": 21,
     "metadata": {},
     "output_type": "execute_result"
    }
   ],
   "source": [
    "nx.diameter(graph.to_undirected())"
   ]
  },
  {
   "cell_type": "code",
   "execution_count": 22,
   "metadata": {
    "execution": {
     "iopub.execute_input": "2025-08-11T19:43:24.077605Z",
     "iopub.status.busy": "2025-08-11T19:43:24.077544Z",
     "iopub.status.idle": "2025-08-11T19:43:24.079599Z",
     "shell.execute_reply": "2025-08-11T19:43:24.079361Z",
     "shell.execute_reply.started": "2025-08-11T19:43:24.077599Z"
    }
   },
   "outputs": [
    {
     "data": {
      "text/plain": [
       "0.10833333333333334"
      ]
     },
     "execution_count": 22,
     "metadata": {},
     "output_type": "execute_result"
    }
   ],
   "source": [
    "nx.density(graph)"
   ]
  },
  {
   "cell_type": "code",
   "execution_count": 23,
   "metadata": {
    "execution": {
     "iopub.execute_input": "2025-08-11T19:43:24.080099Z",
     "iopub.status.busy": "2025-08-11T19:43:24.080032Z",
     "iopub.status.idle": "2025-08-11T19:43:24.082589Z",
     "shell.execute_reply": "2025-08-11T19:43:24.082294Z",
     "shell.execute_reply.started": "2025-08-11T19:43:24.080092Z"
    }
   },
   "outputs": [
    {
     "data": {
      "text/plain": [
       "3"
      ]
     },
     "execution_count": 23,
     "metadata": {},
     "output_type": "execute_result"
    }
   ],
   "source": [
    "nx.girth(graph.to_undirected())"
   ]
  },
  {
   "cell_type": "code",
   "execution_count": 24,
   "metadata": {
    "execution": {
     "iopub.execute_input": "2025-08-11T19:43:24.083090Z",
     "iopub.status.busy": "2025-08-11T19:43:24.083013Z",
     "iopub.status.idle": "2025-08-11T19:43:24.085024Z",
     "shell.execute_reply": "2025-08-11T19:43:24.084775Z",
     "shell.execute_reply.started": "2025-08-11T19:43:24.083083Z"
    }
   },
   "outputs": [
    {
     "data": {
      "text/plain": [
       "14"
      ]
     },
     "execution_count": 24,
     "metadata": {},
     "output_type": "execute_result"
    }
   ],
   "source": [
    "node_degree: typing.List[ int ] = dict(nx.degree(graph)).values()\n",
    "max(node_degree)"
   ]
  },
  {
   "cell_type": "code",
   "execution_count": 25,
   "metadata": {
    "execution": {
     "iopub.execute_input": "2025-08-11T19:43:24.085354Z",
     "iopub.status.busy": "2025-08-11T19:43:24.085296Z",
     "iopub.status.idle": "2025-08-11T19:43:24.205976Z",
     "shell.execute_reply": "2025-08-11T19:43:24.205705Z",
     "shell.execute_reply.started": "2025-08-11T19:43:24.085348Z"
    }
   },
   "outputs": [
    {
     "data": {
      "image/png": "[encoded data removed]",
      "text/plain": [
       "<Figure size 500x200 with 1 Axes>"
      ]
     },
     "metadata": {},
     "output_type": "display_data"
    }
   ],
   "source": [
    "fig, ax = plt.subplots(figsize = (5, 2))\n",
    "plt.rcParams[\"font.family\"] = \"sans-serif\"\n",
    "\n",
    "y = sns.histplot(node_degree)\n",
    "y.tick_params(axis = \"y\", size = 9, colors = \"gray\")\n",
    "y.bar_label(y.containers[0], padding = 3, color = \"gray\", fontsize = 7)\n",
    "\n",
    "plt.xlabel(\"node degree\", size = 10, fontstyle = \"italic\")\n",
    "plt.ylabel(\"count\", size = 10, fontstyle = \"italic\")\n",
    "\n",
    "sns.despine(bottom = True, left = True)\n",
    "plt.yscale(\"log\")\n",
    "\n",
    "plt.legend([], [], frameon = False);"
   ]
  },
  {
   "cell_type": "markdown",
   "metadata": {},
   "source": [
    "Graph _connected components_:"
   ]
  },
  {
   "cell_type": "code",
   "execution_count": 26,
   "metadata": {
    "execution": {
     "iopub.execute_input": "2025-08-11T19:43:24.206423Z",
     "iopub.status.busy": "2025-08-11T19:43:24.206358Z",
     "iopub.status.idle": "2025-08-11T19:43:24.208431Z",
     "shell.execute_reply": "2025-08-11T19:43:24.208211Z",
     "shell.execute_reply.started": "2025-08-11T19:43:24.206416Z"
    }
   },
   "outputs": [
    {
     "name": "stdout",
     "output_type": "stream",
     "text": [
      "{0, 1, 2, 3, 4, 5, 6, 7, 8, 9, 10, 11, 12, 13, 14, 15}\n"
     ]
    }
   ],
   "source": [
    "for clique in nx.connected_components(graph.to_undirected()):\n",
    "    print(clique)"
   ]
  },
  {
   "cell_type": "code",
   "execution_count": 27,
   "metadata": {
    "execution": {
     "iopub.execute_input": "2025-08-11T19:43:24.208743Z",
     "iopub.status.busy": "2025-08-11T19:43:24.208677Z",
     "iopub.status.idle": "2025-08-11T19:43:24.210650Z",
     "shell.execute_reply": "2025-08-11T19:43:24.210412Z",
     "shell.execute_reply.started": "2025-08-11T19:43:24.208737Z"
    }
   },
   "outputs": [
    {
     "name": "stdout",
     "output_type": "stream",
     "text": [
      "\n",
      " {1, 3, 5}\n",
      "  1 LMAR (GB) LTD\n",
      "  3 WELLHANCIA HEALTH CARE LTD\n",
      "  5 BARLLOWS SERVICES LTD\n"
     ]
    }
   ],
   "source": [
    "strong_edges: list = []\n",
    "\n",
    "for clique in nx.strongly_connected_components(graph):\n",
    "    if len(clique) > 1:\n",
    "        strong_edges.append(sorted(list(clique)))\n",
    "        print(\"\\n\", clique)\n",
    "\n",
    "        for node_id in clique:\n",
    "            dat: dict = graph.nodes[node_id]\n",
    "            print(f\"{node_id:3}\", dat[\"name\"])"
   ]
  },
  {
   "cell_type": "markdown",
   "metadata": {},
   "source": [
    "Graph _flow analysis_:"
   ]
  },
  {
   "cell_type": "code",
   "execution_count": 28,
   "metadata": {
    "execution": {
     "iopub.execute_input": "2025-08-11T19:43:24.211126Z",
     "iopub.status.busy": "2025-08-11T19:43:24.211020Z",
     "iopub.status.idle": "2025-08-11T19:43:24.213418Z",
     "shell.execute_reply": "2025-08-11T19:43:24.213199Z",
     "shell.execute_reply.started": "2025-08-11T19:43:24.211119Z"
    }
   },
   "outputs": [
    {
     "data": {
      "text/plain": [
       "0.7692307692307692"
      ]
     },
     "execution_count": 28,
     "metadata": {},
     "output_type": "execute_result"
    }
   ],
   "source": [
    "nx.flow_hierarchy(graph)"
   ]
  },
  {
   "cell_type": "code",
   "execution_count": 29,
   "metadata": {
    "execution": {
     "iopub.execute_input": "2025-08-11T19:43:24.213896Z",
     "iopub.status.busy": "2025-08-11T19:43:24.213739Z",
     "iopub.status.idle": "2025-08-11T19:43:24.215887Z",
     "shell.execute_reply": "2025-08-11T19:43:24.215604Z",
     "shell.execute_reply.started": "2025-08-11T19:43:24.213886Z"
    }
   },
   "outputs": [
    {
     "name": "stdout",
     "output_type": "stream",
     "text": [
      "1 {'name': 'LMAR (GB) LTD', 'count': 14, 'volume': 1069767.21, 'credits': 473055.33999999997, 'debits': 596711.87, 'degree': 14, 'rank': 0.2542}\n",
      "3 {'name': 'WELLHANCIA HEALTH CARE LTD', 'count': 9, 'volume': 515094.68999999994, 'credits': 199864.12, 'debits': 315230.56999999995, 'degree': 9, 'rank': 0.125}\n",
      "5 {'name': 'BARLLOWS SERVICES LTD', 'count': 9, 'volume': 732699.2699999999, 'credits': 309934.26999999996, 'debits': 422765.0, 'degree': 9, 'rank': 0.125}\n",
      "8 {'name': 'Coinegg', 'count': 3, 'volume': 249934.27, 'credits': 249934.27, 'debits': 0, 'degree': 3, 'rank': 0.0333}\n",
      "11 {'name': 'CoinWpro', 'count': 3, 'volume': 214000.0, 'credits': 214000.0, 'debits': 0, 'degree': 3, 'rank': 0.0333}\n"
     ]
    }
   ],
   "source": [
    "for node_id in nx.center(graph.to_undirected()):\n",
    "    print(node_id, graph.nodes[node_id])"
   ]
  },
  {
   "cell_type": "code",
   "execution_count": 30,
   "metadata": {
    "execution": {
     "iopub.execute_input": "2025-08-11T19:43:24.216354Z",
     "iopub.status.busy": "2025-08-11T19:43:24.216260Z",
     "iopub.status.idle": "2025-08-11T19:43:24.218652Z",
     "shell.execute_reply": "2025-08-11T19:43:24.218425Z",
     "shell.execute_reply.started": "2025-08-11T19:43:24.216345Z"
    }
   },
   "outputs": [
    {
     "data": {
      "text/plain": [
       "11"
      ]
     },
     "execution_count": 30,
     "metadata": {},
     "output_type": "execute_result"
    }
   ],
   "source": [
    "len(list(nx.periphery(graph.to_undirected())))"
   ]
  },
  {
   "cell_type": "markdown",
   "metadata": {},
   "source": [
    "Graph _directed flows_:"
   ]
  },
  {
   "cell_type": "code",
   "execution_count": 31,
   "metadata": {
    "execution": {
     "iopub.execute_input": "2025-08-11T19:43:24.219065Z",
     "iopub.status.busy": "2025-08-11T19:43:24.218996Z",
     "iopub.status.idle": "2025-08-11T19:43:24.220991Z",
     "shell.execute_reply": "2025-08-11T19:43:24.220758Z",
     "shell.execute_reply.started": "2025-08-11T19:43:24.219057Z"
    }
   },
   "outputs": [
    {
     "name": "stdout",
     "output_type": "stream",
     "text": [
      "  5 in degree   1 LMAR (GB) LTD\n",
      "  3 in degree   3 WELLHANCIA HEALTH CARE LTD\n",
      "  3 in degree   5 BARLLOWS SERVICES LTD\n",
      "  3 in degree   8 Coinegg\n",
      "  2 in degree   9 DCEX Exchange\n",
      "  1 in degree  10 FX Alliance Traders\n",
      "  3 in degree  11 CoinWpro\n",
      "  2 in degree  12 BitMEX\n",
      "  2 in degree  13 BIPPAX\n",
      "  1 in degree  14 Bityard\n",
      "  1 in degree  15 Pinance.io\n"
     ]
    }
   ],
   "source": [
    "for node_id in graph.nodes():\n",
    "    deg: int = graph.in_degree(node_id)\n",
    "\n",
    "    if deg > 0:\n",
    "        dat = graph.nodes[node_id]\n",
    "        print(f\"{deg:3} in degree {node_id:3}\", dat[\"name\"])"
   ]
  },
  {
   "cell_type": "code",
   "execution_count": 32,
   "metadata": {
    "execution": {
     "iopub.execute_input": "2025-08-11T19:43:24.221405Z",
     "iopub.status.busy": "2025-08-11T19:43:24.221309Z",
     "iopub.status.idle": "2025-08-11T19:43:24.223135Z",
     "shell.execute_reply": "2025-08-11T19:43:24.222873Z",
     "shell.execute_reply.started": "2025-08-11T19:43:24.221398Z"
    }
   },
   "outputs": [],
   "source": [
    "for node_id in graph.nodes():\n",
    "    deg: int = graph.out_degree(node_id)\n",
    "    graph.nodes[node_id][\"out_deg\"] = deg"
   ]
  },
  {
   "cell_type": "markdown",
   "metadata": {},
   "source": [
    "Label the inferred \"roles\" for each shell company"
   ]
  },
  {
   "cell_type": "code",
   "execution_count": 33,
   "metadata": {
    "execution": {
     "iopub.execute_input": "2025-08-11T19:43:24.223451Z",
     "iopub.status.busy": "2025-08-11T19:43:24.223379Z",
     "iopub.status.idle": "2025-08-11T19:43:24.225455Z",
     "shell.execute_reply": "2025-08-11T19:43:24.225182Z",
     "shell.execute_reply.started": "2025-08-11T19:43:24.223441Z"
    }
   },
   "outputs": [],
   "source": [
    "for node_id in graph.nodes():\n",
    "    if graph.in_degree(node_id) > 0:\n",
    "        graph.nodes[node_id][\"role\"] = \"drain\"\n",
    "    elif graph.out_degree(node_id) > 1:\n",
    "        graph.nodes[node_id][\"role\"] = \"multi-source\"\n",
    "    else:\n",
    "        graph.nodes[node_id][\"role\"] = \"source\""
   ]
  },
  {
   "cell_type": "code",
   "execution_count": 34,
   "metadata": {
    "execution": {
     "iopub.execute_input": "2025-08-11T19:43:24.225964Z",
     "iopub.status.busy": "2025-08-11T19:43:24.225769Z",
     "iopub.status.idle": "2025-08-11T19:43:24.228618Z",
     "shell.execute_reply": "2025-08-11T19:43:24.228405Z",
     "shell.execute_reply.started": "2025-08-11T19:43:24.225956Z"
    }
   },
   "outputs": [
    {
     "data": {
      "text/html": [
       "<div><style>\n",
       ".dataframe > thead > tr,\n",
       ".dataframe > tbody > tr {\n",
       "  text-align: right;\n",
       "  white-space: pre-wrap;\n",
       "}\n",
       "</style>\n",
       "<small>shape: (5, 8)</small><table border=\"1\" class=\"dataframe\"><thead><tr><th>node_id</th><th>name</th><th>role</th><th>out_deg</th><th>count</th><th>volume</th><th>credits</th><th>debits</th></tr><tr><td>i64</td><td>str</td><td>str</td><td>i64</td><td>i64</td><td>f64</td><td>f64</td><td>f64</td></tr></thead><tbody><tr><td>0</td><td>&quot;Pulaski Savings&quot;</td><td>&quot;source&quot;</td><td>1</td><td>1</td><td>228000.0</td><td>0.0</td><td>228000.0</td></tr><tr><td>1</td><td>&quot;LMAR (GB) LTD&quot;</td><td>&quot;drain&quot;</td><td>9</td><td>14</td><td>1.0698e6</td><td>473055.34</td><td>596711.87</td></tr><tr><td>2</td><td>&quot;Ranchlander National Bank&quot;</td><td>&quot;source&quot;</td><td>1</td><td>1</td><td>78000.0</td><td>0.0</td><td>78000.0</td></tr><tr><td>3</td><td>&quot;WELLHANCIA HEALTH CARE LTD&quot;</td><td>&quot;drain&quot;</td><td>6</td><td>9</td><td>515094.69</td><td>199864.12</td><td>315230.57</td></tr><tr><td>4</td><td>&quot;Banca Socială&quot;</td><td>&quot;source&quot;</td><td>1</td><td>1</td><td>190000.0</td><td>0.0</td><td>190000.0</td></tr></tbody></table></div>"
      ],
      "text/plain": [
       "shape: (5, 8)\n",
       "┌─────────┬─────────────────────────┬────────┬─────────┬───────┬───────────┬───────────┬───────────┐\n",
       "│ node_id ┆ name                    ┆ role   ┆ out_deg ┆ count ┆ volume    ┆ credits   ┆ debits    │\n",
       "│ ---     ┆ ---                     ┆ ---    ┆ ---     ┆ ---   ┆ ---       ┆ ---       ┆ ---       │\n",
       "│ i64     ┆ str                     ┆ str    ┆ i64     ┆ i64   ┆ f64       ┆ f64       ┆ f64       │\n",
       "╞═════════╪═════════════════════════╪════════╪═════════╪═══════╪═══════════╪═══════════╪═══════════╡\n",
       "│ 0       ┆ Pulaski Savings         ┆ source ┆ 1       ┆ 1     ┆ 228000.0  ┆ 0.0       ┆ 228000.0  │\n",
       "│ 1       ┆ LMAR (GB) LTD           ┆ drain  ┆ 9       ┆ 14    ┆ 1.0698e6  ┆ 473055.34 ┆ 596711.87 │\n",
       "│ 2       ┆ Ranchlander National    ┆ source ┆ 1       ┆ 1     ┆ 78000.0   ┆ 0.0       ┆ 78000.0   │\n",
       "│         ┆ Bank                    ┆        ┆         ┆       ┆           ┆           ┆           │\n",
       "│ 3       ┆ WELLHANCIA HEALTH CARE  ┆ drain  ┆ 6       ┆ 9     ┆ 515094.69 ┆ 199864.12 ┆ 315230.57 │\n",
       "│         ┆ LTD                     ┆        ┆         ┆       ┆           ┆           ┆           │\n",
       "│ 4       ┆ Banca Socială           ┆ source ┆ 1       ┆ 1     ┆ 190000.0  ┆ 0.0       ┆ 190000.0  │\n",
       "└─────────┴─────────────────────────┴────────┴─────────┴───────┴───────────┴───────────┴───────────┘"
      ]
     },
     "execution_count": 34,
     "metadata": {},
     "output_type": "execute_result"
    }
   ],
   "source": [
    "flows_dat: list = [\n",
    "    {\n",
    "        \"node_id\": node_id,\n",
    "        \"name\": dat[\"name\"],\n",
    "        \"role\": dat[\"role\"],\n",
    "        \"out_deg\": dat[\"out_deg\"],\n",
    "        \"count\": dat[\"count\"],\n",
    "        \"volume\": dat[\"volume\"],\n",
    "        \"credits\": dat[\"credits\"],\n",
    "        \"debits\": dat[\"debits\"],        \n",
    "    }\n",
    "    for node_id, dat in graph.nodes(data = True)\n",
    "    if dat[\"out_deg\"] > 0\n",
    "]\n",
    "\n",
    "df_flows: pl.DataFrame = pl.DataFrame(flows_dat)\n",
    "df_flows.head()"
   ]
  },
  {
   "cell_type": "code",
   "execution_count": 35,
   "metadata": {
    "execution": {
     "iopub.execute_input": "2025-08-11T19:43:24.229068Z",
     "iopub.status.busy": "2025-08-11T19:43:24.228998Z",
     "iopub.status.idle": "2025-08-11T19:43:24.232192Z",
     "shell.execute_reply": "2025-08-11T19:43:24.231949Z",
     "shell.execute_reply.started": "2025-08-11T19:43:24.229063Z"
    }
   },
   "outputs": [
    {
     "data": {
      "text/html": [
       "<div><style>\n",
       ".dataframe > thead > tr,\n",
       ".dataframe > tbody > tr {\n",
       "  text-align: right;\n",
       "  white-space: pre-wrap;\n",
       "}\n",
       "</style>\n",
       "<small>shape: (9, 9)</small><table border=\"1\" class=\"dataframe\"><thead><tr><th>statistic</th><th>node_id</th><th>name</th><th>role</th><th>out_deg</th><th>count</th><th>volume</th><th>credits</th><th>debits</th></tr><tr><td>str</td><td>f64</td><td>str</td><td>str</td><td>f64</td><td>f64</td><td>f64</td><td>f64</td><td>f64</td></tr></thead><tbody><tr><td>&quot;count&quot;</td><td>8.0</td><td>&quot;8&quot;</td><td>&quot;8&quot;</td><td>8.0</td><td>8.0</td><td>8.0</td><td>8.0</td><td>8.0</td></tr><tr><td>&quot;null_count&quot;</td><td>0.0</td><td>&quot;0&quot;</td><td>&quot;0&quot;</td><td>0.0</td><td>0.0</td><td>0.0</td><td>0.0</td><td>0.0</td></tr><tr><td>&quot;mean&quot;</td><td>3.5</td><td>null</td><td>null</td><td>3.25</td><td>4.625</td><td>368570.14625</td><td>122856.71625</td><td>245713.43</td></tr><tr><td>&quot;std&quot;</td><td>2.44949</td><td>null</td><td>null</td><td>3.24037</td><td>5.235524</td><td>370947.439839</td><td>184791.809908</td><td>190697.17798</td></tr><tr><td>&quot;min&quot;</td><td>0.0</td><td>&quot;Amazon Marketplace&quot;</td><td>&quot;drain&quot;</td><td>1.0</td><td>1.0</td><td>60000.0</td><td>0.0</td><td>60000.0</td></tr><tr><td>&quot;25%&quot;</td><td>2.0</td><td>null</td><td>null</td><td>1.0</td><td>1.0</td><td>78000.0</td><td>0.0</td><td>78000.0</td></tr><tr><td>&quot;50%&quot;</td><td>4.0</td><td>null</td><td>null</td><td>1.0</td><td>1.0</td><td>228000.0</td><td>0.0</td><td>228000.0</td></tr><tr><td>&quot;75%&quot;</td><td>5.0</td><td>null</td><td>null</td><td>6.0</td><td>9.0</td><td>515094.69</td><td>199864.12</td><td>315230.57</td></tr><tr><td>&quot;max&quot;</td><td>7.0</td><td>&quot;WELLHANCIA HEALTH CARE LTD&quot;</td><td>&quot;source&quot;</td><td>9.0</td><td>14.0</td><td>1.0698e6</td><td>473055.34</td><td>596711.87</td></tr></tbody></table></div>"
      ],
      "text/plain": [
       "shape: (9, 9)\n",
       "┌────────────┬─────────┬────────────┬────────┬───┬──────────┬────────────┬────────────┬────────────┐\n",
       "│ statistic  ┆ node_id ┆ name       ┆ role   ┆ … ┆ count    ┆ volume     ┆ credits    ┆ debits     │\n",
       "│ ---        ┆ ---     ┆ ---        ┆ ---    ┆   ┆ ---      ┆ ---        ┆ ---        ┆ ---        │\n",
       "│ str        ┆ f64     ┆ str        ┆ str    ┆   ┆ f64      ┆ f64        ┆ f64        ┆ f64        │\n",
       "╞════════════╪═════════╪════════════╪════════╪═══╪══════════╪════════════╪════════════╪════════════╡\n",
       "│ count      ┆ 8.0     ┆ 8          ┆ 8      ┆ … ┆ 8.0      ┆ 8.0        ┆ 8.0        ┆ 8.0        │\n",
       "│ null_count ┆ 0.0     ┆ 0          ┆ 0      ┆ … ┆ 0.0      ┆ 0.0        ┆ 0.0        ┆ 0.0        │\n",
       "│ mean       ┆ 3.5     ┆ null       ┆ null   ┆ … ┆ 4.625    ┆ 368570.146 ┆ 122856.716 ┆ 245713.43  │\n",
       "│            ┆         ┆            ┆        ┆   ┆          ┆ 25         ┆ 25         ┆            │\n",
       "│ std        ┆ 2.44949 ┆ null       ┆ null   ┆ … ┆ 5.235524 ┆ 370947.439 ┆ 184791.809 ┆ 190697.177 │\n",
       "│            ┆         ┆            ┆        ┆   ┆          ┆ 839        ┆ 908        ┆ 98         │\n",
       "│ min        ┆ 0.0     ┆ Amazon Mar ┆ drain  ┆ … ┆ 1.0      ┆ 60000.0    ┆ 0.0        ┆ 60000.0    │\n",
       "│            ┆         ┆ ketplace   ┆        ┆   ┆          ┆            ┆            ┆            │\n",
       "│ 25%        ┆ 2.0     ┆ null       ┆ null   ┆ … ┆ 1.0      ┆ 78000.0    ┆ 0.0        ┆ 78000.0    │\n",
       "│ 50%        ┆ 4.0     ┆ null       ┆ null   ┆ … ┆ 1.0      ┆ 228000.0   ┆ 0.0        ┆ 228000.0   │\n",
       "│ 75%        ┆ 5.0     ┆ null       ┆ null   ┆ … ┆ 9.0      ┆ 515094.69  ┆ 199864.12  ┆ 315230.57  │\n",
       "│ max        ┆ 7.0     ┆ WELLHANCIA ┆ source ┆ … ┆ 14.0     ┆ 1.0698e6   ┆ 473055.34  ┆ 596711.87  │\n",
       "│            ┆         ┆ HEALTH     ┆        ┆   ┆          ┆            ┆            ┆            │\n",
       "│            ┆         ┆ CARE LTD   ┆        ┆   ┆          ┆            ┆            ┆            │\n",
       "└────────────┴─────────┴────────────┴────────┴───┴──────────┴────────────┴────────────┴────────────┘"
      ]
     },
     "execution_count": 35,
     "metadata": {},
     "output_type": "execute_result"
    }
   ],
   "source": [
    "df_flows.describe()"
   ]
  },
  {
   "cell_type": "code",
   "execution_count": 36,
   "metadata": {
    "execution": {
     "iopub.execute_input": "2025-08-11T19:43:24.232812Z",
     "iopub.status.busy": "2025-08-11T19:43:24.232648Z",
     "iopub.status.idle": "2025-08-11T19:43:24.235472Z",
     "shell.execute_reply": "2025-08-11T19:43:24.235237Z",
     "shell.execute_reply.started": "2025-08-11T19:43:24.232801Z"
    }
   },
   "outputs": [
    {
     "data": {
      "text/html": [
       "<div><style>\n",
       ".dataframe > thead > tr,\n",
       ".dataframe > tbody > tr {\n",
       "  text-align: right;\n",
       "  white-space: pre-wrap;\n",
       "}\n",
       "</style>\n",
       "<small>shape: (2, 2)</small><table border=\"1\" class=\"dataframe\"><thead><tr><th>role</th><th>len</th></tr><tr><td>str</td><td>u32</td></tr></thead><tbody><tr><td>&quot;drain&quot;</td><td>3</td></tr><tr><td>&quot;source&quot;</td><td>5</td></tr></tbody></table></div>"
      ],
      "text/plain": [
       "shape: (2, 2)\n",
       "┌────────┬─────┐\n",
       "│ role   ┆ len │\n",
       "│ ---    ┆ --- │\n",
       "│ str    ┆ u32 │\n",
       "╞════════╪═════╡\n",
       "│ drain  ┆ 3   │\n",
       "│ source ┆ 5   │\n",
       "└────────┴─────┘"
      ]
     },
     "execution_count": 36,
     "metadata": {},
     "output_type": "execute_result"
    }
   ],
   "source": [
    "df_flows.group_by([\"role\"]).len()"
   ]
  },
  {
   "cell_type": "markdown",
   "metadata": {},
   "source": [
    "## Graph visualization"
   ]
  },
  {
   "cell_type": "code",
   "execution_count": 37,
   "metadata": {
    "execution": {
     "iopub.execute_input": "2025-08-11T19:43:24.235906Z",
     "iopub.status.busy": "2025-08-11T19:43:24.235817Z",
     "iopub.status.idle": "2025-08-11T19:43:24.237505Z",
     "shell.execute_reply": "2025-08-11T19:43:24.237253Z",
     "shell.execute_reply.started": "2025-08-11T19:43:24.235895Z"
    }
   },
   "outputs": [],
   "source": [
    "role_colors: dict = {\n",
    "    \"source\": \"#BDC561\",\n",
    "    \"multi-source\": \"#D9CAD7\",\n",
    "    \"drain\": \"#C25FB8\",\n",
    "}\n",
    "\n",
    "role_shapes: dict = {\n",
    "    \"source\": \"square\",\n",
    "    \"multi-source\": \"diamond\",\n",
    "    \"drain\": \"circle\",\n",
    "}"
   ]
  },
  {
   "cell_type": "code",
   "execution_count": 38,
   "metadata": {
    "execution": {
     "iopub.execute_input": "2025-08-11T19:43:24.237917Z",
     "iopub.status.busy": "2025-08-11T19:43:24.237855Z",
     "iopub.status.idle": "2025-08-11T19:43:24.240882Z",
     "shell.execute_reply": "2025-08-11T19:43:24.240614Z",
     "shell.execute_reply.started": "2025-08-11T19:43:24.237911Z"
    }
   },
   "outputs": [],
   "source": [
    "def render_graph (\n",
    "    graph: nx.DiGraph,\n",
    "    ) -> pyvis.network.Network:\n",
    "    net: pyvis.network.Network = pyvis.network.Network(\n",
    "        notebook = True,\n",
    "        cdn_resources = \"in_line\",\n",
    "        directed = True,\n",
    "        height = \"700px\", \n",
    "        width = \"100%\",\n",
    "    )\n",
    "    \n",
    "    # adjust node attributes\n",
    "    net.from_nx(graph)\n",
    "\n",
    "    for node in net.nodes:\n",
    "        node[\"value\"] = node[\"volume\"]\n",
    "        node[\"label\"] = node[\"name\"]\n",
    "\n",
    "        node[\"color\"] = role_colors[node[\"role\"]]\n",
    "        node[\"shape\"] = role_shapes[node[\"role\"]]\n",
    "\n",
    "        title: str = node[\"name\"] + \"\\nnode_id: \" + str(node[\"id\"])\n",
    "\n",
    "        for key in [ \"role\", \"rank\", \"count\" ]:\n",
    "            title += f\"\\n{key}: \" + str(node[key])\n",
    "\n",
    "        for key in [ \"volume\", \"credits\", \"debits\", ]:\n",
    "            title += f\"\\n{key}: {node[key]:.3e}\"\n",
    "        \n",
    "        node[\"title\"] = title\n",
    "    \n",
    "    # adjust edge attributes\n",
    "    for edge in net.edges:\n",
    "        arc: list = sorted([ edge[\"from\"], edge[\"to\"] ])\n",
    "\n",
    "        if arc in strong_edges:\n",
    "            edge[\"width\"] = 10\n",
    "\n",
    "    return net"
   ]
  },
  {
   "cell_type": "code",
   "execution_count": 39,
   "metadata": {
    "execution": {
     "iopub.execute_input": "2025-08-11T19:43:24.241255Z",
     "iopub.status.busy": "2025-08-11T19:43:24.241185Z",
     "iopub.status.idle": "2025-08-11T19:43:24.288425Z",
     "shell.execute_reply": "2025-08-11T19:43:24.288116Z",
     "shell.execute_reply.started": "2025-08-11T19:43:24.241244Z"
    }
   },
   "outputs": [
    {
     "name": "stdout",
     "output_type": "stream",
     "text": [
      "aml.html\n"
     ]
    },
    {
     "data": {
      "text/html": [
       "\n",
       "        <iframe\n",
       "            width=\"100%\"\n",
       "            height=\"700px\"\n",
       "            src=\"aml.html\"\n",
       "            frameborder=\"0\"\n",
       "            allowfullscreen\n",
       "            \n",
       "        ></iframe>\n",
       "        "
      ],
      "text/plain": [
       "<IPython.lib.display.IFrame at 0x123b5f380>"
      ]
     },
     "execution_count": 39,
     "metadata": {},
     "output_type": "execute_result"
    }
   ],
   "source": [
    "net: pyvis.network.Network = render_graph(graph)\n",
    "\n",
    "net.force_atlas_2based()\n",
    "net.toggle_physics(True)\n",
    "\n",
    "net.prep_notebook()\n",
    "net.show_buttons(filter_ = [ \"physics\" ])\n",
    "\n",
    "options: str =     \"\"\"\n",
    "  \"physics\": {\n",
    "    \"forceAtlas2Based\": {\n",
    "      \"centralGravity\": 0.04,\n",
    "      \"springLength\": 5,\n",
    "      \"springConstant\": 0.32,\n",
    "      \"avoidOverlap\": 0.02\n",
    "    },\n",
    "    \"minVelocity\": 0.75,\n",
    "    \"solver\": \"forceAtlas2Based\"\n",
    "  }\n",
    "    \"\"\"\n",
    "\n",
    "#net.set_options(options)\n",
    "# setting options via Py interface doesn't work?\n",
    "\n",
    "net.show(\"aml.html\")"
   ]
  },
  {
   "cell_type": "markdown",
   "metadata": {},
   "source": [
    "## Tradecraft: layering"
   ]
  },
  {
   "cell_type": "markdown",
   "metadata": {},
   "source": [
    "Let's slice the data to pick out the potential instances of \"layering\""
   ]
  },
  {
   "cell_type": "code",
   "execution_count": 40,
   "metadata": {
    "execution": {
     "iopub.execute_input": "2025-08-11T19:43:24.289005Z",
     "iopub.status.busy": "2025-08-11T19:43:24.288856Z",
     "iopub.status.idle": "2025-08-11T19:43:24.369286Z",
     "shell.execute_reply": "2025-08-11T19:43:24.369017Z",
     "shell.execute_reply.started": "2025-08-11T19:43:24.288994Z"
    }
   },
   "outputs": [
    {
     "data": {
      "image/png": "[encoded data removed]",
      "text/plain": [
       "<Figure size 640x480 with 1 Axes>"
      ]
     },
     "metadata": {},
     "output_type": "display_data"
    }
   ],
   "source": [
    "x: list = df_nodes[\"degree\"].to_list()\n",
    "y: list = df_nodes[\"volume\"].to_list()\n",
    "labels: list = df_nodes[\"name\"].to_list()\n",
    "\n",
    "sns.scatterplot(data = df_nodes, x = \"degree\", y = \"volume\")\n",
    "\n",
    "plt.yscale(\"log\")\n",
    "plt.xscale(\"log\")\n",
    "\n",
    "for i, label in enumerate(labels):\n",
    "    if x[i] > 2: # only label the top-ranked 14 companies\n",
    "        plt.annotate(label, (x[i], y[i]), alpha = 0.3, fontsize = 7)\n",
    "\n",
    "plt.show()"
   ]
  },
  {
   "cell_type": "markdown",
   "metadata": {},
   "source": [
    "The top/right of this plot illustrates how three companies have a high degree of connections as well as large volumes of funds transacted, which could be shell companies used for \"layering\""
   ]
  },
  {
   "cell_type": "markdown",
   "metadata": {},
   "source": [
    "From another perspective, this plot illustrates the \"sources\" (negative balance, below center) and \"drains\" (positive balance, above center)"
   ]
  },
  {
   "cell_type": "code",
   "execution_count": 41,
   "metadata": {
    "execution": {
     "iopub.execute_input": "2025-08-11T19:43:24.369696Z",
     "iopub.status.busy": "2025-08-11T19:43:24.369612Z",
     "iopub.status.idle": "2025-08-11T19:43:24.414212Z",
     "shell.execute_reply": "2025-08-11T19:43:24.413956Z",
     "shell.execute_reply.started": "2025-08-11T19:43:24.369689Z"
    }
   },
   "outputs": [
    {
     "data": {
      "image/png": "[encoded data removed]",
      "text/plain": [
       "<Figure size 640x480 with 1 Axes>"
      ]
     },
     "metadata": {},
     "output_type": "display_data"
    }
   ],
   "source": [
    "x: list = df_nodes[\"volume\"].to_list()\n",
    "y: list = df_nodes[\"debits\"].to_list()\n",
    "labels: list = df_nodes[\"name\"].to_list()\n",
    "\n",
    "sns.scatterplot(data = df_nodes, x = \"volume\", y = \"debits\")\n",
    "\n",
    "for i, label in enumerate(labels):\n",
    "    plt.annotate(label, (x[i], y[i]), alpha = 0.3, fontsize = 7)\n",
    "\n",
    "plt.show()"
   ]
  },
  {
   "cell_type": "markdown",
   "metadata": {},
   "source": [
    "## Tradecraft: rapid movement of funds (RMF)"
   ]
  },
  {
   "cell_type": "markdown",
   "metadata": {},
   "source": [
    "Describe the distributions of transaction inter-arrival times (days in-between) and amounts"
   ]
  },
  {
   "cell_type": "code",
   "execution_count": 42,
   "metadata": {
    "execution": {
     "iopub.execute_input": "2025-08-11T19:43:24.414645Z",
     "iopub.status.busy": "2025-08-11T19:43:24.414568Z",
     "iopub.status.idle": "2025-08-11T19:43:24.482293Z",
     "shell.execute_reply": "2025-08-11T19:43:24.481973Z",
     "shell.execute_reply.started": "2025-08-11T19:43:24.414638Z"
    }
   },
   "outputs": [
    {
     "data": {
      "image/png": "[encoded data removed]",
      "text/plain": [
       "<Figure size 1000x200 with 1 Axes>"
      ]
     },
     "metadata": {},
     "output_type": "display_data"
    }
   ],
   "source": [
    "fig, ax = plt.subplots(figsize = (10, 2))\n",
    "plt.rcParams[\"font.family\"] = \"sans-serif\"\n",
    "\n",
    "y = sns.histplot(timing_data)\n",
    "y.tick_params(axis = \"y\", size = 9, colors = \"gray\")\n",
    "y.bar_label(y.containers[0], padding = 3, color = \"gray\", fontsize = 7)\n",
    "\n",
    "plt.xlabel(\"inter-arrival (days)\", size = 10, fontstyle = \"italic\")\n",
    "plt.ylabel(\"count\", size = 10, fontstyle = \"italic\")\n",
    "\n",
    "sns.despine(bottom = True, left = True)\n",
    "\n",
    "plt.axvline(x = statistics.mean(timing_data), color = \"red\", lw = 5, alpha = 0.3)\n",
    "plt.yscale(\"log\")\n",
    "\n",
    "plt.legend([], [], frameon = False);"
   ]
  },
  {
   "cell_type": "markdown",
   "metadata": {},
   "source": [
    "Looking at the head of the curve, there appear to be lots of relatively fast transactions? One might expect to see a plot shaped more like a Poisson distribution instead, for legit inter-arrival times.  For example:"
   ]
  },
  {
   "cell_type": "code",
   "execution_count": 43,
   "metadata": {
    "execution": {
     "iopub.execute_input": "2025-08-11T19:43:24.482745Z",
     "iopub.status.busy": "2025-08-11T19:43:24.482677Z",
     "iopub.status.idle": "2025-08-11T19:43:24.520634Z",
     "shell.execute_reply": "2025-08-11T19:43:24.520310Z",
     "shell.execute_reply.started": "2025-08-11T19:43:24.482738Z"
    }
   },
   "outputs": [
    {
     "data": {
      "image/png": "[encoded data removed]",
      "text/plain": [
       "<Figure size 640x480 with 1 Axes>"
      ]
     },
     "metadata": {},
     "output_type": "display_data"
    }
   ],
   "source": [
    "dat = np.random.poisson(lam = statistics.mean(timing_data), size = len(timing_data))\n",
    "sns.kdeplot(dat);"
   ]
  },
  {
   "cell_type": "markdown",
   "metadata": {},
   "source": [
    "## Tradecraft: remitters vs. receivers"
   ]
  },
  {
   "cell_type": "markdown",
   "metadata": {},
   "source": [
    "Let's take a look at pairs companies involved in money transfers. \n",
    "One would expect that the *remitters* and *receivers* do not swith roles much, in other words the \"suppliers\" and \"customers\" of any given firm are two distinct populations.\n",
    "Are there counter examples?"
   ]
  },
  {
   "cell_type": "code",
   "execution_count": 44,
   "metadata": {
    "execution": {
     "iopub.execute_input": "2025-08-11T19:43:24.521106Z",
     "iopub.status.busy": "2025-08-11T19:43:24.521005Z",
     "iopub.status.idle": "2025-08-11T19:43:24.543742Z",
     "shell.execute_reply": "2025-08-11T19:43:24.543447Z",
     "shell.execute_reply.started": "2025-08-11T19:43:24.521095Z"
    },
    "scrolled": true
   },
   "outputs": [
    {
     "name": "stderr",
     "output_type": "stream",
     "text": [
      "ic| pair: (1, 3)\n",
      "    total_pair(pair): 73654.62\n",
      "    total_pair(rev_pair): 45434.11\n",
      "ic| pair: (1, 5)\n",
      "    total_pair(pair): 50001.92\n",
      "    total_pair(rev_pair): 64621.229999999996\n",
      "ic| pair: (3, 5)\n",
      "    total_pair(pair): 69932.34999999999\n",
      "    total_pair(rev_pair): 48209.5\n"
     ]
    }
   ],
   "source": [
    "def total_pair (\n",
    "    pair: tuple,\n",
    "    ) -> float:\n",
    "    return sum([\n",
    "        item[\"amount\"]\n",
    "        for item in edge_xact[pair]\n",
    "    ])\n",
    "\n",
    "\n",
    "for pair in itertools.combinations(graph.nodes, 2):\n",
    "    if graph.has_edge(*pair):\n",
    "        rev_pair: tuple = ( pair[1], pair[0], )\n",
    "\n",
    "        if graph.has_edge(*rev_pair):\n",
    "            ic(pair, total_pair(pair), total_pair(rev_pair))"
   ]
  },
  {
   "cell_type": "markdown",
   "metadata": {},
   "source": [
    "Three firms stand out -- the same ones used for \"layering\"."
   ]
  }
 ],
 "metadata": {
  "kernelspec": {
   "display_name": "Python 3 (ipykernel)",
   "language": "python",
   "name": "python3"
  },
  "language_info": {
   "codemirror_mode": {
    "name": "ipython",
    "version": 3
   },
   "file_extension": ".py",
   "mimetype": "text/x-python",
   "name": "python",
   "nbconvert_exporter": "python",
   "pygments_lexer": "ipython3",
   "version": "3.13.3"
  }
 },
 "nbformat": 4,
 "nbformat_minor": 4
}
