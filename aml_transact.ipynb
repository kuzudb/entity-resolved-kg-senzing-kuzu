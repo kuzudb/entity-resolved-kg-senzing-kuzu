{
 "cells": [
  {
   "cell_type": "markdown",
   "metadata": {},
   "source": [
    "# How to get started in Money Laundering"
   ]
  },
  {
   "cell_type": "code",
   "execution_count": 1,
   "metadata": {
    "execution": {
     "iopub.execute_input": "2025-08-11T02:11:15.166969Z",
     "iopub.status.busy": "2025-08-11T02:11:15.166577Z",
     "iopub.status.idle": "2025-08-11T02:11:15.395918Z",
     "shell.execute_reply": "2025-08-11T02:11:15.395670Z",
     "shell.execute_reply.started": "2025-08-11T02:11:15.166941Z"
    }
   },
   "outputs": [],
   "source": [
    "from collections import defaultdict\n",
    "from datetime import datetime, timedelta\n",
    "import itertools\n",
    "\n",
    "from icecream import ic\n",
    "from yfiles_jupyter_graphs_for_kuzu import KuzuGraphWidget\n",
    "import kuzu\n",
    "import networkx as nx\n",
    "import polars as pl\n",
    "import watermark\n",
    "\n",
    "from aml import Simulation"
   ]
  },
  {
   "cell_type": "code",
   "execution_count": 2,
   "metadata": {
    "execution": {
     "iopub.execute_input": "2025-08-11T02:11:16.031348Z",
     "iopub.status.busy": "2025-08-11T02:11:16.030793Z",
     "iopub.status.idle": "2025-08-11T02:11:16.059318Z",
     "shell.execute_reply": "2025-08-11T02:11:16.058764Z",
     "shell.execute_reply.started": "2025-08-11T02:11:16.031307Z"
    }
   },
   "outputs": [
    {
     "name": "stdout",
     "output_type": "stream",
     "text": [
      "Last updated: 2025-08-10T19:11:16.034606-07:00\n",
      "\n",
      "Python implementation: CPython\n",
      "Python version       : 3.13.3\n",
      "IPython version      : 9.1.0\n",
      "\n",
      "Compiler    : Clang 16.0.0 (clang-1600.0.26.6)\n",
      "OS          : Darwin\n",
      "Release     : 24.5.0\n",
      "Machine     : arm64\n",
      "Processor   : arm\n",
      "CPU cores   : 14\n",
      "Architecture: 64bit\n",
      "\n",
      "networkx                      : 3.4.2\n",
      "yfiles_jupyter_graphs_for_kuzu: 0.0.4\n",
      "kuzu                          : 0.9.0\n",
      "watermark                     : 2.5.0\n",
      "polars                        : 1.29.0\n",
      "\n"
     ]
    }
   ],
   "source": [
    "%load_ext watermark\n",
    "%watermark\n",
    "%watermark --iversions"
   ]
  },
  {
   "cell_type": "markdown",
   "metadata": {},
   "source": [
    "## Extract one fraud network"
   ]
  },
  {
   "cell_type": "markdown",
   "metadata": {},
   "source": [
    "Be sure to run the `create_graph.ipynb` notebook at least once first.\n",
    "\n",
    "Then be sure to **shutdown** the `create_graph.ipynb` notebook after running it."
   ]
  },
  {
   "cell_type": "code",
   "execution_count": 3,
   "metadata": {
    "execution": {
     "iopub.execute_input": "2025-08-11T02:11:18.115532Z",
     "iopub.status.busy": "2025-08-11T02:11:18.114915Z",
     "iopub.status.idle": "2025-08-11T02:11:18.170171Z",
     "shell.execute_reply": "2025-08-11T02:11:18.169838Z",
     "shell.execute_reply.started": "2025-08-11T02:11:18.115494Z"
    }
   },
   "outputs": [],
   "source": [
    "DB_PATH = \"./db\"\n",
    "\n",
    "db = kuzu.Database(DB_PATH)\n",
    "conn = kuzu.Connection(db)"
   ]
  },
  {
   "cell_type": "markdown",
   "metadata": {},
   "source": [
    "Create a yFiles graph widget so we can explore our graph interactively"
   ]
  },
  {
   "cell_type": "code",
   "execution_count": 4,
   "metadata": {
    "execution": {
     "iopub.execute_input": "2025-08-11T02:11:19.485465Z",
     "iopub.status.busy": "2025-08-11T02:11:19.484896Z",
     "iopub.status.idle": "2025-08-11T02:11:19.490101Z",
     "shell.execute_reply": "2025-08-11T02:11:19.489061Z",
     "shell.execute_reply.started": "2025-08-11T02:11:19.485429Z"
    }
   },
   "outputs": [],
   "source": [
    "g = KuzuGraphWidget(conn)"
   ]
  },
  {
   "cell_type": "code",
   "execution_count": 5,
   "metadata": {
    "execution": {
     "iopub.execute_input": "2025-08-11T02:11:20.693314Z",
     "iopub.status.busy": "2025-08-11T02:11:20.692895Z",
     "iopub.status.idle": "2025-08-11T02:11:20.746942Z",
     "shell.execute_reply": "2025-08-11T02:11:20.746692Z",
     "shell.execute_reply.started": "2025-08-11T02:11:20.693291Z"
    }
   },
   "outputs": [
    {
     "data": {
      "application/vnd.jupyter.widget-view+json": {
       "model_id": "9e5b92ed193b40e986325f9cb59a3752",
       "version_major": 2,
       "version_minor": 0
      },
      "text/plain": [
       "GraphWidget(layout=Layout(height='650px', width='100%'))"
      ]
     },
     "metadata": {},
     "output_type": "display_data"
    }
   ],
   "source": [
    "g.show_cypher(\n",
    "    \"\"\"\n",
    "    MATCH (a:Entity)-[b *1..3]->(c)\n",
    "    WHERE a.descrip CONTAINS \"Abassin\"\n",
    "    RETURN * LIMIT 100;\n",
    "    \"\"\",\n",
    "    layout=\"radial\"\n",
    ")"
   ]
  },
  {
   "cell_type": "markdown",
   "metadata": {},
   "source": [
    "Now let's extract the shell companies in this particular fraud network"
   ]
  },
  {
   "cell_type": "code",
   "execution_count": 6,
   "metadata": {
    "execution": {
     "iopub.execute_input": "2025-08-11T02:11:26.696017Z",
     "iopub.status.busy": "2025-08-11T02:11:26.695680Z",
     "iopub.status.idle": "2025-08-11T02:11:26.924363Z",
     "shell.execute_reply": "2025-08-11T02:11:26.924123Z",
     "shell.execute_reply.started": "2025-08-11T02:11:26.695996Z"
    }
   },
   "outputs": [
    {
     "name": "stderr",
     "output_type": "stream",
     "text": [
      "ic| shells: {'BARLLOWS SERVICES LTD': ['31 Quernmore Close, Bromley, Kent, United Kingdom, '\n",
      "                                       'BR1 4EL',\n",
      "                                       '3 Market Parade, 41 East Street, Bromley, BR1 1QN'],\n",
      "             'LMAR (GB) LTD': ['31 Quernmore Close, Bromley, Kent, United Kingdom, BR1 '\n",
      "                               '4EL'],\n",
      "             'WELLHANCIA HEALTH CARE LTD': ['31 Quernmore Close, Bromley, BR1 4EL']}\n"
     ]
    }
   ],
   "source": [
    "res = conn.execute(\n",
    "    \"\"\"\n",
    "    MATCH (a:Entity)-[b *1..3]->(c)\n",
    "    WHERE a.descrip CONTAINS \"Abassin\"\n",
    "      AND c.kind = \"ORGANIZATION\"\n",
    "    RETURN c.name, COLLECT(DISTINCT c.addr)\n",
    "    LIMIT 100;\n",
    "    \"\"\"\n",
    ")\n",
    "\n",
    "shells: dict = {\n",
    "    row[0]: row[1]\n",
    "    for row in res.get_as_pl().iter_rows()\n",
    "}\n",
    "\n",
    "ic(shells);"
   ]
  },
  {
   "cell_type": "markdown",
   "metadata": {},
   "source": [
    "## Generate synthetic data for bank transactions"
   ]
  },
  {
   "cell_type": "code",
   "execution_count": 7,
   "metadata": {
    "execution": {
     "iopub.execute_input": "2025-08-11T02:11:28.696474Z",
     "iopub.status.busy": "2025-08-11T02:11:28.695788Z",
     "iopub.status.idle": "2025-08-11T02:11:28.726931Z",
     "shell.execute_reply": "2025-08-11T02:11:28.726356Z",
     "shell.execute_reply.started": "2025-08-11T02:11:28.696436Z"
    }
   },
   "outputs": [],
   "source": [
    "sim: Simulation = Simulation()\n",
    "sim.gen_shell_corps(shells)"
   ]
  },
  {
   "cell_type": "markdown",
   "metadata": {},
   "source": [
    "Simulate a \"layering\" phase a few times, followed by \"deals\" which drain the accounts to cash out."
   ]
  },
  {
   "cell_type": "code",
   "execution_count": 8,
   "metadata": {
    "execution": {
     "iopub.execute_input": "2025-08-11T02:11:29.842472Z",
     "iopub.status.busy": "2025-08-11T02:11:29.841813Z",
     "iopub.status.idle": "2025-08-11T02:11:29.848313Z",
     "shell.execute_reply": "2025-08-11T02:11:29.847567Z",
     "shell.execute_reply.started": "2025-08-11T02:11:29.842434Z"
    }
   },
   "outputs": [],
   "source": [
    "PRESS_YOUR_LUCK: int = 3\n",
    "\n",
    "for _ in range(PRESS_YOUR_LUCK):\n",
    "    sim.layer_rmf()\n",
    "\n",
    "sim.drain_into_deals()"
   ]
  },
  {
   "cell_type": "markdown",
   "metadata": {},
   "source": [
    "Export the synthetic data as a DataFrame"
   ]
  },
  {
   "cell_type": "code",
   "execution_count": 9,
   "metadata": {
    "execution": {
     "iopub.execute_input": "2025-08-11T02:11:31.676891Z",
     "iopub.status.busy": "2025-08-11T02:11:31.676374Z",
     "iopub.status.idle": "2025-08-11T02:11:31.687430Z",
     "shell.execute_reply": "2025-08-11T02:11:31.686874Z",
     "shell.execute_reply.started": "2025-08-11T02:11:31.676862Z"
    },
    "scrolled": true
   },
   "outputs": [
    {
     "data": {
      "text/html": [
       "<div><style>\n",
       ".dataframe > thead > tr,\n",
       ".dataframe > tbody > tr {\n",
       "  text-align: right;\n",
       "  white-space: pre-wrap;\n",
       "}\n",
       "</style>\n",
       "<small>shape: (5, 5)</small><table border=\"1\" class=\"dataframe\"><thead><tr><th>date</th><th>amount</th><th>remitter</th><th>receiver</th><th>descript</th></tr><tr><td>str</td><td>f64</td><td>str</td><td>str</td><td>str</td></tr></thead><tbody><tr><td>&quot;2025-08-11T19:11:15.394674&quot;</td><td>41000.0</td><td>&quot;BCCI&quot;</td><td>&quot;BARLLOWS SERVICES LTD&quot;</td><td>&quot;local deposit&quot;</td></tr><tr><td>&quot;2025-08-13T19:11:15.394674&quot;</td><td>52000.0</td><td>&quot;BCCI&quot;</td><td>&quot;BARLLOWS SERVICES LTD&quot;</td><td>&quot;local deposit&quot;</td></tr><tr><td>&quot;2025-08-13T19:11:15.394674&quot;</td><td>44000.0</td><td>&quot;BCCI&quot;</td><td>&quot;BARLLOWS SERVICES LTD&quot;</td><td>&quot;local deposit&quot;</td></tr><tr><td>&quot;2025-08-14T19:11:15.394674&quot;</td><td>43000.0</td><td>&quot;Ranchlander National Bank&quot;</td><td>&quot;LMAR (GB) LTD&quot;</td><td>&quot;local deposit&quot;</td></tr><tr><td>&quot;2025-08-14T19:11:15.394674&quot;</td><td>45000.0</td><td>&quot;BCCI&quot;</td><td>&quot;BARLLOWS SERVICES LTD&quot;</td><td>&quot;local deposit&quot;</td></tr></tbody></table></div>"
      ],
      "text/plain": [
       "shape: (5, 5)\n",
       "┌────────────────────────┬─────────┬───────────────────────┬───────────────────────┬───────────────┐\n",
       "│ date                   ┆ amount  ┆ remitter              ┆ receiver              ┆ descript      │\n",
       "│ ---                    ┆ ---     ┆ ---                   ┆ ---                   ┆ ---           │\n",
       "│ str                    ┆ f64     ┆ str                   ┆ str                   ┆ str           │\n",
       "╞════════════════════════╪═════════╪═══════════════════════╪═══════════════════════╪═══════════════╡\n",
       "│ 2025-08-11T19:11:15.39 ┆ 41000.0 ┆ BCCI                  ┆ BARLLOWS SERVICES LTD ┆ local deposit │\n",
       "│ 4674                   ┆         ┆                       ┆                       ┆               │\n",
       "│ 2025-08-13T19:11:15.39 ┆ 52000.0 ┆ BCCI                  ┆ BARLLOWS SERVICES LTD ┆ local deposit │\n",
       "│ 4674                   ┆         ┆                       ┆                       ┆               │\n",
       "│ 2025-08-13T19:11:15.39 ┆ 44000.0 ┆ BCCI                  ┆ BARLLOWS SERVICES LTD ┆ local deposit │\n",
       "│ 4674                   ┆         ┆                       ┆                       ┆               │\n",
       "│ 2025-08-14T19:11:15.39 ┆ 43000.0 ┆ Ranchlander National  ┆ LMAR (GB) LTD         ┆ local deposit │\n",
       "│ 4674                   ┆         ┆ Bank                  ┆                       ┆               │\n",
       "│ 2025-08-14T19:11:15.39 ┆ 45000.0 ┆ BCCI                  ┆ BARLLOWS SERVICES LTD ┆ local deposit │\n",
       "│ 4674                   ┆         ┆                       ┆                       ┆               │\n",
       "└────────────────────────┴─────────┴───────────────────────┴───────────────────────┴───────────────┘"
      ]
     },
     "execution_count": 9,
     "metadata": {},
     "output_type": "execute_result"
    }
   ],
   "source": [
    "pl.Config.set_tbl_rows(-1)\n",
    "\n",
    "df: pl.DataFrame = sim.get_xact_df()\n",
    "df.head()"
   ]
  },
  {
   "cell_type": "markdown",
   "metadata": {},
   "source": [
    "## Use graph analytics to detect patterns of tradecraft"
   ]
  },
  {
   "cell_type": "markdown",
   "metadata": {},
   "source": [
    "First, we'll construct a graph of the transactions between companies."
   ]
  },
  {
   "cell_type": "code",
   "execution_count": 10,
   "metadata": {
    "execution": {
     "iopub.execute_input": "2025-08-11T02:11:32.666964Z",
     "iopub.status.busy": "2025-08-11T02:11:32.666614Z",
     "iopub.status.idle": "2025-08-11T02:11:32.672744Z",
     "shell.execute_reply": "2025-08-11T02:11:32.671924Z",
     "shell.execute_reply.started": "2025-08-11T02:11:32.666946Z"
    }
   },
   "outputs": [],
   "source": [
    "graph: nx.DiGraph = nx.DiGraph()\n",
    "node_names: list = []\n",
    "edge_xact: dict = defaultdict(list)\n",
    "\n",
    "for row in df.rows(named = True):\n",
    "    src_label: str = row[\"remitter\"]\n",
    "    dst_label: str = row[\"receiver\"]\n",
    "\n",
    "    if src_label not in node_names:\n",
    "        node_names.append(src_label)\n",
    "        src_id: int = node_names.index(src_label)\n",
    "\n",
    "        graph.add_node(\n",
    "            src_id,\n",
    "            name = src_label,\n",
    "        )            \n",
    "    else:\n",
    "        src_id = node_names.index(src_label)\n",
    "\n",
    "    if dst_label not in node_names:\n",
    "        node_names.append(dst_label)\n",
    "        dst_id: int = node_names.index(dst_label)\n",
    "\n",
    "        graph.add_node(\n",
    "            dst_id,\n",
    "            name = dst_label,\n",
    "        )\n",
    "    else:\n",
    "        dst_id = node_names.index(dst_label)\n",
    "\n",
    "    graph.add_edge(\n",
    "        src_id,\n",
    "        dst_id,\n",
    "    )\n",
    "\n",
    "    edge_xact[ (src_id, dst_id) ].append({\n",
    "        \"amount\": row[\"amount\"],\n",
    "        \"date\": datetime.fromisoformat(str(row[\"date\"])),\n",
    "        \"descript\": row[\"descript\"],\n",
    "    })    "
   ]
  },
  {
   "cell_type": "code",
   "execution_count": 11,
   "metadata": {
    "execution": {
     "iopub.execute_input": "2025-08-11T02:11:33.440651Z",
     "iopub.status.busy": "2025-08-11T02:11:33.439997Z",
     "iopub.status.idle": "2025-08-11T02:11:33.446348Z",
     "shell.execute_reply": "2025-08-11T02:11:33.445263Z",
     "shell.execute_reply.started": "2025-08-11T02:11:33.440609Z"
    }
   },
   "outputs": [],
   "source": [
    "for node_id, degree in sorted(nx.degree(graph), key = lambda x: x[1], reverse = True):\n",
    "    graph.nodes[node_id][\"degree\"] = degree"
   ]
  },
  {
   "cell_type": "markdown",
   "metadata": {},
   "source": [
    "Let's take a look at pairs companies involved in money transfers. \n",
    "One would expect that the *remitters* and *receivers* do not swith roles much, in other words the \"suppliers\" and \"customers\" of any given firm are two distinct populations.\n",
    "Are there counter examples?"
   ]
  },
  {
   "cell_type": "code",
   "execution_count": 27,
   "metadata": {
    "execution": {
     "iopub.execute_input": "2025-08-11T02:20:30.048572Z",
     "iopub.status.busy": "2025-08-11T02:20:30.048275Z",
     "iopub.status.idle": "2025-08-11T02:20:30.084696Z",
     "shell.execute_reply": "2025-08-11T02:20:30.084373Z",
     "shell.execute_reply.started": "2025-08-11T02:20:30.048554Z"
    },
    "scrolled": true
   },
   "outputs": [
    {
     "name": "stderr",
     "output_type": "stream",
     "text": [
      "ic| pair: (1, 3)\n",
      "    total_pair(pair): 104059.3\n",
      "    total_pair(rev_pair): 32805.32\n",
      "ic| pair: (1, 5)\n",
      "    total_pair(pair): 28934.8\n",
      "    total_pair(rev_pair): 98666.78\n",
      "ic| pair: (3, 5)\n",
      "    total_pair(pair): 98837.6\n",
      "    total_pair(rev_pair): 39230.0\n"
     ]
    }
   ],
   "source": [
    "def total_pair (\n",
    "    pair: tuple,\n",
    "    ) -> float:\n",
    "    \"\"\"\n",
    "Tally the total transacted amounts in one direction between a pair of companies.\n",
    "    \"\"\"\n",
    "    return sum([\n",
    "        item[\"amount\"]\n",
    "        for item in edge_xact[pair]\n",
    "    ])\n",
    "\n",
    "\n",
    "for pair in itertools.combinations(graph.nodes, 2):\n",
    "    if graph.has_edge(*pair):\n",
    "        rev_pair: tuple = ( pair[1], pair[0], )\n",
    "\n",
    "        if graph.has_edge(*rev_pair):\n",
    "            ic(pair, total_pair(pair), total_pair(rev_pair))"
   ]
  },
  {
   "cell_type": "markdown",
   "metadata": {},
   "source": [
    "In fact, the three firms stand out -- the same ones used for \"layering\":"
   ]
  },
  {
   "cell_type": "code",
   "execution_count": 30,
   "metadata": {
    "execution": {
     "iopub.execute_input": "2025-08-11T02:31:55.166279Z",
     "iopub.status.busy": "2025-08-11T02:31:55.165862Z",
     "iopub.status.idle": "2025-08-11T02:31:55.216210Z",
     "shell.execute_reply": "2025-08-11T02:31:55.215481Z",
     "shell.execute_reply.started": "2025-08-11T02:31:55.166256Z"
    }
   },
   "outputs": [
    {
     "name": "stderr",
     "output_type": "stream",
     "text": [
      "ic| graph.nodes[1]: {'degree': 12, 'name': 'BARLLOWS SERVICES LTD'}\n",
      "ic| graph.nodes[3]: {'degree': 8, 'name': 'LMAR (GB) LTD'}\n",
      "ic| graph.nodes[5]: {'degree': 12, 'name': 'WELLHANCIA HEALTH CARE LTD'}\n"
     ]
    },
    {
     "data": {
      "text/plain": [
       "''"
      ]
     },
     "execution_count": 30,
     "metadata": {},
     "output_type": "execute_result"
    }
   ],
   "source": [
    "ic(graph.nodes[1])\n",
    "ic(graph.nodes[3])\n",
    "ic(graph.nodes[5])\n",
    ";"
   ]
  },
  {
   "cell_type": "code",
   "execution_count": null,
   "metadata": {},
   "outputs": [],
   "source": []
  }
 ],
 "metadata": {
  "kernelspec": {
   "display_name": "Python 3 (ipykernel)",
   "language": "python",
   "name": "python3"
  },
  "language_info": {
   "codemirror_mode": {
    "name": "ipython",
    "version": 3
   },
   "file_extension": ".py",
   "mimetype": "text/x-python",
   "name": "python",
   "nbconvert_exporter": "python",
   "pygments_lexer": "ipython3",
   "version": "3.13.3"
  }
 },
 "nbformat": 4,
 "nbformat_minor": 4
}
