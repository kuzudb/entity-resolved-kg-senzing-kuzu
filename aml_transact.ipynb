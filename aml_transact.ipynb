{
 "cells": [
  {
   "cell_type": "markdown",
   "metadata": {},
   "source": [
    "# Simulated Money Laundering"
   ]
  },
  {
   "cell_type": "code",
   "execution_count": 1,
   "metadata": {
    "execution": {
     "iopub.execute_input": "2025-07-29T22:58:18.672904Z",
     "iopub.status.busy": "2025-07-29T22:58:18.672706Z",
     "iopub.status.idle": "2025-07-29T22:58:18.807933Z",
     "shell.execute_reply": "2025-07-29T22:58:18.807681Z",
     "shell.execute_reply.started": "2025-07-29T22:58:18.672887Z"
    }
   },
   "outputs": [],
   "source": [
    "from icecream import ic\n",
    "from yfiles_jupyter_graphs_for_kuzu import KuzuGraphWidget\n",
    "import kuzu\n",
    "import polars as pl\n",
    "import watermark\n",
    "\n",
    "from aml import Simulation"
   ]
  },
  {
   "cell_type": "code",
   "execution_count": 2,
   "metadata": {
    "execution": {
     "iopub.execute_input": "2025-07-29T22:58:18.808319Z",
     "iopub.status.busy": "2025-07-29T22:58:18.808225Z",
     "iopub.status.idle": "2025-07-29T22:58:18.817378Z",
     "shell.execute_reply": "2025-07-29T22:58:18.817149Z",
     "shell.execute_reply.started": "2025-07-29T22:58:18.808311Z"
    }
   },
   "outputs": [
    {
     "name": "stdout",
     "output_type": "stream",
     "text": [
      "Last updated: 2025-07-29T15:58:18.808925-07:00\n",
      "\n",
      "Python implementation: CPython\n",
      "Python version       : 3.13.3\n",
      "IPython version      : 9.1.0\n",
      "\n",
      "Compiler    : Clang 16.0.0 (clang-1600.0.26.6)\n",
      "OS          : Darwin\n",
      "Release     : 24.5.0\n",
      "Machine     : arm64\n",
      "Processor   : arm\n",
      "CPU cores   : 14\n",
      "Architecture: 64bit\n",
      "\n",
      "kuzu                          : 0.9.0\n",
      "watermark                     : 2.5.0\n",
      "polars                        : 1.29.0\n",
      "yfiles_jupyter_graphs_for_kuzu: 0.0.4\n",
      "\n"
     ]
    }
   ],
   "source": [
    "%load_ext watermark\n",
    "%watermark\n",
    "%watermark --iversions"
   ]
  },
  {
   "cell_type": "markdown",
   "metadata": {},
   "source": [
    "## Extract one fraud network"
   ]
  },
  {
   "cell_type": "code",
   "execution_count": 3,
   "metadata": {
    "execution": {
     "iopub.execute_input": "2025-07-29T22:58:18.817879Z",
     "iopub.status.busy": "2025-07-29T22:58:18.817784Z",
     "iopub.status.idle": "2025-07-29T22:58:18.843616Z",
     "shell.execute_reply": "2025-07-29T22:58:18.843350Z",
     "shell.execute_reply.started": "2025-07-29T22:58:18.817869Z"
    }
   },
   "outputs": [],
   "source": [
    "DB_PATH = \"./db\"\n",
    "\n",
    "db = kuzu.Database(DB_PATH)\n",
    "conn = kuzu.Connection(db)"
   ]
  },
  {
   "cell_type": "markdown",
   "metadata": {},
   "source": [
    "Create a yFiles graph widget so we can explore our graph interactively"
   ]
  },
  {
   "cell_type": "code",
   "execution_count": 4,
   "metadata": {
    "execution": {
     "iopub.execute_input": "2025-07-29T22:58:18.844074Z",
     "iopub.status.busy": "2025-07-29T22:58:18.844004Z",
     "iopub.status.idle": "2025-07-29T22:58:18.845653Z",
     "shell.execute_reply": "2025-07-29T22:58:18.845429Z",
     "shell.execute_reply.started": "2025-07-29T22:58:18.844067Z"
    }
   },
   "outputs": [],
   "source": [
    "g = KuzuGraphWidget(conn)"
   ]
  },
  {
   "cell_type": "code",
   "execution_count": 5,
   "metadata": {
    "execution": {
     "iopub.execute_input": "2025-07-29T22:58:18.846027Z",
     "iopub.status.busy": "2025-07-29T22:58:18.845968Z",
     "iopub.status.idle": "2025-07-29T22:58:18.892660Z",
     "shell.execute_reply": "2025-07-29T22:58:18.892352Z",
     "shell.execute_reply.started": "2025-07-29T22:58:18.846021Z"
    }
   },
   "outputs": [
    {
     "data": {
      "application/vnd.jupyter.widget-view+json": {
       "model_id": "a087f869453c48ca947b2cbfa40c866d",
       "version_major": 2,
       "version_minor": 0
      },
      "text/plain": [
       "GraphWidget(layout=Layout(height='710px', width='100%'))"
      ]
     },
     "metadata": {},
     "output_type": "display_data"
    }
   ],
   "source": [
    "g.show_cypher(\n",
    "    \"\"\"\n",
    "    MATCH (a)-[b]->(c:Entity)-[d *1..4]->(e)\n",
    "    WHERE c.id = \"sz_100036\"\n",
    "    RETURN * LIMIT 200;\n",
    "    \"\"\",\n",
    "    layout=\"circular\"\n",
    ")"
   ]
  },
  {
   "cell_type": "markdown",
   "metadata": {},
   "source": [
    "Now let's extract the shell companies in this particular fraud network"
   ]
  },
  {
   "cell_type": "code",
   "execution_count": 6,
   "metadata": {
    "execution": {
     "iopub.execute_input": "2025-07-29T22:58:18.894224Z",
     "iopub.status.busy": "2025-07-29T22:58:18.894150Z",
     "iopub.status.idle": "2025-07-29T22:58:19.089336Z",
     "shell.execute_reply": "2025-07-29T22:58:19.089101Z",
     "shell.execute_reply.started": "2025-07-29T22:58:18.894216Z"
    }
   },
   "outputs": [
    {
     "name": "stderr",
     "output_type": "stream",
     "text": [
      "ic| shells: {'BARLLOWS SERVICES LTD': ['31 Quernmore Close, Bromley, Kent, United Kingdom, '\n",
      "                                       'BR1 4EL',\n",
      "                                       '3 Market Parade, 41 East Street, Bromley, BR1 1QN'],\n",
      "             'LMAR (GB) LTD': ['31 Quernmore Close, Bromley, Kent, United Kingdom, BR1 '\n",
      "                               '4EL'],\n",
      "             'WELLHANCIA HEALTH CARE LTD': ['31 Quernmore Close, Bromley, BR1 4EL']}\n"
     ]
    }
   ],
   "source": [
    "res = conn.execute(\n",
    "    \"\"\"\n",
    "    MATCH (a:Entity)-[b *1..3]->(c)\n",
    "    WHERE a.descrip CONTAINS \"Abassin\"\n",
    "      AND c.kind = \"ORGANIZATION\"\n",
    "    RETURN c.name, COLLECT(DISTINCT c.addr)\n",
    "    LIMIT 100;\n",
    "    \"\"\"\n",
    ")\n",
    "\n",
    "shells: dict = {\n",
    "    row[0]: row[1]\n",
    "    for row in res.get_as_pl().iter_rows()\n",
    "}\n",
    "\n",
    "ic(shells);"
   ]
  },
  {
   "cell_type": "markdown",
   "metadata": {},
   "source": [
    "## Generate synthetic data for bank transactions"
   ]
  },
  {
   "cell_type": "code",
   "execution_count": 7,
   "metadata": {
    "execution": {
     "iopub.execute_input": "2025-07-29T22:58:19.089941Z",
     "iopub.status.busy": "2025-07-29T22:58:19.089826Z",
     "iopub.status.idle": "2025-07-29T22:58:19.106408Z",
     "shell.execute_reply": "2025-07-29T22:58:19.106141Z",
     "shell.execute_reply.started": "2025-07-29T22:58:19.089930Z"
    }
   },
   "outputs": [],
   "source": [
    "sim: Simulation = Simulation()\n",
    "sim.gen_shell_corps(shells)"
   ]
  },
  {
   "cell_type": "markdown",
   "metadata": {},
   "source": [
    "Simulate a \"layering\" phase, followed by \"deals\" which drain the accounts"
   ]
  },
  {
   "cell_type": "code",
   "execution_count": 8,
   "metadata": {
    "execution": {
     "iopub.execute_input": "2025-07-29T22:58:19.106828Z",
     "iopub.status.busy": "2025-07-29T22:58:19.106736Z",
     "iopub.status.idle": "2025-07-29T22:58:19.109433Z",
     "shell.execute_reply": "2025-07-29T22:58:19.109085Z",
     "shell.execute_reply.started": "2025-07-29T22:58:19.106821Z"
    }
   },
   "outputs": [],
   "source": [
    "sim.layer_rmf()\n",
    "sim.drain_into_deals()"
   ]
  },
  {
   "cell_type": "markdown",
   "metadata": {},
   "source": [
    "Export the synthetic data as a DataFrame"
   ]
  },
  {
   "cell_type": "code",
   "execution_count": 9,
   "metadata": {
    "execution": {
     "iopub.execute_input": "2025-07-29T22:58:19.109959Z",
     "iopub.status.busy": "2025-07-29T22:58:19.109855Z",
     "iopub.status.idle": "2025-07-29T22:58:19.114661Z",
     "shell.execute_reply": "2025-07-29T22:58:19.114435Z",
     "shell.execute_reply.started": "2025-07-29T22:58:19.109951Z"
    },
    "scrolled": true
   },
   "outputs": [
    {
     "data": {
      "text/html": [
       "<div><style>\n",
       ".dataframe > thead > tr,\n",
       ".dataframe > tbody > tr {\n",
       "  text-align: right;\n",
       "  white-space: pre-wrap;\n",
       "}\n",
       "</style>\n",
       "<small>shape: (30, 5)</small><table border=\"1\" class=\"dataframe\"><thead><tr><th>date</th><th>amount</th><th>remitter</th><th>receiver</th><th>descript</th></tr><tr><td>str</td><td>f64</td><td>str</td><td>str</td><td>str</td></tr></thead><tbody><tr><td>&quot;2025-07-30T15:58:18.806637&quot;</td><td>46000.0</td><td>&quot;Ranchlander National Bank&quot;</td><td>&quot;WELLHANCIA HEALTH CARE LTD&quot;</td><td>&quot;local deposit&quot;</td></tr><tr><td>&quot;2025-07-31T15:58:18.806637&quot;</td><td>65000.0</td><td>&quot;Banca Socială&quot;</td><td>&quot;LMAR (GB) LTD&quot;</td><td>&quot;local deposit&quot;</td></tr><tr><td>&quot;2025-08-02T15:58:18.806637&quot;</td><td>63000.0</td><td>&quot;Banca Socială&quot;</td><td>&quot;LMAR (GB) LTD&quot;</td><td>&quot;local deposit&quot;</td></tr><tr><td>&quot;2025-08-02T15:58:18.806637&quot;</td><td>51000.0</td><td>&quot;Ranchlander National Bank&quot;</td><td>&quot;WELLHANCIA HEALTH CARE LTD&quot;</td><td>&quot;local deposit&quot;</td></tr><tr><td>&quot;2025-08-04T15:58:18.806637&quot;</td><td>52000.0</td><td>&quot;Santa Anna National Bank&quot;</td><td>&quot;BARLLOWS SERVICES LTD&quot;</td><td>&quot;local deposit&quot;</td></tr><tr><td>&quot;2025-08-05T15:58:18.806637&quot;</td><td>52000.0</td><td>&quot;Santa Anna National Bank&quot;</td><td>&quot;BARLLOWS SERVICES LTD&quot;</td><td>&quot;local deposit&quot;</td></tr><tr><td>&quot;2025-08-05T15:58:18.806637&quot;</td><td>59000.0</td><td>&quot;Santa Anna National Bank&quot;</td><td>&quot;BARLLOWS SERVICES LTD&quot;</td><td>&quot;local deposit&quot;</td></tr><tr><td>&quot;2025-08-05T15:58:18.806637&quot;</td><td>46000.0</td><td>&quot;Santa Anna National Bank&quot;</td><td>&quot;BARLLOWS SERVICES LTD&quot;</td><td>&quot;local deposit&quot;</td></tr><tr><td>&quot;2025-08-05T15:58:18.806637&quot;</td><td>54000.0</td><td>&quot;Ranchlander National Bank&quot;</td><td>&quot;WELLHANCIA HEALTH CARE LTD&quot;</td><td>&quot;local deposit&quot;</td></tr><tr><td>&quot;2025-08-10T15:58:18.806637&quot;</td><td>62000.0</td><td>&quot;Amazon Marketplace&quot;</td><td>&quot;WELLHANCIA HEALTH CARE LTD&quot;</td><td>&quot;invoiced services&quot;</td></tr><tr><td>&quot;2025-08-17T15:58:18.806637&quot;</td><td>61867.813085</td><td>&quot;WELLHANCIA HEALTH CARE LTD&quot;</td><td>&quot;BARLLOWS SERVICES LTD&quot;</td><td>&quot;invoiced services&quot;</td></tr><tr><td>&quot;2025-08-23T15:58:18.806637&quot;</td><td>57969.108312</td><td>&quot;BARLLOWS SERVICES LTD&quot;</td><td>&quot;LMAR (GB) LTD&quot;</td><td>&quot;invoiced services&quot;</td></tr><tr><td>&quot;2025-08-28T15:58:18.806637&quot;</td><td>54244.785737</td><td>&quot;LMAR (GB) LTD&quot;</td><td>&quot;WELLHANCIA HEALTH CARE LTD&quot;</td><td>&quot;invoiced services&quot;</td></tr><tr><td>&quot;2025-08-28T15:58:18.806637&quot;</td><td>45000.0</td><td>&quot;BARLLOWS SERVICES LTD&quot;</td><td>&quot;Pinance.io&quot;</td><td>&quot;investment&quot;</td></tr><tr><td>&quot;2025-08-31T15:58:18.806637&quot;</td><td>48000.0</td><td>&quot;LMAR (GB) LTD&quot;</td><td>&quot;DCEX Exchange&quot;</td><td>&quot;investment&quot;</td></tr><tr><td>&quot;2025-09-04T15:58:18.806637&quot;</td><td>34000.0</td><td>&quot;WELLHANCIA HEALTH CARE LTD&quot;</td><td>&quot;FX Alliance Traders&quot;</td><td>&quot;investment&quot;</td></tr><tr><td>&quot;2025-09-09T15:58:18.806637&quot;</td><td>55000.0</td><td>&quot;BARLLOWS SERVICES LTD&quot;</td><td>&quot;Bityard&quot;</td><td>&quot;investment&quot;</td></tr><tr><td>&quot;2025-09-11T15:58:18.806637&quot;</td><td>41000.0</td><td>&quot;WELLHANCIA HEALTH CARE LTD&quot;</td><td>&quot;Bityard&quot;</td><td>&quot;investment&quot;</td></tr><tr><td>&quot;2025-09-12T15:58:18.806637&quot;</td><td>53000.0</td><td>&quot;LMAR (GB) LTD&quot;</td><td>&quot;Pinance.io&quot;</td><td>&quot;investment&quot;</td></tr><tr><td>&quot;2025-09-18T15:58:18.806637&quot;</td><td>36000.0</td><td>&quot;BARLLOWS SERVICES LTD&quot;</td><td>&quot;CoinWpro&quot;</td><td>&quot;investment&quot;</td></tr><tr><td>&quot;2025-09-23T15:58:18.806637&quot;</td><td>41000.0</td><td>&quot;LMAR (GB) LTD&quot;</td><td>&quot;Coinegg&quot;</td><td>&quot;investment&quot;</td></tr><tr><td>&quot;2025-09-25T15:58:18.806637&quot;</td><td>66000.0</td><td>&quot;WELLHANCIA HEALTH CARE LTD&quot;</td><td>&quot;Bityard&quot;</td><td>&quot;investment&quot;</td></tr><tr><td>&quot;2025-09-27T15:58:18.806637&quot;</td><td>45000.0</td><td>&quot;BARLLOWS SERVICES LTD&quot;</td><td>&quot;DCEX Exchange&quot;</td><td>&quot;investment&quot;</td></tr><tr><td>&quot;2025-09-29T15:58:18.806637&quot;</td><td>48000.0</td><td>&quot;WELLHANCIA HEALTH CARE LTD&quot;</td><td>&quot;FX Alliance Traders&quot;</td><td>&quot;investment&quot;</td></tr><tr><td>&quot;2025-09-30T15:58:18.806637&quot;</td><td>37000.0</td><td>&quot;LMAR (GB) LTD&quot;</td><td>&quot;CoinWpro&quot;</td><td>&quot;investment&quot;</td></tr><tr><td>&quot;2025-10-08T15:58:18.806637&quot;</td><td>50000.0</td><td>&quot;BARLLOWS SERVICES LTD&quot;</td><td>&quot;Bityard&quot;</td><td>&quot;investment&quot;</td></tr><tr><td>&quot;2025-10-12T15:58:18.806637&quot;</td><td>6969.108312</td><td>&quot;LMAR (GB) LTD&quot;</td><td>&quot;BitMEX&quot;</td><td>&quot;investment&quot;</td></tr><tr><td>&quot;2025-10-12T15:58:18.806637&quot;</td><td>39867.813085</td><td>&quot;BARLLOWS SERVICES LTD&quot;</td><td>&quot;Pinance.io&quot;</td><td>&quot;investment&quot;</td></tr><tr><td>&quot;2025-10-16T15:58:18.806637&quot;</td><td>58000.0</td><td>&quot;WELLHANCIA HEALTH CARE LTD&quot;</td><td>&quot;DCEX Exchange&quot;</td><td>&quot;investment&quot;</td></tr><tr><td>&quot;2025-10-23T15:58:18.806637&quot;</td><td>20244.785737</td><td>&quot;WELLHANCIA HEALTH CARE LTD&quot;</td><td>&quot;DCEX Exchange&quot;</td><td>&quot;investment&quot;</td></tr></tbody></table></div>"
      ],
      "text/plain": [
       "shape: (30, 5)\n",
       "┌─────────────────────┬──────────────┬────────────────────┬────────────────────┬───────────────────┐\n",
       "│ date                ┆ amount       ┆ remitter           ┆ receiver           ┆ descript          │\n",
       "│ ---                 ┆ ---          ┆ ---                ┆ ---                ┆ ---               │\n",
       "│ str                 ┆ f64          ┆ str                ┆ str                ┆ str               │\n",
       "╞═════════════════════╪══════════════╪════════════════════╪════════════════════╪═══════════════════╡\n",
       "│ 2025-07-30T15:58:18 ┆ 46000.0      ┆ Ranchlander        ┆ WELLHANCIA HEALTH  ┆ local deposit     │\n",
       "│ .806637             ┆              ┆ National Bank      ┆ CARE LTD           ┆                   │\n",
       "│ 2025-07-31T15:58:18 ┆ 65000.0      ┆ Banca Socială      ┆ LMAR (GB) LTD      ┆ local deposit     │\n",
       "│ .806637             ┆              ┆                    ┆                    ┆                   │\n",
       "│ 2025-08-02T15:58:18 ┆ 63000.0      ┆ Banca Socială      ┆ LMAR (GB) LTD      ┆ local deposit     │\n",
       "│ .806637             ┆              ┆                    ┆                    ┆                   │\n",
       "│ 2025-08-02T15:58:18 ┆ 51000.0      ┆ Ranchlander        ┆ WELLHANCIA HEALTH  ┆ local deposit     │\n",
       "│ .806637             ┆              ┆ National Bank      ┆ CARE LTD           ┆                   │\n",
       "│ 2025-08-04T15:58:18 ┆ 52000.0      ┆ Santa Anna         ┆ BARLLOWS SERVICES  ┆ local deposit     │\n",
       "│ .806637             ┆              ┆ National Bank      ┆ LTD                ┆                   │\n",
       "│ 2025-08-05T15:58:18 ┆ 52000.0      ┆ Santa Anna         ┆ BARLLOWS SERVICES  ┆ local deposit     │\n",
       "│ .806637             ┆              ┆ National Bank      ┆ LTD                ┆                   │\n",
       "│ 2025-08-05T15:58:18 ┆ 59000.0      ┆ Santa Anna         ┆ BARLLOWS SERVICES  ┆ local deposit     │\n",
       "│ .806637             ┆              ┆ National Bank      ┆ LTD                ┆                   │\n",
       "│ 2025-08-05T15:58:18 ┆ 46000.0      ┆ Santa Anna         ┆ BARLLOWS SERVICES  ┆ local deposit     │\n",
       "│ .806637             ┆              ┆ National Bank      ┆ LTD                ┆                   │\n",
       "│ 2025-08-05T15:58:18 ┆ 54000.0      ┆ Ranchlander        ┆ WELLHANCIA HEALTH  ┆ local deposit     │\n",
       "│ .806637             ┆              ┆ National Bank      ┆ CARE LTD           ┆                   │\n",
       "│ 2025-08-10T15:58:18 ┆ 62000.0      ┆ Amazon Marketplace ┆ WELLHANCIA HEALTH  ┆ invoiced services │\n",
       "│ .806637             ┆              ┆                    ┆ CARE LTD           ┆                   │\n",
       "│ 2025-08-17T15:58:18 ┆ 61867.813085 ┆ WELLHANCIA HEALTH  ┆ BARLLOWS SERVICES  ┆ invoiced services │\n",
       "│ .806637             ┆              ┆ CARE LTD           ┆ LTD                ┆                   │\n",
       "│ 2025-08-23T15:58:18 ┆ 57969.108312 ┆ BARLLOWS SERVICES  ┆ LMAR (GB) LTD      ┆ invoiced services │\n",
       "│ .806637             ┆              ┆ LTD                ┆                    ┆                   │\n",
       "│ 2025-08-28T15:58:18 ┆ 54244.785737 ┆ LMAR (GB) LTD      ┆ WELLHANCIA HEALTH  ┆ invoiced services │\n",
       "│ .806637             ┆              ┆                    ┆ CARE LTD           ┆                   │\n",
       "│ 2025-08-28T15:58:18 ┆ 45000.0      ┆ BARLLOWS SERVICES  ┆ Pinance.io         ┆ investment        │\n",
       "│ .806637             ┆              ┆ LTD                ┆                    ┆                   │\n",
       "│ 2025-08-31T15:58:18 ┆ 48000.0      ┆ LMAR (GB) LTD      ┆ DCEX Exchange      ┆ investment        │\n",
       "│ .806637             ┆              ┆                    ┆                    ┆                   │\n",
       "│ 2025-09-04T15:58:18 ┆ 34000.0      ┆ WELLHANCIA HEALTH  ┆ FX Alliance        ┆ investment        │\n",
       "│ .806637             ┆              ┆ CARE LTD           ┆ Traders            ┆                   │\n",
       "│ 2025-09-09T15:58:18 ┆ 55000.0      ┆ BARLLOWS SERVICES  ┆ Bityard            ┆ investment        │\n",
       "│ .806637             ┆              ┆ LTD                ┆                    ┆                   │\n",
       "│ 2025-09-11T15:58:18 ┆ 41000.0      ┆ WELLHANCIA HEALTH  ┆ Bityard            ┆ investment        │\n",
       "│ .806637             ┆              ┆ CARE LTD           ┆                    ┆                   │\n",
       "│ 2025-09-12T15:58:18 ┆ 53000.0      ┆ LMAR (GB) LTD      ┆ Pinance.io         ┆ investment        │\n",
       "│ .806637             ┆              ┆                    ┆                    ┆                   │\n",
       "│ 2025-09-18T15:58:18 ┆ 36000.0      ┆ BARLLOWS SERVICES  ┆ CoinWpro           ┆ investment        │\n",
       "│ .806637             ┆              ┆ LTD                ┆                    ┆                   │\n",
       "│ 2025-09-23T15:58:18 ┆ 41000.0      ┆ LMAR (GB) LTD      ┆ Coinegg            ┆ investment        │\n",
       "│ .806637             ┆              ┆                    ┆                    ┆                   │\n",
       "│ 2025-09-25T15:58:18 ┆ 66000.0      ┆ WELLHANCIA HEALTH  ┆ Bityard            ┆ investment        │\n",
       "│ .806637             ┆              ┆ CARE LTD           ┆                    ┆                   │\n",
       "│ 2025-09-27T15:58:18 ┆ 45000.0      ┆ BARLLOWS SERVICES  ┆ DCEX Exchange      ┆ investment        │\n",
       "│ .806637             ┆              ┆ LTD                ┆                    ┆                   │\n",
       "│ 2025-09-29T15:58:18 ┆ 48000.0      ┆ WELLHANCIA HEALTH  ┆ FX Alliance        ┆ investment        │\n",
       "│ .806637             ┆              ┆ CARE LTD           ┆ Traders            ┆                   │\n",
       "│ 2025-09-30T15:58:18 ┆ 37000.0      ┆ LMAR (GB) LTD      ┆ CoinWpro           ┆ investment        │\n",
       "│ .806637             ┆              ┆                    ┆                    ┆                   │\n",
       "│ 2025-10-08T15:58:18 ┆ 50000.0      ┆ BARLLOWS SERVICES  ┆ Bityard            ┆ investment        │\n",
       "│ .806637             ┆              ┆ LTD                ┆                    ┆                   │\n",
       "│ 2025-10-12T15:58:18 ┆ 6969.108312  ┆ LMAR (GB) LTD      ┆ BitMEX             ┆ investment        │\n",
       "│ .806637             ┆              ┆                    ┆                    ┆                   │\n",
       "│ 2025-10-12T15:58:18 ┆ 39867.813085 ┆ BARLLOWS SERVICES  ┆ Pinance.io         ┆ investment        │\n",
       "│ .806637             ┆              ┆ LTD                ┆                    ┆                   │\n",
       "│ 2025-10-16T15:58:18 ┆ 58000.0      ┆ WELLHANCIA HEALTH  ┆ DCEX Exchange      ┆ investment        │\n",
       "│ .806637             ┆              ┆ CARE LTD           ┆                    ┆                   │\n",
       "│ 2025-10-23T15:58:18 ┆ 20244.785737 ┆ WELLHANCIA HEALTH  ┆ DCEX Exchange      ┆ investment        │\n",
       "│ .806637             ┆              ┆ CARE LTD           ┆                    ┆                   │\n",
       "└─────────────────────┴──────────────┴────────────────────┴────────────────────┴───────────────────┘"
      ]
     },
     "execution_count": 9,
     "metadata": {},
     "output_type": "execute_result"
    }
   ],
   "source": [
    "pl.Config.set_tbl_rows(-1)\n",
    "\n",
    "sim.get_xact_df()"
   ]
  }
 ],
 "metadata": {
  "kernelspec": {
   "display_name": "Python 3 (ipykernel)",
   "language": "python",
   "name": "python3"
  },
  "language_info": {
   "codemirror_mode": {
    "name": "ipython",
    "version": 3
   },
   "file_extension": ".py",
   "mimetype": "text/x-python",
   "name": "python",
   "nbconvert_exporter": "python",
   "pygments_lexer": "ipython3",
   "version": "3.13.3"
  }
 },
 "nbformat": 4,
 "nbformat_minor": 4
}
