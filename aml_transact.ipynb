{
 "cells": [
  {
   "cell_type": "code",
   "execution_count": 1,
   "metadata": {
    "execution": {
     "iopub.execute_input": "2025-07-29T02:41:57.816747Z",
     "iopub.status.busy": "2025-07-29T02:41:57.816535Z",
     "iopub.status.idle": "2025-07-29T02:41:57.881164Z",
     "shell.execute_reply": "2025-07-29T02:41:57.880871Z",
     "shell.execute_reply.started": "2025-07-29T02:41:57.816726Z"
    }
   },
   "outputs": [],
   "source": [
    "from icecream import ic\n",
    "from yfiles_jupyter_graphs_for_kuzu import KuzuGraphWidget\n",
    "import kuzu\n",
    "import watermark"
   ]
  },
  {
   "cell_type": "code",
   "execution_count": 2,
   "metadata": {
    "execution": {
     "iopub.execute_input": "2025-07-29T02:41:58.367130Z",
     "iopub.status.busy": "2025-07-29T02:41:58.366592Z",
     "iopub.status.idle": "2025-07-29T02:41:58.381592Z",
     "shell.execute_reply": "2025-07-29T02:41:58.381057Z",
     "shell.execute_reply.started": "2025-07-29T02:41:58.367082Z"
    }
   },
   "outputs": [
    {
     "name": "stdout",
     "output_type": "stream",
     "text": [
      "Last updated: 2025-07-28T19:41:58.368921-07:00\n",
      "\n",
      "Python implementation: CPython\n",
      "Python version       : 3.13.3\n",
      "IPython version      : 9.1.0\n",
      "\n",
      "Compiler    : Clang 16.0.0 (clang-1600.0.26.6)\n",
      "OS          : Darwin\n",
      "Release     : 24.5.0\n",
      "Machine     : arm64\n",
      "Processor   : arm\n",
      "CPU cores   : 14\n",
      "Architecture: 64bit\n",
      "\n",
      "watermark                     : 2.5.0\n",
      "kuzu                          : 0.9.0\n",
      "yfiles_jupyter_graphs_for_kuzu: 0.0.4\n",
      "\n"
     ]
    }
   ],
   "source": [
    "%load_ext watermark\n",
    "%watermark\n",
    "%watermark --iversions"
   ]
  },
  {
   "cell_type": "markdown",
   "metadata": {},
   "source": [
    "## Extract one fraud network"
   ]
  },
  {
   "cell_type": "code",
   "execution_count": 4,
   "metadata": {
    "execution": {
     "iopub.execute_input": "2025-07-29T02:42:21.371845Z",
     "iopub.status.busy": "2025-07-29T02:42:21.371303Z",
     "iopub.status.idle": "2025-07-29T02:42:21.428358Z",
     "shell.execute_reply": "2025-07-29T02:42:21.427843Z",
     "shell.execute_reply.started": "2025-07-29T02:42:21.371806Z"
    }
   },
   "outputs": [],
   "source": [
    "DB_PATH = \"./db\"\n",
    "\n",
    "db = kuzu.Database(DB_PATH)\n",
    "conn = kuzu.Connection(db)"
   ]
  },
  {
   "cell_type": "markdown",
   "metadata": {},
   "source": [
    "Create a yFiles graph widget so we can explore our graph interactively"
   ]
  },
  {
   "cell_type": "code",
   "execution_count": 5,
   "metadata": {
    "execution": {
     "iopub.execute_input": "2025-07-29T02:42:23.347900Z",
     "iopub.status.busy": "2025-07-29T02:42:23.347207Z",
     "iopub.status.idle": "2025-07-29T02:42:23.353375Z",
     "shell.execute_reply": "2025-07-29T02:42:23.352327Z",
     "shell.execute_reply.started": "2025-07-29T02:42:23.347848Z"
    }
   },
   "outputs": [],
   "source": [
    "g = KuzuGraphWidget(conn)"
   ]
  },
  {
   "cell_type": "code",
   "execution_count": 9,
   "metadata": {
    "execution": {
     "iopub.execute_input": "2025-07-29T02:43:32.499321Z",
     "iopub.status.busy": "2025-07-29T02:43:32.498781Z",
     "iopub.status.idle": "2025-07-29T02:43:32.563933Z",
     "shell.execute_reply": "2025-07-29T02:43:32.563570Z",
     "shell.execute_reply.started": "2025-07-29T02:43:32.499289Z"
    }
   },
   "outputs": [
    {
     "data": {
      "application/vnd.jupyter.widget-view+json": {
       "model_id": "c8e6f75e3e904ce5b9c6c551d7436664",
       "version_major": 2,
       "version_minor": 0
      },
      "text/plain": [
       "GraphWidget(layout=Layout(height='710px', width='100%'))"
      ]
     },
     "metadata": {},
     "output_type": "display_data"
    }
   ],
   "source": [
    "g.show_cypher(\n",
    "    \"\"\"\n",
    "    MATCH (a)-[b]->(c:Entity)-[d *1..4]->(e)\n",
    "    WHERE c.id = \"sz_100036\"\n",
    "    RETURN * LIMIT 200;\n",
    "    \"\"\",\n",
    "    layout=\"circular\"\n",
    ")"
   ]
  },
  {
   "cell_type": "markdown",
   "metadata": {},
   "source": [
    "Now let's extract the shell companies in this particular fraud network"
   ]
  },
  {
   "cell_type": "code",
   "execution_count": 24,
   "metadata": {
    "execution": {
     "iopub.execute_input": "2025-07-29T02:52:33.265347Z",
     "iopub.status.busy": "2025-07-29T02:52:33.264911Z",
     "iopub.status.idle": "2025-07-29T02:52:33.435461Z",
     "shell.execute_reply": "2025-07-29T02:52:33.435184Z",
     "shell.execute_reply.started": "2025-07-29T02:52:33.265319Z"
    }
   },
   "outputs": [
    {
     "name": "stderr",
     "output_type": "stream",
     "text": [
      "ic| shells: {'BARLLOWS SERVICES LTD': ['31 Quernmore Close, Bromley, Kent, United Kingdom, '\n",
      "                                       'BR1 4EL',\n",
      "                                       '3 Market Parade, 41 East Street, Bromley, BR1 1QN'],\n",
      "             'LMAR (GB) LTD': ['31 Quernmore Close, Bromley, Kent, United Kingdom, BR1 '\n",
      "                               '4EL'],\n",
      "             'WELLHANCIA HEALTH CARE LTD': ['31 Quernmore Close, Bromley, BR1 4EL']}\n"
     ]
    }
   ],
   "source": [
    "res = conn.execute(\n",
    "    \"\"\"\n",
    "    MATCH (a:Entity)-[b *1..3]->(c)\n",
    "    WHERE a.descrip CONTAINS \"Abassin\"\n",
    "      AND c.kind = \"ORGANIZATION\"\n",
    "    RETURN c.name, COLLECT(DISTINCT c.addr)\n",
    "    LIMIT 100;\n",
    "    \"\"\"\n",
    ")\n",
    "\n",
    "shells: dict = {\n",
    "    row[0]: row[1]\n",
    "    for row in res.get_as_pl().iter_rows()\n",
    "}\n",
    "\n",
    "ic(shells);"
   ]
  },
  {
   "cell_type": "code",
   "execution_count": null,
   "metadata": {},
   "outputs": [],
   "source": []
  }
 ],
 "metadata": {
  "kernelspec": {
   "display_name": "Python 3 (ipykernel)",
   "language": "python",
   "name": "python3"
  },
  "language_info": {
   "codemirror_mode": {
    "name": "ipython",
    "version": 3
   },
   "file_extension": ".py",
   "mimetype": "text/x-python",
   "name": "python",
   "nbconvert_exporter": "python",
   "pygments_lexer": "ipython3",
   "version": "3.13.3"
  }
 },
 "nbformat": 4,
 "nbformat_minor": 4
}
