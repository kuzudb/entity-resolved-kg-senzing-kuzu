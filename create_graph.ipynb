{
 "cells": [
  {
   "cell_type": "code",
   "execution_count": 1,
   "metadata": {
    "execution": {
     "iopub.execute_input": "2025-04-20T20:57:12.318213Z",
     "iopub.status.busy": "2025-04-20T20:57:12.318020Z",
     "iopub.status.idle": "2025-04-20T20:57:12.426171Z",
     "shell.execute_reply": "2025-04-20T20:57:12.425819Z",
     "shell.execute_reply.started": "2025-04-20T20:57:12.318194Z"
    }
   },
   "outputs": [],
   "source": [
    "import pathlib\n",
    "import shutil\n",
    "\n",
    "import kuzu\n",
    "import polars as pl\n",
    "import watermark\n",
    "\n",
    "import open_sanctions as os\n",
    "import open_ownership as oo\n",
    "import process_senzing as sz\n",
    "\n",
    "# For visualizing the Kuzu graph in yFiles widget\n",
    "from yfiles_jupyter_graphs_for_kuzu import KuzuGraphWidget"
   ]
  },
  {
   "cell_type": "code",
   "execution_count": 2,
   "metadata": {
    "execution": {
     "iopub.execute_input": "2025-04-20T20:57:12.426603Z",
     "iopub.status.busy": "2025-04-20T20:57:12.426513Z",
     "iopub.status.idle": "2025-04-20T20:57:12.436191Z",
     "shell.execute_reply": "2025-04-20T20:57:12.435843Z",
     "shell.execute_reply.started": "2025-04-20T20:57:12.426591Z"
    }
   },
   "outputs": [
    {
     "name": "stdout",
     "output_type": "stream",
     "text": [
      "Last updated: 2025-04-20T13:57:12.427373-07:00\n",
      "\n",
      "Python implementation: CPython\n",
      "Python version       : 3.13.2\n",
      "IPython version      : 9.1.0\n",
      "\n",
      "Compiler    : Clang 16.0.0 (clang-1600.0.26.6)\n",
      "OS          : Darwin\n",
      "Release     : 24.3.0\n",
      "Machine     : arm64\n",
      "Processor   : arm\n",
      "CPU cores   : 14\n",
      "Architecture: 64bit\n",
      "\n",
      "kuzu                          : 0.9.0\n",
      "watermark                     : 2.5.0\n",
      "polars                        : 1.27.1\n",
      "yfiles_jupyter_graphs_for_kuzu: 0.0.3\n",
      "\n"
     ]
    }
   ],
   "source": [
    "%load_ext watermark\n",
    "%watermark\n",
    "%watermark --iversions"
   ]
  },
  {
   "cell_type": "code",
   "execution_count": 3,
   "metadata": {
    "execution": {
     "iopub.execute_input": "2025-04-20T20:57:12.436852Z",
     "iopub.status.busy": "2025-04-20T20:57:12.436717Z",
     "iopub.status.idle": "2025-04-20T20:57:12.456225Z",
     "shell.execute_reply": "2025-04-20T20:57:12.455977Z",
     "shell.execute_reply.started": "2025-04-20T20:57:12.436834Z"
    }
   },
   "outputs": [],
   "source": [
    "DB_PATH = \"./db\"\n",
    "shutil.rmtree(DB_PATH, ignore_errors=True)\n",
    "\n",
    "db = kuzu.Database(DB_PATH)\n",
    "conn = kuzu.Connection(db)"
   ]
  },
  {
   "cell_type": "markdown",
   "metadata": {},
   "source": [
    "## Open Sanctions"
   ]
  },
  {
   "cell_type": "code",
   "execution_count": 4,
   "metadata": {
    "execution": {
     "iopub.execute_input": "2025-04-20T20:57:12.456740Z",
     "iopub.status.busy": "2025-04-20T20:57:12.456640Z",
     "iopub.status.idle": "2025-04-20T20:57:12.458485Z",
     "shell.execute_reply": "2025-04-20T20:57:12.458234Z",
     "shell.execute_reply.started": "2025-04-20T20:57:12.456732Z"
    }
   },
   "outputs": [],
   "source": [
    "data_path: pathlib.Path = pathlib.Path(\"data\")"
   ]
  },
  {
   "cell_type": "markdown",
   "metadata": {},
   "source": [
    "We'll load a slice of the [OpenSanctions](https://www.opensanctions.org/) dataset, which provides the \"risk\" category of data.\n",
    "This describes people and organizations who represent known risks for FinCrime."
   ]
  },
  {
   "cell_type": "code",
   "execution_count": 5,
   "metadata": {
    "execution": {
     "iopub.execute_input": "2025-04-20T20:57:12.458933Z",
     "iopub.status.busy": "2025-04-20T20:57:12.458811Z",
     "iopub.status.idle": "2025-04-20T20:57:12.464935Z",
     "shell.execute_reply": "2025-04-20T20:57:12.464667Z",
     "shell.execute_reply.started": "2025-04-20T20:57:12.458924Z"
    }
   },
   "outputs": [
    {
     "data": {
      "text/html": [
       "<div><style>\n",
       ".dataframe > thead > tr,\n",
       ".dataframe > tbody > tr {\n",
       "  text-align: right;\n",
       "  white-space: pre-wrap;\n",
       "}\n",
       "</style>\n",
       "<small>shape: (3, 15)</small><table border=\"1\" class=\"dataframe\"><thead><tr><th>DATA_SOURCE</th><th>RECORD_ID</th><th>RECORD_TYPE</th><th>LAST_CHANGE</th><th>NAMES</th><th>GENDER</th><th>RISKS</th><th>ADDRESSES</th><th>DATES</th><th>COUNTRIES</th><th>IDENTIFIERS</th><th>SOURCE_LINKS</th><th>RELATIONSHIPS</th><th>URL</th><th>CONTACTS</th></tr><tr><td>str</td><td>str</td><td>str</td><td>str</td><td>list[struct[3]]</td><td>str</td><td>list[struct[1]]</td><td>list[struct[7]]</td><td>list[struct[2]]</td><td>list[struct[3]]</td><td>list[struct[9]]</td><td>list[struct[1]]</td><td>list[struct[5]]</td><td>str</td><td>list[struct[1]]</td></tr></thead><tbody><tr><td>&quot;OPEN-SANCTIONS&quot;</td><td>&quot;NK-25vyVFzt8vdJGgAXMRTwTJ&quot;</td><td>&quot;PERSON&quot;</td><td>&quot;2024-07-30T16:41:14&quot;</td><td>[{&quot;PRIMARY&quot;,null,&quot;Abassin BADSHAH&quot;}]</td><td>null</td><td>[{&quot;corp.disqual&quot;}]</td><td>[{&quot;31 Quernmore Close, Bromley, Kent, United Kingdom, BR1 4EL&quot;,null,null,null,null,null,null}]</td><td>[{null,&quot;1985-05-12&quot;}]</td><td>[{null,&quot;gb&quot;,null}]</td><td>[{null,null,null,null,&quot;OPEN-SANCTIONS&quot;,&quot;NK-25vyVFzt8vdJGgAXMRTwTJ&quot;,null,null,null}]</td><td>[{&quot;https://find-and-update.company-information.service.gov.uk/disqualified-officers/natural/mGquuTbmESWiRmHJPz1ObUwfDgk&quot;}]</td><td>[{&quot;Directorship&quot;,&quot;OPEN-SANCTIONS&quot;,&quot;NK-SKAADAiqiZ78JsJjeg72Te&quot;,null,null}, {&quot;Directorship&quot;,&quot;OPEN-SANCTIONS&quot;,&quot;NK-3p3mmVWmjwVtTfKchz4kNE&quot;,null,null}]</td><td>&quot;https://www.opensanctions.org/…</td><td>null</td></tr><tr><td>&quot;OPEN-SANCTIONS&quot;</td><td>&quot;NK-3p3mmVWmjwVtTfKchz4kNE&quot;</td><td>&quot;ORGANIZATION&quot;</td><td>&quot;2025-01-07T00:33:03&quot;</td><td>[{&quot;PRIMARY&quot;,&quot;LMAR (GB) LTD&quot;,null}]</td><td>null</td><td>null</td><td>[{&quot;31 Quernmore Close, Bromley, Kent, United Kingdom, BR1 4EL&quot;,null,null,null,null,null,&quot;BUSINESS&quot;}]</td><td>null</td><td>[{&quot;gb&quot;,null,null}]</td><td>[{null,null,null,null,&quot;OPEN-SANCTIONS&quot;,&quot;NK-3p3mmVWmjwVtTfKchz4kNE&quot;,null,null,null}]</td><td>null</td><td>[{null,null,null,&quot;OPEN-SANCTIONS&quot;,&quot;NK-3p3mmVWmjwVtTfKchz4kNE&quot;}]</td><td>&quot;https://www.opensanctions.org/…</td><td>null</td></tr><tr><td>&quot;OPEN-SANCTIONS&quot;</td><td>&quot;NK-auyPsLrBzRoxjCRWgjBvas&quot;</td><td>&quot;ORGANIZATION&quot;</td><td>&quot;2024-03-03T19:51:29&quot;</td><td>[{&quot;PRIMARY&quot;,&quot;WANDLE HOLDINGS LIMITED&quot;,null}]</td><td>null</td><td>[{&quot;sanction.linked&quot;}]</td><td>[{&quot;DEANA BEACH APTS, BLOCK A, Flat 212, Προμαχών Ελευθερίας, 33, &#x27;Αγιος Αθανάσιος, 4103, Λεμεσός, Κύπρος&quot;,null,null,null,null,null,&quot;BUSINESS&quot;}]</td><td>[{&quot;2006-12-08&quot;,null}]</td><td>[{&quot;cy&quot;,null,null}]</td><td>[{&quot;C188266&quot;,null,null,null,null,null,null,null,null}, {&quot;HE188266&quot;,null,null,null,null,null,null,null,null}, {null,null,null,null,&quot;OPEN-SANCTIONS&quot;,&quot;NK-auyPsLrBzRoxjCRWgjBvas&quot;,null,null,null}]</td><td>null</td><td>[{null,null,null,&quot;OPEN-SANCTIONS&quot;,&quot;NK-auyPsLrBzRoxjCRWgjBvas&quot;}]</td><td>&quot;https://opensanctions.org/enti…</td><td>null</td></tr></tbody></table></div>"
      ],
      "text/plain": [
       "shape: (3, 15)\n",
       "┌───────────┬───────────┬───────────┬───────────┬───┬───────────┬───────────┬───────────┬──────────┐\n",
       "│ DATA_SOUR ┆ RECORD_ID ┆ RECORD_TY ┆ LAST_CHAN ┆ … ┆ SOURCE_LI ┆ RELATIONS ┆ URL       ┆ CONTACTS │\n",
       "│ CE        ┆ ---       ┆ PE        ┆ GE        ┆   ┆ NKS       ┆ HIPS      ┆ ---       ┆ ---      │\n",
       "│ ---       ┆ str       ┆ ---       ┆ ---       ┆   ┆ ---       ┆ ---       ┆ str       ┆ list[str │\n",
       "│ str       ┆           ┆ str       ┆ str       ┆   ┆ list[stru ┆ list[stru ┆           ┆ uct[1]]  │\n",
       "│           ┆           ┆           ┆           ┆   ┆ ct[1]]    ┆ ct[5]]    ┆           ┆          │\n",
       "╞═══════════╪═══════════╪═══════════╪═══════════╪═══╪═══════════╪═══════════╪═══════════╪══════════╡\n",
       "│ OPEN-SANC ┆ NK-25vyVF ┆ PERSON    ┆ 2024-07-3 ┆ … ┆ [{\"https: ┆ [{\"Direct ┆ https://w ┆ null     │\n",
       "│ TIONS     ┆ zt8vdJGgA ┆           ┆ 0T16:41:1 ┆   ┆ //find-an ┆ orship\",\" ┆ ww.opensa ┆          │\n",
       "│           ┆ XMRTwTJ   ┆           ┆ 4         ┆   ┆ d-update. ┆ OPEN-SANC ┆ nctions.o ┆          │\n",
       "│           ┆           ┆           ┆           ┆   ┆ com…      ┆ TIO…      ┆ rg/…      ┆          │\n",
       "│ OPEN-SANC ┆ NK-3p3mmV ┆ ORGANIZAT ┆ 2025-01-0 ┆ … ┆ null      ┆ [{null,nu ┆ https://w ┆ null     │\n",
       "│ TIONS     ┆ WmjwVtTfK ┆ ION       ┆ 7T00:33:0 ┆   ┆           ┆ ll,null,\" ┆ ww.opensa ┆          │\n",
       "│           ┆ chz4kNE   ┆           ┆ 3         ┆   ┆           ┆ OPEN-SANC ┆ nctions.o ┆          │\n",
       "│           ┆           ┆           ┆           ┆   ┆           ┆ TIO…      ┆ rg/…      ┆          │\n",
       "│ OPEN-SANC ┆ NK-auyPsL ┆ ORGANIZAT ┆ 2024-03-0 ┆ … ┆ null      ┆ [{null,nu ┆ https://o ┆ null     │\n",
       "│ TIONS     ┆ rBzRoxjCR ┆ ION       ┆ 3T19:51:2 ┆   ┆           ┆ ll,null,\" ┆ pensancti ┆          │\n",
       "│           ┆ WgjBvas   ┆           ┆ 9         ┆   ┆           ┆ OPEN-SANC ┆ ons.org/e ┆          │\n",
       "│           ┆           ┆           ┆           ┆   ┆           ┆ TIO…      ┆ nti…      ┆          │\n",
       "└───────────┴───────────┴───────────┴───────────┴───┴───────────┴───────────┴───────────┴──────────┘"
      ]
     },
     "execution_count": 5,
     "metadata": {},
     "output_type": "execute_result"
    }
   ],
   "source": [
    "df1 = pl.read_ndjson(data_path / \"open-sanctions.json\")\n",
    "df1.head(3)"
   ]
  },
  {
   "cell_type": "markdown",
   "metadata": {},
   "source": [
    "Each entity ID from OpenSanctions has a risk classification. This can be useful to associate an ID with a particular risk, allowing us to narrow down on candidates that are relevant to a particular investigation."
   ]
  },
  {
   "cell_type": "code",
   "execution_count": 6,
   "metadata": {
    "execution": {
     "iopub.execute_input": "2025-04-20T20:57:12.466658Z",
     "iopub.status.busy": "2025-04-20T20:57:12.466507Z",
     "iopub.status.idle": "2025-04-20T20:57:12.470078Z",
     "shell.execute_reply": "2025-04-20T20:57:12.469844Z",
     "shell.execute_reply.started": "2025-04-20T20:57:12.466634Z"
    }
   },
   "outputs": [
    {
     "data": {
      "text/html": [
       "<div><style>\n",
       ".dataframe > thead > tr,\n",
       ".dataframe > tbody > tr {\n",
       "  text-align: right;\n",
       "  white-space: pre-wrap;\n",
       "}\n",
       "</style>\n",
       "<small>shape: (3, 2)</small><table border=\"1\" class=\"dataframe\"><thead><tr><th>id</th><th>topic</th></tr><tr><td>str</td><td>str</td></tr></thead><tbody><tr><td>&quot;NK-25vyVFzt8vdJGgAXMRTwTJ&quot;</td><td>&quot;corp.disqual&quot;</td></tr><tr><td>&quot;NK-auyPsLrBzRoxjCRWgjBvas&quot;</td><td>&quot;sanction.linked&quot;</td></tr><tr><td>&quot;NK-cf4Q3KcmUnQbt8Cy7iTtwK&quot;</td><td>&quot;sanction.linked&quot;</td></tr></tbody></table></div>"
      ],
      "text/plain": [
       "shape: (3, 2)\n",
       "┌───────────────────────────┬─────────────────┐\n",
       "│ id                        ┆ topic           │\n",
       "│ ---                       ┆ ---             │\n",
       "│ str                       ┆ str             │\n",
       "╞═══════════════════════════╪═════════════════╡\n",
       "│ NK-25vyVFzt8vdJGgAXMRTwTJ ┆ corp.disqual    │\n",
       "│ NK-auyPsLrBzRoxjCRWgjBvas ┆ sanction.linked │\n",
       "│ NK-cf4Q3KcmUnQbt8Cy7iTtwK ┆ sanction.linked │\n",
       "└───────────────────────────┴─────────────────┘"
      ]
     },
     "execution_count": 6,
     "metadata": {},
     "output_type": "execute_result"
    }
   ],
   "source": [
    "# Get risks from open sanctions\n",
    "df_risk = os.extract_risks(df1)\n",
    "df_risk.head(3)"
   ]
  },
  {
   "cell_type": "markdown",
   "metadata": {},
   "source": [
    "We're now ready to extract the open sanctions data. The `extract_open_sanctions` function will take the raw data, process the nested fields within it and return the relevant columns that we need for our graph."
   ]
  },
  {
   "cell_type": "code",
   "execution_count": 7,
   "metadata": {
    "execution": {
     "iopub.execute_input": "2025-04-20T20:57:12.470569Z",
     "iopub.status.busy": "2025-04-20T20:57:12.470486Z",
     "iopub.status.idle": "2025-04-20T20:57:12.475045Z",
     "shell.execute_reply": "2025-04-20T20:57:12.474774Z",
     "shell.execute_reply.started": "2025-04-20T20:57:12.470562Z"
    }
   },
   "outputs": [
    {
     "data": {
      "text/html": [
       "<div><style>\n",
       ".dataframe > thead > tr,\n",
       ".dataframe > tbody > tr {\n",
       "  text-align: right;\n",
       "  white-space: pre-wrap;\n",
       "}\n",
       "</style>\n",
       "<small>shape: (3, 5)</small><table border=\"1\" class=\"dataframe\"><thead><tr><th>id</th><th>kind</th><th>name</th><th>addr</th><th>url</th></tr><tr><td>str</td><td>str</td><td>str</td><td>str</td><td>str</td></tr></thead><tbody><tr><td>&quot;NK-25vyVFzt8vdJGgAXMRTwTJ&quot;</td><td>&quot;PERSON&quot;</td><td>&quot;Abassin BADSHAH&quot;</td><td>&quot;31 Quernmore Close, Bromley, K…</td><td>&quot;https://www.opensanctions.org/…</td></tr><tr><td>&quot;NK-3p3mmVWmjwVtTfKchz4kNE&quot;</td><td>&quot;ORGANIZATION&quot;</td><td>&quot;LMAR (GB) LTD&quot;</td><td>&quot;31 Quernmore Close, Bromley, K…</td><td>&quot;https://www.opensanctions.org/…</td></tr><tr><td>&quot;NK-L2UmsZtsyvYiaEmHSaiZ2t&quot;</td><td>&quot;PERSON&quot;</td><td>&quot;Gulnara Suleimanova KERIMOVA&quot;</td><td>&quot;MOSCOW, RUS, 123430&quot;</td><td>&quot;https://www.opensanctions.org/…</td></tr></tbody></table></div>"
      ],
      "text/plain": [
       "shape: (3, 5)\n",
       "┌─────────────────────┬──────────────┬─────────────────┬─────────────────────┬─────────────────────┐\n",
       "│ id                  ┆ kind         ┆ name            ┆ addr                ┆ url                 │\n",
       "│ ---                 ┆ ---          ┆ ---             ┆ ---                 ┆ ---                 │\n",
       "│ str                 ┆ str          ┆ str             ┆ str                 ┆ str                 │\n",
       "╞═════════════════════╪══════════════╪═════════════════╪═════════════════════╪═════════════════════╡\n",
       "│ NK-25vyVFzt8vdJGgAX ┆ PERSON       ┆ Abassin BADSHAH ┆ 31 Quernmore Close, ┆ https://www.opensan │\n",
       "│ MRTwTJ              ┆              ┆                 ┆ Bromley, K…         ┆ ctions.org/…        │\n",
       "│ NK-3p3mmVWmjwVtTfKc ┆ ORGANIZATION ┆ LMAR (GB) LTD   ┆ 31 Quernmore Close, ┆ https://www.opensan │\n",
       "│ hz4kNE              ┆              ┆                 ┆ Bromley, K…         ┆ ctions.org/…        │\n",
       "│ NK-L2UmsZtsyvYiaEmH ┆ PERSON       ┆ Gulnara         ┆ MOSCOW, RUS, 123430 ┆ https://www.opensan │\n",
       "│ SaiZ2t              ┆              ┆ Suleimanova     ┆                     ┆ ctions.org/…        │\n",
       "│                     ┆              ┆ KERIMOVA        ┆                     ┆                     │\n",
       "└─────────────────────┴──────────────┴─────────────────┴─────────────────────┴─────────────────────┘"
      ]
     },
     "execution_count": 7,
     "metadata": {},
     "output_type": "execute_result"
    }
   ],
   "source": [
    "df_os = os.extract_open_sanctions(df1)\n",
    "df_os.head(3)"
   ]
  },
  {
   "cell_type": "markdown",
   "metadata": {},
   "source": [
    "Of particular interest for this workshop is the person [\"Abassin Badshah\"](https://find-and-update.company-information.service.gov.uk/disqualified-officers/natural/mGquuTbmESWiRmHJPz1ObUwfDgk), former owner of multiple Papa John's franchises in London, who is disqualified from being a corporate director until 2026, due to his [tax evasion conviction](https://londonnewsonline.co.uk/news/catford-papa-johns-pizza-boss-jailed-after-669000-tax-evasion/) in 2021."
   ]
  },
  {
   "cell_type": "markdown",
   "metadata": {},
   "source": [
    "## Open Ownership"
   ]
  },
  {
   "cell_type": "markdown",
   "metadata": {},
   "source": [
    "[Open Ownership](https://www.openownership.org/) describes _ultimate beneficial ownership_ (UBO) details, which provides the \"link\" category of data. In other words, \"Who owns how much of what, and who actually has controlling interest?\""
   ]
  },
  {
   "cell_type": "code",
   "execution_count": 8,
   "metadata": {
    "execution": {
     "iopub.execute_input": "2025-04-20T20:57:12.475761Z",
     "iopub.status.busy": "2025-04-20T20:57:12.475514Z",
     "iopub.status.idle": "2025-04-20T20:57:12.485894Z",
     "shell.execute_reply": "2025-04-20T20:57:12.485659Z",
     "shell.execute_reply.started": "2025-04-20T20:57:12.475752Z"
    }
   },
   "outputs": [
    {
     "data": {
      "text/html": [
       "<div><style>\n",
       ".dataframe > thead > tr,\n",
       ".dataframe > tbody > tr {\n",
       "  text-align: right;\n",
       "  white-space: pre-wrap;\n",
       "}\n",
       "</style>\n",
       "<small>shape: (3, 17)</small><table border=\"1\" class=\"dataframe\"><thead><tr><th>DATA_SOURCE</th><th>RECORD_ID</th><th>statementDate</th><th>RECORD_TYPE</th><th>NAMES</th><th>PRIMARY_NAME_FULL</th><th>personType</th><th>ATTRIBUTES</th><th>ADDRESSES</th><th>IDENTIFIERS</th><th>LINKS</th><th>RELATIONSHIPS</th><th>replaces_statements</th><th>REGISTRATION_DATE</th><th>dissolutionDate</th><th>REGISTRATION_COUNTRY</th><th>DATE_OF_BIRTH</th></tr><tr><td>str</td><td>str</td><td>str</td><td>str</td><td>list[struct[2]]</td><td>str</td><td>str</td><td>list[struct[1]]</td><td>list[struct[3]]</td><td>list[struct[3]]</td><td>list[struct[3]]</td><td>list[struct[7]]</td><td>list[struct[1]]</td><td>str</td><td>str</td><td>str</td><td>str</td></tr></thead><tbody><tr><td>&quot;OPEN-OWNERSHIP&quot;</td><td>&quot;10094521532396971848&quot;</td><td>&quot;2023-06-18&quot;</td><td>&quot;ORGANIZATION&quot;</td><td>[{&quot;GOLD WYNN UK HOLDINGS LIMITED&quot;,null}]</td><td>null</td><td>null</td><td>null</td><td>[{&quot;BUSINESS&quot;,&quot;C/O Fladgate Llp, 16 Great Queen Street, London, WC2B 5DG&quot;,&quot;GB&quot;}]</td><td>[{&quot;12524623&quot;,&quot;GB-COH&quot;,&quot;GBR&quot;}]</td><td>[{&quot;https://opencorporates.com/companies/gb/12524623&quot;,null,null}, {null,null,&quot;https://register.openownership.org/entities/18432059995972240708&quot;}]</td><td>[{null,null,null,null,null,&quot;OOR&quot;,&quot;10094521532396971848&quot;}, {&quot;OOR&quot;,&quot;7584591804488095167&quot;,&quot;shareholding 75% 100%&quot;,&quot;2020-03-18&quot;,&quot;2020-04-29&quot;,null,null}, … {&quot;OOR&quot;,&quot;7584591804488095167&quot;,&quot;appointment_of_board&quot;,&quot;2020-03-18&quot;,&quot;2020-04-29&quot;,null,null}]</td><td>null</td><td>&quot;2020-03-18&quot;</td><td>null</td><td>&quot;GB&quot;</td><td>null</td></tr><tr><td>&quot;OPEN-OWNERSHIP&quot;</td><td>&quot;10165632722354515453&quot;</td><td>&quot;2023-06-18&quot;</td><td>&quot;ORGANIZATION&quot;</td><td>[{&quot;UPSIDE TECHNOLOGY LIMITED&quot;,null}]</td><td>null</td><td>null</td><td>null</td><td>[{&quot;BUSINESS&quot;,&quot;Apt 52, 3 Whitehall Court, London, SW1A 2EL&quot;,&quot;GB&quot;}]</td><td>[{&quot;12165794&quot;,&quot;GB-COH&quot;,&quot;GBR&quot;}]</td><td>[{&quot;https://opencorporates.com/companies/gb/12165794&quot;,null,null}, {null,null,&quot;https://register.openownership.org/entities/15659422647652524790&quot;}]</td><td>[{null,null,null,null,null,&quot;OOR&quot;,&quot;10165632722354515453&quot;}, {&quot;OOR&quot;,&quot;598161773989218568&quot;,&quot;shareholding 75% 100%&quot;,&quot;2019-08-20&quot;,null,null,null}, … {&quot;OOR&quot;,&quot;598161773989218568&quot;,&quot;appointment_of_board&quot;,&quot;2019-08-20&quot;,null,null,null}]</td><td>null</td><td>&quot;2019-08-20&quot;</td><td>&quot;2022-10-11&quot;</td><td>&quot;GB&quot;</td><td>null</td></tr><tr><td>&quot;OPEN-OWNERSHIP&quot;</td><td>&quot;10165632722354515453&quot;</td><td>&quot;2023-06-18&quot;</td><td>&quot;ORGANIZATION&quot;</td><td>[{&quot;UPSIDE TECHNOLOGY LIMITED&quot;,null}]</td><td>null</td><td>null</td><td>null</td><td>[{&quot;BUSINESS&quot;,&quot;Apt 52, 3 Whitehall Court, London, SW1A 2EL&quot;,&quot;GB&quot;}]</td><td>[{&quot;12165794&quot;,&quot;GB-COH&quot;,&quot;GBR&quot;}]</td><td>[{&quot;https://opencorporates.com/companies/gb/12165794&quot;,null,null}, {null,null,&quot;https://register.openownership.org/entities/15659422647652524790&quot;}]</td><td>[{null,null,null,null,null,&quot;OOR&quot;,&quot;10165632722354515453&quot;}, {&quot;OOR&quot;,&quot;598161773989218568&quot;,&quot;shareholding 75% 100%&quot;,&quot;2019-08-20&quot;,null,null,null}, … {&quot;OOR&quot;,&quot;598161773989218568&quot;,&quot;appointment_of_board&quot;,&quot;2019-08-20&quot;,null,null,null}]</td><td>null</td><td>&quot;2019-08-20&quot;</td><td>&quot;2022-10-11&quot;</td><td>&quot;GB&quot;</td><td>null</td></tr></tbody></table></div>"
      ],
      "text/plain": [
       "shape: (3, 17)\n",
       "┌───────────┬───────────┬───────────┬───────────┬───┬───────────┬───────────┬───────────┬──────────┐\n",
       "│ DATA_SOUR ┆ RECORD_ID ┆ statement ┆ RECORD_TY ┆ … ┆ REGISTRAT ┆ dissoluti ┆ REGISTRAT ┆ DATE_OF_ │\n",
       "│ CE        ┆ ---       ┆ Date      ┆ PE        ┆   ┆ ION_DATE  ┆ onDate    ┆ ION_COUNT ┆ BIRTH    │\n",
       "│ ---       ┆ str       ┆ ---       ┆ ---       ┆   ┆ ---       ┆ ---       ┆ RY        ┆ ---      │\n",
       "│ str       ┆           ┆ str       ┆ str       ┆   ┆ str       ┆ str       ┆ ---       ┆ str      │\n",
       "│           ┆           ┆           ┆           ┆   ┆           ┆           ┆ str       ┆          │\n",
       "╞═══════════╪═══════════╪═══════════╪═══════════╪═══╪═══════════╪═══════════╪═══════════╪══════════╡\n",
       "│ OPEN-OWNE ┆ 100945215 ┆ 2023-06-1 ┆ ORGANIZAT ┆ … ┆ 2020-03-1 ┆ null      ┆ GB        ┆ null     │\n",
       "│ RSHIP     ┆ 323969718 ┆ 8         ┆ ION       ┆   ┆ 8         ┆           ┆           ┆          │\n",
       "│           ┆ 48        ┆           ┆           ┆   ┆           ┆           ┆           ┆          │\n",
       "│ OPEN-OWNE ┆ 101656327 ┆ 2023-06-1 ┆ ORGANIZAT ┆ … ┆ 2019-08-2 ┆ 2022-10-1 ┆ GB        ┆ null     │\n",
       "│ RSHIP     ┆ 223545154 ┆ 8         ┆ ION       ┆   ┆ 0         ┆ 1         ┆           ┆          │\n",
       "│           ┆ 53        ┆           ┆           ┆   ┆           ┆           ┆           ┆          │\n",
       "│ OPEN-OWNE ┆ 101656327 ┆ 2023-06-1 ┆ ORGANIZAT ┆ … ┆ 2019-08-2 ┆ 2022-10-1 ┆ GB        ┆ null     │\n",
       "│ RSHIP     ┆ 223545154 ┆ 8         ┆ ION       ┆   ┆ 0         ┆ 1         ┆           ┆          │\n",
       "│           ┆ 53        ┆           ┆           ┆   ┆           ┆           ┆           ┆          │\n",
       "└───────────┴───────────┴───────────┴───────────┴───┴───────────┴───────────┴───────────┴──────────┘"
      ]
     },
     "execution_count": 8,
     "metadata": {},
     "output_type": "execute_result"
    }
   ],
   "source": [
    "df2 = pl.read_ndjson(data_path / \"open-ownership.json\")\n",
    "df2.head(3)"
   ]
  },
  {
   "cell_type": "markdown",
   "metadata": {},
   "source": [
    "Just like with the OpenSanctions data, we can use the `extract_open_ownership` function to process the nested JSON data and return the relevant columns that we need for our graph."
   ]
  },
  {
   "cell_type": "code",
   "execution_count": 9,
   "metadata": {
    "execution": {
     "iopub.execute_input": "2025-04-20T20:57:12.486383Z",
     "iopub.status.busy": "2025-04-20T20:57:12.486287Z",
     "iopub.status.idle": "2025-04-20T20:57:12.491675Z",
     "shell.execute_reply": "2025-04-20T20:57:12.491431Z",
     "shell.execute_reply.started": "2025-04-20T20:57:12.486376Z"
    }
   },
   "outputs": [
    {
     "data": {
      "text/html": [
       "<div><style>\n",
       ".dataframe > thead > tr,\n",
       ".dataframe > tbody > tr {\n",
       "  text-align: right;\n",
       "  white-space: pre-wrap;\n",
       "}\n",
       "</style>\n",
       "<small>shape: (3, 5)</small><table border=\"1\" class=\"dataframe\"><thead><tr><th>id</th><th>kind</th><th>name</th><th>address</th><th>country</th></tr><tr><td>str</td><td>str</td><td>str</td><td>str</td><td>str</td></tr></thead><tbody><tr><td>&quot;10094521532396971848&quot;</td><td>&quot;ORGANIZATION&quot;</td><td>&quot;GOLD WYNN UK HOLDINGS LIMITED&quot;</td><td>&quot;C/O Fladgate Llp, 16 Great Que…</td><td>&quot;GB&quot;</td></tr><tr><td>&quot;10165632722354515453&quot;</td><td>&quot;ORGANIZATION&quot;</td><td>&quot;UPSIDE TECHNOLOGY LIMITED&quot;</td><td>&quot;Apt 52, 3 Whitehall Court, Lon…</td><td>&quot;GB&quot;</td></tr><tr><td>&quot;10264459789712927869&quot;</td><td>&quot;PERSON&quot;</td><td>&quot;Kenneth Kurt Hansen&quot;</td><td>&quot;Finderupvej 61, Kastrup, 2770&quot;</td><td>&quot;DK&quot;</td></tr></tbody></table></div>"
      ],
      "text/plain": [
       "shape: (3, 5)\n",
       "┌──────────────────────┬──────────────┬─────────────────────────┬────────────────────────┬─────────┐\n",
       "│ id                   ┆ kind         ┆ name                    ┆ address                ┆ country │\n",
       "│ ---                  ┆ ---          ┆ ---                     ┆ ---                    ┆ ---     │\n",
       "│ str                  ┆ str          ┆ str                     ┆ str                    ┆ str     │\n",
       "╞══════════════════════╪══════════════╪═════════════════════════╪════════════════════════╪═════════╡\n",
       "│ 10094521532396971848 ┆ ORGANIZATION ┆ GOLD WYNN UK HOLDINGS   ┆ C/O Fladgate Llp, 16   ┆ GB      │\n",
       "│                      ┆              ┆ LIMITED                 ┆ Great Que…             ┆         │\n",
       "│ 10165632722354515453 ┆ ORGANIZATION ┆ UPSIDE TECHNOLOGY       ┆ Apt 52, 3 Whitehall    ┆ GB      │\n",
       "│                      ┆              ┆ LIMITED                 ┆ Court, Lon…            ┆         │\n",
       "│ 10264459789712927869 ┆ PERSON       ┆ Kenneth Kurt Hansen     ┆ Finderupvej 61,        ┆ DK      │\n",
       "│                      ┆              ┆                         ┆ Kastrup, 2770          ┆         │\n",
       "└──────────────────────┴──────────────┴─────────────────────────┴────────────────────────┴─────────┘"
      ]
     },
     "execution_count": 9,
     "metadata": {},
     "output_type": "execute_result"
    }
   ],
   "source": [
    "df_oo = oo.extract_open_ownership(df2)\n",
    "df_oo.head(3)"
   ]
  },
  {
   "cell_type": "markdown",
   "metadata": {},
   "source": [
    "For the relationships in our graph, we'll need to select only the relationships that have **both** `src_id` and `dst_id` in the list of ids. This is done via the `extract_open_ownership_relationships` function."
   ]
  },
  {
   "cell_type": "code",
   "execution_count": 10,
   "metadata": {
    "execution": {
     "iopub.execute_input": "2025-04-20T20:57:12.492259Z",
     "iopub.status.busy": "2025-04-20T20:57:12.492134Z",
     "iopub.status.idle": "2025-04-20T20:57:12.496679Z",
     "shell.execute_reply": "2025-04-20T20:57:12.496406Z",
     "shell.execute_reply.started": "2025-04-20T20:57:12.492248Z"
    }
   },
   "outputs": [
    {
     "data": {
      "text/html": [
       "<div><style>\n",
       ".dataframe > thead > tr,\n",
       ".dataframe > tbody > tr {\n",
       "  text-align: right;\n",
       "  white-space: pre-wrap;\n",
       "}\n",
       "</style>\n",
       "<small>shape: (3, 4)</small><table border=\"1\" class=\"dataframe\"><thead><tr><th>src_id</th><th>dst_id</th><th>role</th><th>date</th></tr><tr><td>str</td><td>str</td><td>str</td><td>str</td></tr></thead><tbody><tr><td>&quot;10094521532396971848&quot;</td><td>&quot;7584591804488095167&quot;</td><td>&quot;shareholding 75% 100%&quot;</td><td>&quot;2020-03-18&quot;</td></tr><tr><td>&quot;10094521532396971848&quot;</td><td>&quot;7584591804488095167&quot;</td><td>&quot;appointment_of_board&quot;</td><td>&quot;2020-03-18&quot;</td></tr><tr><td>&quot;10094521532396971848&quot;</td><td>&quot;7584591804488095167&quot;</td><td>&quot;voting_rights 75% 100%&quot;</td><td>&quot;2020-03-18&quot;</td></tr></tbody></table></div>"
      ],
      "text/plain": [
       "shape: (3, 4)\n",
       "┌──────────────────────┬─────────────────────┬────────────────────────┬────────────┐\n",
       "│ src_id               ┆ dst_id              ┆ role                   ┆ date       │\n",
       "│ ---                  ┆ ---                 ┆ ---                    ┆ ---        │\n",
       "│ str                  ┆ str                 ┆ str                    ┆ str        │\n",
       "╞══════════════════════╪═════════════════════╪════════════════════════╪════════════╡\n",
       "│ 10094521532396971848 ┆ 7584591804488095167 ┆ shareholding 75% 100%  ┆ 2020-03-18 │\n",
       "│ 10094521532396971848 ┆ 7584591804488095167 ┆ appointment_of_board   ┆ 2020-03-18 │\n",
       "│ 10094521532396971848 ┆ 7584591804488095167 ┆ voting_rights 75% 100% ┆ 2020-03-18 │\n",
       "└──────────────────────┴─────────────────────┴────────────────────────┴────────────┘"
      ]
     },
     "execution_count": 10,
     "metadata": {},
     "output_type": "execute_result"
    }
   ],
   "source": [
    "ids = df_oo.select(\"id\").to_series().to_list()\n",
    "df_oa_relationships = oo.extract_open_ownership_relationships(df2, open_ownership_ids=ids)\n",
    "df_oa_relationships.head(3)"
   ]
  },
  {
   "cell_type": "markdown",
   "metadata": {},
   "source": [
    "## Senzing workflow"
   ]
  },
  {
   "cell_type": "markdown",
   "metadata": {},
   "source": [
    "To generate high quality entity data, we'll use Senzing to process the OpenSanctions and Open Ownership data via the Senzing Python SDK. The returned data from Senzing contains resolved entities (in `export.json`), which is once again nested JSON that we can use to create our graph.\n",
    "\n",
    "Due to the deeply nested nature of this data, we'll have to process it in a few steps using the `process_senzing_export()` function. Each entity is assigned a unique identifier with the prefix `sz_`, associated with the record ID from the original data, plus its data source."
   ]
  },
  {
   "cell_type": "code",
   "execution_count": 11,
   "metadata": {
    "execution": {
     "iopub.execute_input": "2025-04-20T20:57:12.497239Z",
     "iopub.status.busy": "2025-04-20T20:57:12.497115Z",
     "iopub.status.idle": "2025-04-20T20:57:12.502133Z",
     "shell.execute_reply": "2025-04-20T20:57:12.501877Z",
     "shell.execute_reply.started": "2025-04-20T20:57:12.497230Z"
    }
   },
   "outputs": [],
   "source": [
    "sz_export = sz.process_senzing_export(data_path / \"export.json\")"
   ]
  },
  {
   "cell_type": "markdown",
   "metadata": {},
   "source": [
    "This first dataframe `df_ent` lists the entities identified by Senzing _entity resolution_."
   ]
  },
  {
   "cell_type": "code",
   "execution_count": 12,
   "metadata": {
    "execution": {
     "iopub.execute_input": "2025-04-20T20:57:12.502587Z",
     "iopub.status.busy": "2025-04-20T20:57:12.502508Z",
     "iopub.status.idle": "2025-04-20T20:57:12.505167Z",
     "shell.execute_reply": "2025-04-20T20:57:12.504926Z",
     "shell.execute_reply.started": "2025-04-20T20:57:12.502581Z"
    }
   },
   "outputs": [
    {
     "data": {
      "text/html": [
       "<div><style>\n",
       ".dataframe > thead > tr,\n",
       ".dataframe > tbody > tr {\n",
       "  text-align: right;\n",
       "  white-space: pre-wrap;\n",
       "}\n",
       "</style>\n",
       "<small>shape: (3, 2)</small><table border=\"1\" class=\"dataframe\"><thead><tr><th>id</th><th>descrip</th></tr><tr><td>str</td><td>str</td></tr></thead><tbody><tr><td>&quot;sz_1&quot;</td><td>&quot;Abassin Badshah&quot;</td></tr><tr><td>&quot;sz_10&quot;</td><td>&quot;Nicholas Thomas Wright&quot;</td></tr><tr><td>&quot;sz_100001&quot;</td><td>&quot;Gold Wynn Uk Holdings Limited&quot;</td></tr></tbody></table></div>"
      ],
      "text/plain": [
       "shape: (3, 2)\n",
       "┌───────────┬───────────────────────────────┐\n",
       "│ id        ┆ descrip                       │\n",
       "│ ---       ┆ ---                           │\n",
       "│ str       ┆ str                           │\n",
       "╞═══════════╪═══════════════════════════════╡\n",
       "│ sz_1      ┆ Abassin Badshah               │\n",
       "│ sz_10     ┆ Nicholas Thomas Wright        │\n",
       "│ sz_100001 ┆ Gold Wynn Uk Holdings Limited │\n",
       "└───────────┴───────────────────────────────┘"
      ]
     },
     "execution_count": 12,
     "metadata": {},
     "output_type": "execute_result"
    }
   ],
   "source": [
    "df_ent = sz_export.df_ent.sort(\"id\")\n",
    "df_ent.head(3)"
   ]
  },
  {
   "cell_type": "markdown",
   "metadata": {},
   "source": [
    "The `df_rel` dataframe lists probabilistic relationships between entities, also identified by Senzing _entity resolution_. In other words, there isn't sufficient evidence _yet_ to merge these entities; however, there's enough evidence to suggest following these as closely related leads during an investigation."
   ]
  },
  {
   "cell_type": "code",
   "execution_count": 13,
   "metadata": {
    "execution": {
     "iopub.execute_input": "2025-04-20T20:57:12.505571Z",
     "iopub.status.busy": "2025-04-20T20:57:12.505503Z",
     "iopub.status.idle": "2025-04-20T20:57:12.507780Z",
     "shell.execute_reply": "2025-04-20T20:57:12.507502Z",
     "shell.execute_reply.started": "2025-04-20T20:57:12.505564Z"
    }
   },
   "outputs": [
    {
     "data": {
      "text/html": [
       "<div><style>\n",
       ".dataframe > thead > tr,\n",
       ".dataframe > tbody > tr {\n",
       "  text-align: right;\n",
       "  white-space: pre-wrap;\n",
       "}\n",
       "</style>\n",
       "<small>shape: (3, 4)</small><table border=\"1\" class=\"dataframe\"><thead><tr><th>ent_id</th><th>rel_id</th><th>why</th><th>level</th></tr><tr><td>str</td><td>str</td><td>str</td><td>i64</td></tr></thead><tbody><tr><td>&quot;sz_1&quot;</td><td>&quot;sz_2&quot;</td><td>&quot;+ADDRESS+OPEN-SANCTIONS(DIRECT…</td><td>11</td></tr><tr><td>&quot;sz_1&quot;</td><td>&quot;sz_9&quot;</td><td>&quot;+ADDRESS+OPEN-SANCTIONS(DIRECT…</td><td>11</td></tr><tr><td>&quot;sz_1&quot;</td><td>&quot;sz_100075&quot;</td><td>&quot;+ADDRESS+OOR(:APPOINTMENT_OF_B…</td><td>11</td></tr></tbody></table></div>"
      ],
      "text/plain": [
       "shape: (3, 4)\n",
       "┌────────┬───────────┬─────────────────────────────────┬───────┐\n",
       "│ ent_id ┆ rel_id    ┆ why                             ┆ level │\n",
       "│ ---    ┆ ---       ┆ ---                             ┆ ---   │\n",
       "│ str    ┆ str       ┆ str                             ┆ i64   │\n",
       "╞════════╪═══════════╪═════════════════════════════════╪═══════╡\n",
       "│ sz_1   ┆ sz_2      ┆ +ADDRESS+OPEN-SANCTIONS(DIRECT… ┆ 11    │\n",
       "│ sz_1   ┆ sz_9      ┆ +ADDRESS+OPEN-SANCTIONS(DIRECT… ┆ 11    │\n",
       "│ sz_1   ┆ sz_100075 ┆ +ADDRESS+OOR(:APPOINTMENT_OF_B… ┆ 11    │\n",
       "└────────┴───────────┴─────────────────────────────────┴───────┘"
      ]
     },
     "execution_count": 13,
     "metadata": {},
     "output_type": "execute_result"
    }
   ],
   "source": [
    "df_rel = sz_export.df_rel\n",
    "df_rel.head(3)"
   ]
  },
  {
   "cell_type": "markdown",
   "metadata": {},
   "source": [
    "### Separate the Senzing entities by source"
   ]
  },
  {
   "cell_type": "markdown",
   "metadata": {},
   "source": [
    "The final step to preprocess the data for our graph is to separate the entities by their source (whether they come from Open Sanctions or Open Ownership)."
   ]
  },
  {
   "cell_type": "code",
   "execution_count": 14,
   "metadata": {
    "execution": {
     "iopub.execute_input": "2025-04-20T20:57:12.508324Z",
     "iopub.status.busy": "2025-04-20T20:57:12.508214Z",
     "iopub.status.idle": "2025-04-20T20:57:12.510759Z",
     "shell.execute_reply": "2025-04-20T20:57:12.510534Z",
     "shell.execute_reply.started": "2025-04-20T20:57:12.508316Z"
    }
   },
   "outputs": [
    {
     "data": {
      "text/html": [
       "<div><style>\n",
       ".dataframe > thead > tr,\n",
       ".dataframe > tbody > tr {\n",
       "  text-align: right;\n",
       "  white-space: pre-wrap;\n",
       "}\n",
       "</style>\n",
       "<small>shape: (3, 4)</small><table border=\"1\" class=\"dataframe\"><thead><tr><th>ent_id</th><th>rec_id</th><th>why</th><th>level</th></tr><tr><td>str</td><td>str</td><td>str</td><td>i64</td></tr></thead><tbody><tr><td>&quot;sz_1&quot;</td><td>&quot;17207853441353212969&quot;</td><td>&quot;+NAME+ADDRESS+NATIONALITY&quot;</td><td>1</td></tr><tr><td>&quot;sz_1&quot;</td><td>&quot;6747548100436839873&quot;</td><td>&quot;+NAME+DOB+NATIONALITY&quot;</td><td>1</td></tr><tr><td>&quot;sz_10&quot;</td><td>&quot;5927522753545014068&quot;</td><td>&quot;+NAME+DOB+NATIONALITY&quot;</td><td>1</td></tr></tbody></table></div>"
      ],
      "text/plain": [
       "shape: (3, 4)\n",
       "┌────────┬──────────────────────┬───────────────────────────┬───────┐\n",
       "│ ent_id ┆ rec_id               ┆ why                       ┆ level │\n",
       "│ ---    ┆ ---                  ┆ ---                       ┆ ---   │\n",
       "│ str    ┆ str                  ┆ str                       ┆ i64   │\n",
       "╞════════╪══════════════════════╪═══════════════════════════╪═══════╡\n",
       "│ sz_1   ┆ 17207853441353212969 ┆ +NAME+ADDRESS+NATIONALITY ┆ 1     │\n",
       "│ sz_1   ┆ 6747548100436839873  ┆ +NAME+DOB+NATIONALITY     ┆ 1     │\n",
       "│ sz_10  ┆ 5927522753545014068  ┆ +NAME+DOB+NATIONALITY     ┆ 1     │\n",
       "└────────┴──────────────────────┴───────────────────────────┴───────┘"
      ]
     },
     "execution_count": 14,
     "metadata": {},
     "output_type": "execute_result"
    }
   ],
   "source": [
    "df_sz_oo = sz_export.df_rec.filter(pl.col(\"source\") == \"OPEN-OWNERSHIP\").select(\"ent_id\", \"rec_id\", \"why\", \"level\")\n",
    "df_sz_oo.head(3)"
   ]
  },
  {
   "cell_type": "code",
   "execution_count": 15,
   "metadata": {
    "execution": {
     "iopub.execute_input": "2025-04-20T20:57:12.511265Z",
     "iopub.status.busy": "2025-04-20T20:57:12.511179Z",
     "iopub.status.idle": "2025-04-20T20:57:12.513782Z",
     "shell.execute_reply": "2025-04-20T20:57:12.513439Z",
     "shell.execute_reply.started": "2025-04-20T20:57:12.511258Z"
    }
   },
   "outputs": [
    {
     "data": {
      "text/html": [
       "<div><style>\n",
       ".dataframe > thead > tr,\n",
       ".dataframe > tbody > tr {\n",
       "  text-align: right;\n",
       "  white-space: pre-wrap;\n",
       "}\n",
       "</style>\n",
       "<small>shape: (3, 4)</small><table border=\"1\" class=\"dataframe\"><thead><tr><th>ent_id</th><th>rec_id</th><th>why</th><th>level</th></tr><tr><td>str</td><td>str</td><td>str</td><td>i64</td></tr></thead><tbody><tr><td>&quot;sz_1&quot;</td><td>&quot;NK-25vyVFzt8vdJGgAXMRTwTJ&quot;</td><td>&quot;&quot;</td><td>0</td></tr><tr><td>&quot;sz_2&quot;</td><td>&quot;NK-3p3mmVWmjwVtTfKchz4kNE&quot;</td><td>&quot;&quot;</td><td>0</td></tr><tr><td>&quot;sz_3&quot;</td><td>&quot;NK-auyPsLrBzRoxjCRWgjBvas&quot;</td><td>&quot;&quot;</td><td>0</td></tr></tbody></table></div>"
      ],
      "text/plain": [
       "shape: (3, 4)\n",
       "┌────────┬───────────────────────────┬─────┬───────┐\n",
       "│ ent_id ┆ rec_id                    ┆ why ┆ level │\n",
       "│ ---    ┆ ---                       ┆ --- ┆ ---   │\n",
       "│ str    ┆ str                       ┆ str ┆ i64   │\n",
       "╞════════╪═══════════════════════════╪═════╪═══════╡\n",
       "│ sz_1   ┆ NK-25vyVFzt8vdJGgAXMRTwTJ ┆     ┆ 0     │\n",
       "│ sz_2   ┆ NK-3p3mmVWmjwVtTfKchz4kNE ┆     ┆ 0     │\n",
       "│ sz_3   ┆ NK-auyPsLrBzRoxjCRWgjBvas ┆     ┆ 0     │\n",
       "└────────┴───────────────────────────┴─────┴───────┘"
      ]
     },
     "execution_count": 15,
     "metadata": {},
     "output_type": "execute_result"
    }
   ],
   "source": [
    "df_sz_os = sz_export.df_rec.filter(pl.col(\"source\") == \"OPEN-SANCTIONS\").select(\"ent_id\", \"rec_id\", \"why\", \"level\")\n",
    "df_sz_os.head(3)"
   ]
  },
  {
   "cell_type": "markdown",
   "metadata": {},
   "source": [
    "## Copy data to Kuzu graph"
   ]
  },
  {
   "cell_type": "markdown",
   "metadata": {},
   "source": [
    "Kuzu is an embedded, open source graph database that supports the Cypher query language. It uses a structured property graph model, which is similar to the labelled property graph model you may be familiar with from other systems -- the only difference being that Kuzu requires strict data types for properties in the schema.\n",
    "\n",
    "The following steps will create the graph schema in Kuzu (node and relationship tables) and copy the data into them."
   ]
  },
  {
   "cell_type": "code",
   "execution_count": 16,
   "metadata": {
    "execution": {
     "iopub.execute_input": "2025-04-20T20:57:12.514208Z",
     "iopub.status.busy": "2025-04-20T20:57:12.514124Z",
     "iopub.status.idle": "2025-04-20T20:57:12.516459Z",
     "shell.execute_reply": "2025-04-20T20:57:12.516154Z",
     "shell.execute_reply.started": "2025-04-20T20:57:12.514202Z"
    }
   },
   "outputs": [],
   "source": [
    "# Create a yFiles graph widget so we can explore our graph as it's created\n",
    "g = KuzuGraphWidget(conn)"
   ]
  },
  {
   "cell_type": "code",
   "execution_count": 17,
   "metadata": {
    "execution": {
     "iopub.execute_input": "2025-04-20T20:57:12.517007Z",
     "iopub.status.busy": "2025-04-20T20:57:12.516832Z",
     "iopub.status.idle": "2025-04-20T20:57:12.524359Z",
     "shell.execute_reply": "2025-04-20T20:57:12.524149Z",
     "shell.execute_reply.started": "2025-04-20T20:57:12.516997Z"
    }
   },
   "outputs": [
    {
     "data": {
      "text/plain": [
       "<kuzu.query_result.QueryResult at 0x1155803e0>"
      ]
     },
     "execution_count": 17,
     "metadata": {},
     "output_type": "execute_result"
    }
   ],
   "source": [
    "conn.execute(\"CREATE NODE TABLE IF NOT EXISTS OpenSanctions (id STRING PRIMARY KEY, kind STRING, name STRING, addr STRING, url STRING)\")\n",
    "conn.execute(\"CREATE NODE TABLE IF NOT EXISTS OpenOwnership (id STRING PRIMARY KEY, kind STRING, name STRING, addr STRING, country STRING)\")\n",
    "conn.execute(\"CREATE NODE TABLE IF NOT EXISTS Risk (topic STRING PRIMARY KEY)\")\n",
    "conn.execute(\"CREATE NODE TABLE IF NOT EXISTS Entity (id STRING PRIMARY KEY, descrip STRING)\")\n",
    "conn.execute(\"CREATE REL TABLE IF NOT EXISTS Role (FROM OpenOwnership TO OpenOwnership, role STRING, date DATE)\")"
   ]
  },
  {
   "cell_type": "code",
   "execution_count": 18,
   "metadata": {
    "execution": {
     "iopub.execute_input": "2025-04-20T20:57:12.524845Z",
     "iopub.status.busy": "2025-04-20T20:57:12.524726Z",
     "iopub.status.idle": "2025-04-20T20:57:12.631942Z",
     "shell.execute_reply": "2025-04-20T20:57:12.631658Z",
     "shell.execute_reply.started": "2025-04-20T20:57:12.524837Z"
    }
   },
   "outputs": [
    {
     "data": {
      "text/plain": [
       "<kuzu.query_result.QueryResult at 0x115371b50>"
      ]
     },
     "execution_count": 18,
     "metadata": {},
     "output_type": "execute_result"
    }
   ],
   "source": [
    "conn.execute(\"COPY OpenSanctions FROM df_os\")\n",
    "conn.execute(\"COPY OpenOwnership FROM df_oo\")\n",
    "conn.execute(\"COPY Risk FROM (LOAD FROM df_risk RETURN DISTINCT topic)\")\n",
    "conn.execute(\"COPY Entity FROM (LOAD FROM df_ent RETURN id, descrip)\")\n",
    "conn.execute(\"COPY Role FROM df_oa_relationships\")"
   ]
  },
  {
   "cell_type": "code",
   "execution_count": 19,
   "metadata": {
    "execution": {
     "iopub.execute_input": "2025-04-20T20:57:12.632352Z",
     "iopub.status.busy": "2025-04-20T20:57:12.632250Z",
     "iopub.status.idle": "2025-04-20T20:57:12.656840Z",
     "shell.execute_reply": "2025-04-20T20:57:12.656570Z",
     "shell.execute_reply.started": "2025-04-20T20:57:12.632344Z"
    }
   },
   "outputs": [
    {
     "data": {
      "application/vnd.jupyter.widget-view+json": {
       "model_id": "cc058e0cab294692be37dcdea465e2cf",
       "version_major": 2,
       "version_minor": 0
      },
      "text/plain": [
       "GraphWidget(layout=Layout(height='800px', width='100%'))"
      ]
     },
     "metadata": {},
     "output_type": "display_data"
    }
   ],
   "source": [
    "g.show_cypher(\"MATCH (a:OpenSanctions:OpenOwnership)-[b]->(c:OpenSanctions:OpenOwnership) RETURN * LIMIT 50\")"
   ]
  },
  {
   "cell_type": "code",
   "execution_count": 20,
   "metadata": {
    "execution": {
     "iopub.execute_input": "2025-04-20T20:57:12.657310Z",
     "iopub.status.busy": "2025-04-20T20:57:12.657244Z",
     "iopub.status.idle": "2025-04-20T20:57:12.673177Z",
     "shell.execute_reply": "2025-04-20T20:57:12.672878Z",
     "shell.execute_reply.started": "2025-04-20T20:57:12.657303Z"
    }
   },
   "outputs": [],
   "source": [
    "# Create Related table between entities\n",
    "conn.execute(\"CREATE REL TABLE IF NOT EXISTS Related (FROM Entity TO Entity, why STRING, level INT8)\");\n",
    "conn.execute(\"COPY Related FROM df_rel\");"
   ]
  },
  {
   "cell_type": "code",
   "execution_count": 21,
   "metadata": {
    "execution": {
     "iopub.execute_input": "2025-04-20T20:57:12.675615Z",
     "iopub.status.busy": "2025-04-20T20:57:12.675500Z",
     "iopub.status.idle": "2025-04-20T20:57:12.689542Z",
     "shell.execute_reply": "2025-04-20T20:57:12.689209Z",
     "shell.execute_reply.started": "2025-04-20T20:57:12.675606Z"
    }
   },
   "outputs": [
    {
     "data": {
      "application/vnd.jupyter.widget-view+json": {
       "model_id": "bef1b0ee0b70499eaee8b6d2750f2466",
       "version_major": 2,
       "version_minor": 0
      },
      "text/plain": [
       "GraphWidget(layout=Layout(height='500px', width='100%'))"
      ]
     },
     "metadata": {},
     "output_type": "display_data"
    }
   ],
   "source": [
    "g.show_cypher(\n",
    "    \"\"\"\n",
    "    MATCH (a:Entity)-[b *1..3]->(c)\n",
    "    WHERE a.descrip CONTAINS \"Abassin\"\n",
    "    RETURN * LIMIT 50\n",
    "    \"\"\"\n",
    ")"
   ]
  },
  {
   "cell_type": "markdown",
   "metadata": {},
   "source": [
    "We'll need to create `Matched` relationships between the entities in our graph. The from/to columns in the following table are the source and destination Senzing identifiers."
   ]
  },
  {
   "cell_type": "code",
   "execution_count": 22,
   "metadata": {
    "execution": {
     "iopub.execute_input": "2025-04-20T20:57:12.690091Z",
     "iopub.status.busy": "2025-04-20T20:57:12.690018Z",
     "iopub.status.idle": "2025-04-20T20:57:12.718579Z",
     "shell.execute_reply": "2025-04-20T20:57:12.718273Z",
     "shell.execute_reply.started": "2025-04-20T20:57:12.690084Z"
    }
   },
   "outputs": [],
   "source": [
    "# Create Matched table between multiple sets of entities\n",
    "conn.execute(\n",
    "    \"\"\"\n",
    "    CREATE REL TABLE IF NOT EXISTS Matched (\n",
    "        FROM Entity TO OpenSanctions,\n",
    "        FROM Entity TO OpenOwnership,\n",
    "        why STRING,\n",
    "        level INT8\n",
    "    )\n",
    "\"\"\"\n",
    ")\n",
    "conn.execute(\"COPY Matched FROM df_sz_os (from='Entity', to='OpenSanctions')\");\n",
    "conn.execute(\"COPY Matched FROM df_sz_oo (from='Entity', to='OpenOwnership')\");"
   ]
  },
  {
   "cell_type": "code",
   "execution_count": 23,
   "metadata": {
    "execution": {
     "iopub.execute_input": "2025-04-20T20:57:12.719067Z",
     "iopub.status.busy": "2025-04-20T20:57:12.718982Z",
     "iopub.status.idle": "2025-04-20T20:57:12.734537Z",
     "shell.execute_reply": "2025-04-20T20:57:12.734284Z",
     "shell.execute_reply.started": "2025-04-20T20:57:12.719056Z"
    }
   },
   "outputs": [
    {
     "data": {
      "text/plain": [
       "<kuzu.query_result.QueryResult at 0x1253ab710>"
      ]
     },
     "execution_count": 23,
     "metadata": {},
     "output_type": "execute_result"
    }
   ],
   "source": [
    "# Add Risks to OpenSanctions\n",
    "conn.execute(\"CREATE REL TABLE IF NOT EXISTS HasRisk (FROM OpenSanctions TO Risk)\")\n",
    "conn.execute(\"COPY HasRisk FROM df_risk\")"
   ]
  },
  {
   "cell_type": "code",
   "execution_count": 24,
   "metadata": {
    "execution": {
     "iopub.execute_input": "2025-04-20T20:57:12.735069Z",
     "iopub.status.busy": "2025-04-20T20:57:12.734944Z",
     "iopub.status.idle": "2025-04-20T20:57:12.749688Z",
     "shell.execute_reply": "2025-04-20T20:57:12.749466Z",
     "shell.execute_reply.started": "2025-04-20T20:57:12.735060Z"
    }
   },
   "outputs": [
    {
     "data": {
      "application/vnd.jupyter.widget-view+json": {
       "model_id": "3af38d38d66b45f786bb5af0ba0f66e8",
       "version_major": 2,
       "version_minor": 0
      },
      "text/plain": [
       "GraphWidget(layout=Layout(height='500px', width='100%'))"
      ]
     },
     "metadata": {},
     "output_type": "display_data"
    }
   ],
   "source": [
    "g.show_cypher(\n",
    "    \"\"\"\n",
    "    MATCH (a:Entity)-[b *1..3]->(c)\n",
    "    WHERE a.descrip CONTAINS \"Abassin\"\n",
    "    RETURN * LIMIT 50\n",
    "    \"\"\"\n",
    ")"
   ]
  },
  {
   "cell_type": "markdown",
   "metadata": {},
   "source": [
    "We've successfully combined the data from Open Sanctions, Open Ownership, and resolved entities from Senzing to create a graph that's persisted in Kuzu!\n",
    "This graph is of high enough quality that it can be used for a variety of investigative tasks downstream. Happy querying!"
   ]
  }
 ],
 "metadata": {
  "kernelspec": {
   "display_name": "Python 3 (ipykernel)",
   "language": "python",
   "name": "python3"
  },
  "language_info": {
   "codemirror_mode": {
    "name": "ipython",
    "version": 3
   },
   "file_extension": ".py",
   "mimetype": "text/x-python",
   "name": "python",
   "nbconvert_exporter": "python",
   "pygments_lexer": "ipython3",
   "version": "3.13.2"
  }
 },
 "nbformat": 4,
 "nbformat_minor": 4
}
