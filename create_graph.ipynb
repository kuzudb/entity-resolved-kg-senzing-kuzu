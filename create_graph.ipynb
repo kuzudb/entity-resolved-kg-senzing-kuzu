{
 "cells": [
  {
   "cell_type": "code",
   "execution_count": 1,
   "metadata": {
    "execution": {
     "iopub.execute_input": "2025-07-29T02:49:53.982074Z",
     "iopub.status.busy": "2025-07-29T02:49:53.981984Z",
     "iopub.status.idle": "2025-07-29T02:49:54.067183Z",
     "shell.execute_reply": "2025-07-29T02:49:54.066871Z",
     "shell.execute_reply.started": "2025-07-29T02:49:53.982063Z"
    }
   },
   "outputs": [],
   "source": [
    "import pathlib\n",
    "import shutil\n",
    "\n",
    "import kuzu\n",
    "import polars as pl\n",
    "import watermark\n",
    "\n",
    "import open_sanctions as os\n",
    "import open_ownership as oo\n",
    "import process_senzing as sz\n",
    "\n",
    "# For visualizing the Kuzu graph in yFiles widget\n",
    "from yfiles_jupyter_graphs_for_kuzu import KuzuGraphWidget"
   ]
  },
  {
   "cell_type": "code",
   "execution_count": 2,
   "metadata": {
    "execution": {
     "iopub.execute_input": "2025-07-29T02:49:54.067594Z",
     "iopub.status.busy": "2025-07-29T02:49:54.067518Z",
     "iopub.status.idle": "2025-07-29T02:49:54.078259Z",
     "shell.execute_reply": "2025-07-29T02:49:54.077955Z",
     "shell.execute_reply.started": "2025-07-29T02:49:54.067587Z"
    }
   },
   "outputs": [
    {
     "name": "stdout",
     "output_type": "stream",
     "text": [
      "Last updated: 2025-07-28T19:49:54.068294-07:00\n",
      "\n",
      "Python implementation: CPython\n",
      "Python version       : 3.13.3\n",
      "IPython version      : 9.1.0\n",
      "\n",
      "Compiler    : Clang 16.0.0 (clang-1600.0.26.6)\n",
      "OS          : Darwin\n",
      "Release     : 24.5.0\n",
      "Machine     : arm64\n",
      "Processor   : arm\n",
      "CPU cores   : 14\n",
      "Architecture: 64bit\n",
      "\n",
      "kuzu                          : 0.9.0\n",
      "yfiles_jupyter_graphs_for_kuzu: 0.0.4\n",
      "polars                        : 1.29.0\n",
      "watermark                     : 2.5.0\n",
      "\n"
     ]
    }
   ],
   "source": [
    "%load_ext watermark\n",
    "%watermark\n",
    "%watermark --iversions"
   ]
  },
  {
   "cell_type": "code",
   "execution_count": 3,
   "metadata": {
    "execution": {
     "iopub.execute_input": "2025-07-29T02:49:54.079494Z",
     "iopub.status.busy": "2025-07-29T02:49:54.079401Z",
     "iopub.status.idle": "2025-07-29T02:49:54.101705Z",
     "shell.execute_reply": "2025-07-29T02:49:54.101402Z",
     "shell.execute_reply.started": "2025-07-29T02:49:54.079483Z"
    }
   },
   "outputs": [],
   "source": [
    "DB_PATH = \"./db\"\n",
    "shutil.rmtree(DB_PATH, ignore_errors=True)\n",
    "\n",
    "db = kuzu.Database(DB_PATH)\n",
    "conn = kuzu.Connection(db)"
   ]
  },
  {
   "cell_type": "markdown",
   "metadata": {},
   "source": [
    "## OpenSanctions"
   ]
  },
  {
   "cell_type": "code",
   "execution_count": 4,
   "metadata": {
    "execution": {
     "iopub.execute_input": "2025-07-29T02:49:54.102109Z",
     "iopub.status.busy": "2025-07-29T02:49:54.102041Z",
     "iopub.status.idle": "2025-07-29T02:49:54.104041Z",
     "shell.execute_reply": "2025-07-29T02:49:54.103761Z",
     "shell.execute_reply.started": "2025-07-29T02:49:54.102103Z"
    }
   },
   "outputs": [],
   "source": [
    "data_path: pathlib.Path = pathlib.Path(\"data\")"
   ]
  },
  {
   "cell_type": "markdown",
   "metadata": {},
   "source": [
    "We'll load a slice of the [OpenSanctions](https://www.opensanctions.org/) dataset, which provides the \"risk\" category of data.\n",
    "This describes people and organizations who represent known risks for FinCrime."
   ]
  },
  {
   "cell_type": "code",
   "execution_count": 5,
   "metadata": {
    "execution": {
     "iopub.execute_input": "2025-07-29T02:49:54.104578Z",
     "iopub.status.busy": "2025-07-29T02:49:54.104462Z",
     "iopub.status.idle": "2025-07-29T02:49:54.112290Z",
     "shell.execute_reply": "2025-07-29T02:49:54.112045Z",
     "shell.execute_reply.started": "2025-07-29T02:49:54.104571Z"
    }
   },
   "outputs": [
    {
     "data": {
      "text/html": [
       "<div><style>\n",
       ".dataframe > thead > tr,\n",
       ".dataframe > tbody > tr {\n",
       "  text-align: right;\n",
       "  white-space: pre-wrap;\n",
       "}\n",
       "</style>\n",
       "<small>shape: (3, 15)</small><table border=\"1\" class=\"dataframe\"><thead><tr><th>DATA_SOURCE</th><th>RECORD_ID</th><th>RECORD_TYPE</th><th>LAST_CHANGE</th><th>NAMES</th><th>GENDER</th><th>RISKS</th><th>ADDRESSES</th><th>DATES</th><th>COUNTRIES</th><th>IDENTIFIERS</th><th>SOURCE_LINKS</th><th>RELATIONSHIPS</th><th>URL</th><th>CONTACTS</th></tr><tr><td>str</td><td>str</td><td>str</td><td>str</td><td>list[struct[3]]</td><td>str</td><td>list[struct[1]]</td><td>list[struct[7]]</td><td>list[struct[2]]</td><td>list[struct[3]]</td><td>list[struct[9]]</td><td>list[struct[1]]</td><td>list[struct[5]]</td><td>str</td><td>list[struct[1]]</td></tr></thead><tbody><tr><td>&quot;OPEN-SANCTIONS&quot;</td><td>&quot;NK-25vyVFzt8vdJGgAXMRTwTJ&quot;</td><td>&quot;PERSON&quot;</td><td>&quot;2024-07-30T16:41:14&quot;</td><td>[{&quot;PRIMARY&quot;,null,&quot;Abassin BADSHAH&quot;}]</td><td>null</td><td>[{&quot;corp.disqual&quot;}]</td><td>[{&quot;31 Quernmore Close, Bromley, Kent, United Kingdom, BR1 4EL&quot;,null,null,null,null,null,null}]</td><td>[{null,&quot;1985-05-12&quot;}]</td><td>[{null,&quot;gb&quot;,null}]</td><td>[{&quot;OPEN-SANCTIONS&quot;,&quot;NK-25vyVFzt8vdJGgAXMRTwTJ&quot;,null,null,null,null,null,null,null}]</td><td>[{&quot;https://find-and-update.company-information.service.gov.uk/disqualified-officers/natural/mGquuTbmESWiRmHJPz1ObUwfDgk&quot;}]</td><td>[{null,null,&quot;Directorship&quot;,&quot;OPEN-SANCTIONS&quot;,&quot;NK-SKAADAiqiZ78JsJjeg72Te&quot;}, {null,null,&quot;Directorship&quot;,&quot;OPEN-SANCTIONS&quot;,&quot;NK-3p3mmVWmjwVtTfKchz4kNE&quot;}]</td><td>&quot;https://www.opensanctions.org/…</td><td>null</td></tr><tr><td>&quot;OPEN-SANCTIONS&quot;</td><td>&quot;NK-3p3mmVWmjwVtTfKchz4kNE&quot;</td><td>&quot;ORGANIZATION&quot;</td><td>&quot;2025-01-07T00:33:03&quot;</td><td>[{&quot;PRIMARY&quot;,&quot;LMAR (GB) LTD&quot;,null}]</td><td>null</td><td>null</td><td>[{&quot;31 Quernmore Close, Bromley, Kent, United Kingdom, BR1 4EL&quot;,null,null,null,null,null,&quot;BUSINESS&quot;}]</td><td>null</td><td>[{&quot;gb&quot;,null,null}]</td><td>[{&quot;OPEN-SANCTIONS&quot;,&quot;NK-3p3mmVWmjwVtTfKchz4kNE&quot;,null,null,null,null,null,null,null}]</td><td>null</td><td>[{&quot;OPEN-SANCTIONS&quot;,&quot;NK-3p3mmVWmjwVtTfKchz4kNE&quot;,null,null,null}]</td><td>&quot;https://www.opensanctions.org/…</td><td>null</td></tr><tr><td>&quot;OPEN-SANCTIONS&quot;</td><td>&quot;NK-auyPsLrBzRoxjCRWgjBvas&quot;</td><td>&quot;ORGANIZATION&quot;</td><td>&quot;2024-03-03T19:51:29&quot;</td><td>[{&quot;PRIMARY&quot;,&quot;WANDLE HOLDINGS LIMITED&quot;,null}]</td><td>null</td><td>[{&quot;sanction.linked&quot;}]</td><td>[{&quot;DEANA BEACH APTS, BLOCK A, Flat 212, Προμαχών Ελευθερίας, 33, &#x27;Αγιος Αθανάσιος, 4103, Λεμεσός, Κύπρος&quot;,null,null,null,null,null,&quot;BUSINESS&quot;}]</td><td>[{&quot;2006-12-08&quot;,null}]</td><td>[{&quot;cy&quot;,null,null}]</td><td>[{null,null,&quot;C188266&quot;,null,null,null,null,null,null}, {null,null,&quot;HE188266&quot;,null,null,null,null,null,null}, {&quot;OPEN-SANCTIONS&quot;,&quot;NK-auyPsLrBzRoxjCRWgjBvas&quot;,null,null,null,null,null,null,null}]</td><td>null</td><td>[{&quot;OPEN-SANCTIONS&quot;,&quot;NK-auyPsLrBzRoxjCRWgjBvas&quot;,null,null,null}]</td><td>&quot;https://opensanctions.org/enti…</td><td>null</td></tr></tbody></table></div>"
      ],
      "text/plain": [
       "shape: (3, 15)\n",
       "┌───────────┬───────────┬───────────┬───────────┬───┬───────────┬───────────┬───────────┬──────────┐\n",
       "│ DATA_SOUR ┆ RECORD_ID ┆ RECORD_TY ┆ LAST_CHAN ┆ … ┆ SOURCE_LI ┆ RELATIONS ┆ URL       ┆ CONTACTS │\n",
       "│ CE        ┆ ---       ┆ PE        ┆ GE        ┆   ┆ NKS       ┆ HIPS      ┆ ---       ┆ ---      │\n",
       "│ ---       ┆ str       ┆ ---       ┆ ---       ┆   ┆ ---       ┆ ---       ┆ str       ┆ list[str │\n",
       "│ str       ┆           ┆ str       ┆ str       ┆   ┆ list[stru ┆ list[stru ┆           ┆ uct[1]]  │\n",
       "│           ┆           ┆           ┆           ┆   ┆ ct[1]]    ┆ ct[5]]    ┆           ┆          │\n",
       "╞═══════════╪═══════════╪═══════════╪═══════════╪═══╪═══════════╪═══════════╪═══════════╪══════════╡\n",
       "│ OPEN-SANC ┆ NK-25vyVF ┆ PERSON    ┆ 2024-07-3 ┆ … ┆ [{\"https: ┆ [{null,nu ┆ https://w ┆ null     │\n",
       "│ TIONS     ┆ zt8vdJGgA ┆           ┆ 0T16:41:1 ┆   ┆ //find-an ┆ ll,\"Direc ┆ ww.opensa ┆          │\n",
       "│           ┆ XMRTwTJ   ┆           ┆ 4         ┆   ┆ d-update. ┆ torship\", ┆ nctions.o ┆          │\n",
       "│           ┆           ┆           ┆           ┆   ┆ com…      ┆ \"OP…      ┆ rg/…      ┆          │\n",
       "│ OPEN-SANC ┆ NK-3p3mmV ┆ ORGANIZAT ┆ 2025-01-0 ┆ … ┆ null      ┆ [{\"OPEN-S ┆ https://w ┆ null     │\n",
       "│ TIONS     ┆ WmjwVtTfK ┆ ION       ┆ 7T00:33:0 ┆   ┆           ┆ ANCTIONS\" ┆ ww.opensa ┆          │\n",
       "│           ┆ chz4kNE   ┆           ┆ 3         ┆   ┆           ┆ ,\"NK-3p3m ┆ nctions.o ┆          │\n",
       "│           ┆           ┆           ┆           ┆   ┆           ┆ mVW…      ┆ rg/…      ┆          │\n",
       "│ OPEN-SANC ┆ NK-auyPsL ┆ ORGANIZAT ┆ 2024-03-0 ┆ … ┆ null      ┆ [{\"OPEN-S ┆ https://o ┆ null     │\n",
       "│ TIONS     ┆ rBzRoxjCR ┆ ION       ┆ 3T19:51:2 ┆   ┆           ┆ ANCTIONS\" ┆ pensancti ┆          │\n",
       "│           ┆ WgjBvas   ┆           ┆ 9         ┆   ┆           ┆ ,\"NK-auyP ┆ ons.org/e ┆          │\n",
       "│           ┆           ┆           ┆           ┆   ┆           ┆ sLr…      ┆ nti…      ┆          │\n",
       "└───────────┴───────────┴───────────┴───────────┴───┴───────────┴───────────┴───────────┴──────────┘"
      ]
     },
     "execution_count": 5,
     "metadata": {},
     "output_type": "execute_result"
    }
   ],
   "source": [
    "df1 = pl.read_ndjson(data_path / \"open-sanctions.json\")\n",
    "df1.head(3)"
   ]
  },
  {
   "cell_type": "markdown",
   "metadata": {},
   "source": [
    "Each entity ID from OpenSanctions has a risk classification. This can be useful to associate an ID with a particular risk, allowing us to narrow down on candidates that are relevant to a particular investigation."
   ]
  },
  {
   "cell_type": "code",
   "execution_count": 6,
   "metadata": {
    "execution": {
     "iopub.execute_input": "2025-07-29T02:49:54.112731Z",
     "iopub.status.busy": "2025-07-29T02:49:54.112664Z",
     "iopub.status.idle": "2025-07-29T02:49:54.116209Z",
     "shell.execute_reply": "2025-07-29T02:49:54.115977Z",
     "shell.execute_reply.started": "2025-07-29T02:49:54.112724Z"
    }
   },
   "outputs": [
    {
     "data": {
      "text/html": [
       "<div><style>\n",
       ".dataframe > thead > tr,\n",
       ".dataframe > tbody > tr {\n",
       "  text-align: right;\n",
       "  white-space: pre-wrap;\n",
       "}\n",
       "</style>\n",
       "<small>shape: (3, 2)</small><table border=\"1\" class=\"dataframe\"><thead><tr><th>id</th><th>topic</th></tr><tr><td>str</td><td>str</td></tr></thead><tbody><tr><td>&quot;NK-25vyVFzt8vdJGgAXMRTwTJ&quot;</td><td>&quot;corp.disqual&quot;</td></tr><tr><td>&quot;NK-auyPsLrBzRoxjCRWgjBvas&quot;</td><td>&quot;sanction.linked&quot;</td></tr><tr><td>&quot;NK-cf4Q3KcmUnQbt8Cy7iTtwK&quot;</td><td>&quot;sanction.linked&quot;</td></tr></tbody></table></div>"
      ],
      "text/plain": [
       "shape: (3, 2)\n",
       "┌───────────────────────────┬─────────────────┐\n",
       "│ id                        ┆ topic           │\n",
       "│ ---                       ┆ ---             │\n",
       "│ str                       ┆ str             │\n",
       "╞═══════════════════════════╪═════════════════╡\n",
       "│ NK-25vyVFzt8vdJGgAXMRTwTJ ┆ corp.disqual    │\n",
       "│ NK-auyPsLrBzRoxjCRWgjBvas ┆ sanction.linked │\n",
       "│ NK-cf4Q3KcmUnQbt8Cy7iTtwK ┆ sanction.linked │\n",
       "└───────────────────────────┴─────────────────┘"
      ]
     },
     "execution_count": 6,
     "metadata": {},
     "output_type": "execute_result"
    }
   ],
   "source": [
    "# Get risks from OpenSanctions\n",
    "df_risk = os.extract_risks(df1)\n",
    "df_risk.head(3)"
   ]
  },
  {
   "cell_type": "markdown",
   "metadata": {},
   "source": [
    "We're now ready to extract the open sanctions data. The `extract_open_sanctions` function will take the raw data, process the nested fields within it and return the relevant columns that we need for our graph."
   ]
  },
  {
   "cell_type": "code",
   "execution_count": 7,
   "metadata": {
    "execution": {
     "iopub.execute_input": "2025-07-29T02:49:54.116729Z",
     "iopub.status.busy": "2025-07-29T02:49:54.116601Z",
     "iopub.status.idle": "2025-07-29T02:49:54.121382Z",
     "shell.execute_reply": "2025-07-29T02:49:54.121151Z",
     "shell.execute_reply.started": "2025-07-29T02:49:54.116719Z"
    }
   },
   "outputs": [
    {
     "data": {
      "text/html": [
       "<div><style>\n",
       ".dataframe > thead > tr,\n",
       ".dataframe > tbody > tr {\n",
       "  text-align: right;\n",
       "  white-space: pre-wrap;\n",
       "}\n",
       "</style>\n",
       "<small>shape: (3, 5)</small><table border=\"1\" class=\"dataframe\"><thead><tr><th>id</th><th>kind</th><th>name</th><th>addr</th><th>url</th></tr><tr><td>str</td><td>str</td><td>str</td><td>str</td><td>str</td></tr></thead><tbody><tr><td>&quot;NK-25vyVFzt8vdJGgAXMRTwTJ&quot;</td><td>&quot;PERSON&quot;</td><td>&quot;Abassin BADSHAH&quot;</td><td>&quot;31 Quernmore Close, Bromley, K…</td><td>&quot;https://www.opensanctions.org/…</td></tr><tr><td>&quot;NK-3p3mmVWmjwVtTfKchz4kNE&quot;</td><td>&quot;ORGANIZATION&quot;</td><td>&quot;LMAR (GB) LTD&quot;</td><td>&quot;31 Quernmore Close, Bromley, K…</td><td>&quot;https://www.opensanctions.org/…</td></tr><tr><td>&quot;NK-L2UmsZtsyvYiaEmHSaiZ2t&quot;</td><td>&quot;PERSON&quot;</td><td>&quot;Gulnara Suleimanova KERIMOVA&quot;</td><td>&quot;MOSCOW, RUS, 123430&quot;</td><td>&quot;https://www.opensanctions.org/…</td></tr></tbody></table></div>"
      ],
      "text/plain": [
       "shape: (3, 5)\n",
       "┌─────────────────────┬──────────────┬─────────────────┬─────────────────────┬─────────────────────┐\n",
       "│ id                  ┆ kind         ┆ name            ┆ addr                ┆ url                 │\n",
       "│ ---                 ┆ ---          ┆ ---             ┆ ---                 ┆ ---                 │\n",
       "│ str                 ┆ str          ┆ str             ┆ str                 ┆ str                 │\n",
       "╞═════════════════════╪══════════════╪═════════════════╪═════════════════════╪═════════════════════╡\n",
       "│ NK-25vyVFzt8vdJGgAX ┆ PERSON       ┆ Abassin BADSHAH ┆ 31 Quernmore Close, ┆ https://www.opensan │\n",
       "│ MRTwTJ              ┆              ┆                 ┆ Bromley, K…         ┆ ctions.org/…        │\n",
       "│ NK-3p3mmVWmjwVtTfKc ┆ ORGANIZATION ┆ LMAR (GB) LTD   ┆ 31 Quernmore Close, ┆ https://www.opensan │\n",
       "│ hz4kNE              ┆              ┆                 ┆ Bromley, K…         ┆ ctions.org/…        │\n",
       "│ NK-L2UmsZtsyvYiaEmH ┆ PERSON       ┆ Gulnara         ┆ MOSCOW, RUS, 123430 ┆ https://www.opensan │\n",
       "│ SaiZ2t              ┆              ┆ Suleimanova     ┆                     ┆ ctions.org/…        │\n",
       "│                     ┆              ┆ KERIMOVA        ┆                     ┆                     │\n",
       "└─────────────────────┴──────────────┴─────────────────┴─────────────────────┴─────────────────────┘"
      ]
     },
     "execution_count": 7,
     "metadata": {},
     "output_type": "execute_result"
    }
   ],
   "source": [
    "df_os = os.extract_open_sanctions(df1)\n",
    "df_os.head(3)"
   ]
  },
  {
   "cell_type": "markdown",
   "metadata": {},
   "source": [
    "Of particular interest for this workshop is the person [\"Abassin Badshah\"](https://find-and-update.company-information.service.gov.uk/disqualified-officers/natural/mGquuTbmESWiRmHJPz1ObUwfDgk), former owner of multiple Papa John's franchises in London, who is disqualified from being a corporate director until 2026, due to his [tax evasion conviction](https://londonnewsonline.co.uk/news/catford-papa-johns-pizza-boss-jailed-after-669000-tax-evasion/) in 2021."
   ]
  },
  {
   "cell_type": "markdown",
   "metadata": {},
   "source": [
    "## Open Ownership"
   ]
  },
  {
   "cell_type": "markdown",
   "metadata": {},
   "source": [
    "[Open Ownership](https://www.openownership.org/) describes _ultimate beneficial ownership_ (UBO) details, which provides the \"link\" category of data. In other words, \"Who owns how much of what, and who actually has controlling interest?\""
   ]
  },
  {
   "cell_type": "code",
   "execution_count": 8,
   "metadata": {
    "execution": {
     "iopub.execute_input": "2025-07-29T02:49:54.121812Z",
     "iopub.status.busy": "2025-07-29T02:49:54.121718Z",
     "iopub.status.idle": "2025-07-29T02:49:54.128334Z",
     "shell.execute_reply": "2025-07-29T02:49:54.128079Z",
     "shell.execute_reply.started": "2025-07-29T02:49:54.121793Z"
    }
   },
   "outputs": [
    {
     "data": {
      "text/html": [
       "<div><style>\n",
       ".dataframe > thead > tr,\n",
       ".dataframe > tbody > tr {\n",
       "  text-align: right;\n",
       "  white-space: pre-wrap;\n",
       "}\n",
       "</style>\n",
       "<small>shape: (3, 17)</small><table border=\"1\" class=\"dataframe\"><thead><tr><th>DATA_SOURCE</th><th>RECORD_ID</th><th>statementDate</th><th>RECORD_TYPE</th><th>NAMES</th><th>PRIMARY_NAME_FULL</th><th>personType</th><th>ATTRIBUTES</th><th>ADDRESSES</th><th>IDENTIFIERS</th><th>LINKS</th><th>RELATIONSHIPS</th><th>replaces_statements</th><th>REGISTRATION_DATE</th><th>dissolutionDate</th><th>REGISTRATION_COUNTRY</th><th>DATE_OF_BIRTH</th></tr><tr><td>str</td><td>str</td><td>str</td><td>str</td><td>list[struct[2]]</td><td>str</td><td>str</td><td>list[struct[1]]</td><td>list[struct[3]]</td><td>list[struct[3]]</td><td>list[struct[3]]</td><td>list[struct[7]]</td><td>list[struct[1]]</td><td>str</td><td>str</td><td>str</td><td>str</td></tr></thead><tbody><tr><td>&quot;OPEN-OWNERSHIP&quot;</td><td>&quot;10094521532396971848&quot;</td><td>&quot;2023-06-18&quot;</td><td>&quot;ORGANIZATION&quot;</td><td>[{&quot;GOLD WYNN UK HOLDINGS LIMITED&quot;,null}]</td><td>null</td><td>null</td><td>null</td><td>[{&quot;BUSINESS&quot;,&quot;C/O Fladgate Llp, 16 Great Queen Street, London, WC2B 5DG&quot;,&quot;GB&quot;}]</td><td>[{&quot;12524623&quot;,&quot;GB-COH&quot;,&quot;GBR&quot;}]</td><td>[{null,&quot;https://opencorporates.com/companies/gb/12524623&quot;,null}, {&quot;https://register.openownership.org/entities/18432059995972240708&quot;,null,null}]</td><td>[{null,null,null,null,&quot;OOR&quot;,&quot;10094521532396971848&quot;,null}, {&quot;OOR&quot;,&quot;7584591804488095167&quot;,&quot;shareholding 75% 100%&quot;,&quot;2020-03-18&quot;,null,null,&quot;2020-04-29&quot;}, … {&quot;OOR&quot;,&quot;7584591804488095167&quot;,&quot;appointment_of_board&quot;,&quot;2020-03-18&quot;,null,null,&quot;2020-04-29&quot;}]</td><td>null</td><td>&quot;2020-03-18&quot;</td><td>null</td><td>&quot;GB&quot;</td><td>null</td></tr><tr><td>&quot;OPEN-OWNERSHIP&quot;</td><td>&quot;10165632722354515453&quot;</td><td>&quot;2023-06-18&quot;</td><td>&quot;ORGANIZATION&quot;</td><td>[{&quot;UPSIDE TECHNOLOGY LIMITED&quot;,null}]</td><td>null</td><td>null</td><td>null</td><td>[{&quot;BUSINESS&quot;,&quot;Apt 52, 3 Whitehall Court, London, SW1A 2EL&quot;,&quot;GB&quot;}]</td><td>[{&quot;12165794&quot;,&quot;GB-COH&quot;,&quot;GBR&quot;}]</td><td>[{null,&quot;https://opencorporates.com/companies/gb/12165794&quot;,null}, {&quot;https://register.openownership.org/entities/15659422647652524790&quot;,null,null}]</td><td>[{null,null,null,null,&quot;OOR&quot;,&quot;10165632722354515453&quot;,null}, {&quot;OOR&quot;,&quot;598161773989218568&quot;,&quot;shareholding 75% 100%&quot;,&quot;2019-08-20&quot;,null,null,null}, … {&quot;OOR&quot;,&quot;598161773989218568&quot;,&quot;appointment_of_board&quot;,&quot;2019-08-20&quot;,null,null,null}]</td><td>null</td><td>&quot;2019-08-20&quot;</td><td>&quot;2022-10-11&quot;</td><td>&quot;GB&quot;</td><td>null</td></tr><tr><td>&quot;OPEN-OWNERSHIP&quot;</td><td>&quot;10165632722354515453&quot;</td><td>&quot;2023-06-18&quot;</td><td>&quot;ORGANIZATION&quot;</td><td>[{&quot;UPSIDE TECHNOLOGY LIMITED&quot;,null}]</td><td>null</td><td>null</td><td>null</td><td>[{&quot;BUSINESS&quot;,&quot;Apt 52, 3 Whitehall Court, London, SW1A 2EL&quot;,&quot;GB&quot;}]</td><td>[{&quot;12165794&quot;,&quot;GB-COH&quot;,&quot;GBR&quot;}]</td><td>[{null,&quot;https://opencorporates.com/companies/gb/12165794&quot;,null}, {&quot;https://register.openownership.org/entities/15659422647652524790&quot;,null,null}]</td><td>[{null,null,null,null,&quot;OOR&quot;,&quot;10165632722354515453&quot;,null}, {&quot;OOR&quot;,&quot;598161773989218568&quot;,&quot;shareholding 75% 100%&quot;,&quot;2019-08-20&quot;,null,null,null}, … {&quot;OOR&quot;,&quot;598161773989218568&quot;,&quot;appointment_of_board&quot;,&quot;2019-08-20&quot;,null,null,null}]</td><td>null</td><td>&quot;2019-08-20&quot;</td><td>&quot;2022-10-11&quot;</td><td>&quot;GB&quot;</td><td>null</td></tr></tbody></table></div>"
      ],
      "text/plain": [
       "shape: (3, 17)\n",
       "┌───────────┬───────────┬───────────┬───────────┬───┬───────────┬───────────┬───────────┬──────────┐\n",
       "│ DATA_SOUR ┆ RECORD_ID ┆ statement ┆ RECORD_TY ┆ … ┆ REGISTRAT ┆ dissoluti ┆ REGISTRAT ┆ DATE_OF_ │\n",
       "│ CE        ┆ ---       ┆ Date      ┆ PE        ┆   ┆ ION_DATE  ┆ onDate    ┆ ION_COUNT ┆ BIRTH    │\n",
       "│ ---       ┆ str       ┆ ---       ┆ ---       ┆   ┆ ---       ┆ ---       ┆ RY        ┆ ---      │\n",
       "│ str       ┆           ┆ str       ┆ str       ┆   ┆ str       ┆ str       ┆ ---       ┆ str      │\n",
       "│           ┆           ┆           ┆           ┆   ┆           ┆           ┆ str       ┆          │\n",
       "╞═══════════╪═══════════╪═══════════╪═══════════╪═══╪═══════════╪═══════════╪═══════════╪══════════╡\n",
       "│ OPEN-OWNE ┆ 100945215 ┆ 2023-06-1 ┆ ORGANIZAT ┆ … ┆ 2020-03-1 ┆ null      ┆ GB        ┆ null     │\n",
       "│ RSHIP     ┆ 323969718 ┆ 8         ┆ ION       ┆   ┆ 8         ┆           ┆           ┆          │\n",
       "│           ┆ 48        ┆           ┆           ┆   ┆           ┆           ┆           ┆          │\n",
       "│ OPEN-OWNE ┆ 101656327 ┆ 2023-06-1 ┆ ORGANIZAT ┆ … ┆ 2019-08-2 ┆ 2022-10-1 ┆ GB        ┆ null     │\n",
       "│ RSHIP     ┆ 223545154 ┆ 8         ┆ ION       ┆   ┆ 0         ┆ 1         ┆           ┆          │\n",
       "│           ┆ 53        ┆           ┆           ┆   ┆           ┆           ┆           ┆          │\n",
       "│ OPEN-OWNE ┆ 101656327 ┆ 2023-06-1 ┆ ORGANIZAT ┆ … ┆ 2019-08-2 ┆ 2022-10-1 ┆ GB        ┆ null     │\n",
       "│ RSHIP     ┆ 223545154 ┆ 8         ┆ ION       ┆   ┆ 0         ┆ 1         ┆           ┆          │\n",
       "│           ┆ 53        ┆           ┆           ┆   ┆           ┆           ┆           ┆          │\n",
       "└───────────┴───────────┴───────────┴───────────┴───┴───────────┴───────────┴───────────┴──────────┘"
      ]
     },
     "execution_count": 8,
     "metadata": {},
     "output_type": "execute_result"
    }
   ],
   "source": [
    "df2 = pl.read_ndjson(data_path / \"open-ownership.json\")\n",
    "df2.head(3)"
   ]
  },
  {
   "cell_type": "markdown",
   "metadata": {},
   "source": [
    "Just like with the OpenSanctions data, we can use the `extract_open_ownership` function to process the nested JSON data and return the relevant columns that we need for our graph."
   ]
  },
  {
   "cell_type": "code",
   "execution_count": 9,
   "metadata": {
    "execution": {
     "iopub.execute_input": "2025-07-29T02:49:54.130058Z",
     "iopub.status.busy": "2025-07-29T02:49:54.129938Z",
     "iopub.status.idle": "2025-07-29T02:49:54.135552Z",
     "shell.execute_reply": "2025-07-29T02:49:54.135145Z",
     "shell.execute_reply.started": "2025-07-29T02:49:54.130050Z"
    }
   },
   "outputs": [
    {
     "data": {
      "text/html": [
       "<div><style>\n",
       ".dataframe > thead > tr,\n",
       ".dataframe > tbody > tr {\n",
       "  text-align: right;\n",
       "  white-space: pre-wrap;\n",
       "}\n",
       "</style>\n",
       "<small>shape: (3, 5)</small><table border=\"1\" class=\"dataframe\"><thead><tr><th>id</th><th>kind</th><th>name</th><th>address</th><th>country</th></tr><tr><td>str</td><td>str</td><td>str</td><td>str</td><td>str</td></tr></thead><tbody><tr><td>&quot;10094521532396971848&quot;</td><td>&quot;ORGANIZATION&quot;</td><td>&quot;GOLD WYNN UK HOLDINGS LIMITED&quot;</td><td>&quot;C/O Fladgate Llp, 16 Great Que…</td><td>&quot;GB&quot;</td></tr><tr><td>&quot;10165632722354515453&quot;</td><td>&quot;ORGANIZATION&quot;</td><td>&quot;UPSIDE TECHNOLOGY LIMITED&quot;</td><td>&quot;Apt 52, 3 Whitehall Court, Lon…</td><td>&quot;GB&quot;</td></tr><tr><td>&quot;10264459789712927869&quot;</td><td>&quot;PERSON&quot;</td><td>&quot;Kenneth Kurt Hansen&quot;</td><td>&quot;Finderupvej 61, Kastrup, 2770&quot;</td><td>&quot;DK&quot;</td></tr></tbody></table></div>"
      ],
      "text/plain": [
       "shape: (3, 5)\n",
       "┌──────────────────────┬──────────────┬─────────────────────────┬────────────────────────┬─────────┐\n",
       "│ id                   ┆ kind         ┆ name                    ┆ address                ┆ country │\n",
       "│ ---                  ┆ ---          ┆ ---                     ┆ ---                    ┆ ---     │\n",
       "│ str                  ┆ str          ┆ str                     ┆ str                    ┆ str     │\n",
       "╞══════════════════════╪══════════════╪═════════════════════════╪════════════════════════╪═════════╡\n",
       "│ 10094521532396971848 ┆ ORGANIZATION ┆ GOLD WYNN UK HOLDINGS   ┆ C/O Fladgate Llp, 16   ┆ GB      │\n",
       "│                      ┆              ┆ LIMITED                 ┆ Great Que…             ┆         │\n",
       "│ 10165632722354515453 ┆ ORGANIZATION ┆ UPSIDE TECHNOLOGY       ┆ Apt 52, 3 Whitehall    ┆ GB      │\n",
       "│                      ┆              ┆ LIMITED                 ┆ Court, Lon…            ┆         │\n",
       "│ 10264459789712927869 ┆ PERSON       ┆ Kenneth Kurt Hansen     ┆ Finderupvej 61,        ┆ DK      │\n",
       "│                      ┆              ┆                         ┆ Kastrup, 2770          ┆         │\n",
       "└──────────────────────┴──────────────┴─────────────────────────┴────────────────────────┴─────────┘"
      ]
     },
     "execution_count": 9,
     "metadata": {},
     "output_type": "execute_result"
    }
   ],
   "source": [
    "df_oo = oo.extract_open_ownership(df2)\n",
    "df_oo.head(3)"
   ]
  },
  {
   "cell_type": "markdown",
   "metadata": {},
   "source": [
    "For the relationships in our graph, we'll need to select only the relationships that have **both** `src_id` and `dst_id` in the list of ids. This is done via the `extract_open_ownership_relationships` function."
   ]
  },
  {
   "cell_type": "code",
   "execution_count": 10,
   "metadata": {
    "execution": {
     "iopub.execute_input": "2025-07-29T02:49:54.136065Z",
     "iopub.status.busy": "2025-07-29T02:49:54.135903Z",
     "iopub.status.idle": "2025-07-29T02:49:54.140760Z",
     "shell.execute_reply": "2025-07-29T02:49:54.140512Z",
     "shell.execute_reply.started": "2025-07-29T02:49:54.136058Z"
    }
   },
   "outputs": [
    {
     "data": {
      "text/html": [
       "<div><style>\n",
       ".dataframe > thead > tr,\n",
       ".dataframe > tbody > tr {\n",
       "  text-align: right;\n",
       "  white-space: pre-wrap;\n",
       "}\n",
       "</style>\n",
       "<small>shape: (3, 4)</small><table border=\"1\" class=\"dataframe\"><thead><tr><th>src_id</th><th>dst_id</th><th>role</th><th>date</th></tr><tr><td>str</td><td>str</td><td>str</td><td>str</td></tr></thead><tbody><tr><td>&quot;10094521532396971848&quot;</td><td>&quot;7584591804488095167&quot;</td><td>&quot;shareholding 75% 100%&quot;</td><td>&quot;2020-03-18&quot;</td></tr><tr><td>&quot;10094521532396971848&quot;</td><td>&quot;7584591804488095167&quot;</td><td>&quot;appointment_of_board&quot;</td><td>&quot;2020-03-18&quot;</td></tr><tr><td>&quot;10094521532396971848&quot;</td><td>&quot;7584591804488095167&quot;</td><td>&quot;voting_rights 75% 100%&quot;</td><td>&quot;2020-03-18&quot;</td></tr></tbody></table></div>"
      ],
      "text/plain": [
       "shape: (3, 4)\n",
       "┌──────────────────────┬─────────────────────┬────────────────────────┬────────────┐\n",
       "│ src_id               ┆ dst_id              ┆ role                   ┆ date       │\n",
       "│ ---                  ┆ ---                 ┆ ---                    ┆ ---        │\n",
       "│ str                  ┆ str                 ┆ str                    ┆ str        │\n",
       "╞══════════════════════╪═════════════════════╪════════════════════════╪════════════╡\n",
       "│ 10094521532396971848 ┆ 7584591804488095167 ┆ shareholding 75% 100%  ┆ 2020-03-18 │\n",
       "│ 10094521532396971848 ┆ 7584591804488095167 ┆ appointment_of_board   ┆ 2020-03-18 │\n",
       "│ 10094521532396971848 ┆ 7584591804488095167 ┆ voting_rights 75% 100% ┆ 2020-03-18 │\n",
       "└──────────────────────┴─────────────────────┴────────────────────────┴────────────┘"
      ]
     },
     "execution_count": 10,
     "metadata": {},
     "output_type": "execute_result"
    }
   ],
   "source": [
    "ids = df_oo.select(\"id\").to_series().to_list()\n",
    "df_oa_relationships = oo.extract_open_ownership_relationships(df2, open_ownership_ids=ids)\n",
    "df_oa_relationships.head(3)"
   ]
  },
  {
   "cell_type": "markdown",
   "metadata": {},
   "source": [
    "## ✋🏽 🛑 Pause here and run the Senzing workflow\n",
    "\n",
    "To generate high quality entity data, we'll use Senzing to process the OpenSanctions and Open Ownership data via the Senzing Python SDK. The returned data from Senzing contains resolved entities (in `export.json`), which is once again nested JSON that we can use to create our graph.\n",
    "\n",
    "Due to the deeply nested nature of this data, we'll have to process it in a few steps using the `process_senzing_export()` function. Each entity is assigned a unique identifier with the prefix `sz_`, associated with the record ID from the original data, plus its data source."
   ]
  },
  {
   "cell_type": "code",
   "execution_count": 11,
   "metadata": {
    "execution": {
     "iopub.execute_input": "2025-07-29T02:49:54.141207Z",
     "iopub.status.busy": "2025-07-29T02:49:54.141135Z",
     "iopub.status.idle": "2025-07-29T02:49:54.145925Z",
     "shell.execute_reply": "2025-07-29T02:49:54.145707Z",
     "shell.execute_reply.started": "2025-07-29T02:49:54.141199Z"
    }
   },
   "outputs": [],
   "source": [
    "sz_export = sz.process_senzing_export(data_path / \"export.json\")"
   ]
  },
  {
   "cell_type": "markdown",
   "metadata": {},
   "source": [
    "This first dataframe `df_ent` lists the entities identified by Senzing _entity resolution_."
   ]
  },
  {
   "cell_type": "code",
   "execution_count": 12,
   "metadata": {
    "execution": {
     "iopub.execute_input": "2025-07-29T02:49:54.146518Z",
     "iopub.status.busy": "2025-07-29T02:49:54.146338Z",
     "iopub.status.idle": "2025-07-29T02:49:54.148871Z",
     "shell.execute_reply": "2025-07-29T02:49:54.148572Z",
     "shell.execute_reply.started": "2025-07-29T02:49:54.146509Z"
    }
   },
   "outputs": [
    {
     "data": {
      "text/html": [
       "<div><style>\n",
       ".dataframe > thead > tr,\n",
       ".dataframe > tbody > tr {\n",
       "  text-align: right;\n",
       "  white-space: pre-wrap;\n",
       "}\n",
       "</style>\n",
       "<small>shape: (3, 2)</small><table border=\"1\" class=\"dataframe\"><thead><tr><th>id</th><th>descrip</th></tr><tr><td>str</td><td>str</td></tr></thead><tbody><tr><td>&quot;sz_1&quot;</td><td>&quot;Abassin Badshah&quot;</td></tr><tr><td>&quot;sz_10&quot;</td><td>&quot;Nicholas Thomas Wright&quot;</td></tr><tr><td>&quot;sz_100001&quot;</td><td>&quot;Gold Wynn Uk Holdings Limited&quot;</td></tr></tbody></table></div>"
      ],
      "text/plain": [
       "shape: (3, 2)\n",
       "┌───────────┬───────────────────────────────┐\n",
       "│ id        ┆ descrip                       │\n",
       "│ ---       ┆ ---                           │\n",
       "│ str       ┆ str                           │\n",
       "╞═══════════╪═══════════════════════════════╡\n",
       "│ sz_1      ┆ Abassin Badshah               │\n",
       "│ sz_10     ┆ Nicholas Thomas Wright        │\n",
       "│ sz_100001 ┆ Gold Wynn Uk Holdings Limited │\n",
       "└───────────┴───────────────────────────────┘"
      ]
     },
     "execution_count": 12,
     "metadata": {},
     "output_type": "execute_result"
    }
   ],
   "source": [
    "df_ent = sz_export.df_ent.sort(\"id\")\n",
    "df_ent.head(3)"
   ]
  },
  {
   "cell_type": "markdown",
   "metadata": {},
   "source": [
    "The `df_rel` dataframe lists probabilistic relationships between entities, also identified by Senzing _entity resolution_. In other words, there isn't sufficient evidence _yet_ to merge these entities; however, there's enough evidence to suggest following these as closely related leads during an investigation."
   ]
  },
  {
   "cell_type": "code",
   "execution_count": 13,
   "metadata": {
    "execution": {
     "iopub.execute_input": "2025-07-29T02:49:54.149280Z",
     "iopub.status.busy": "2025-07-29T02:49:54.149211Z",
     "iopub.status.idle": "2025-07-29T02:49:54.151688Z",
     "shell.execute_reply": "2025-07-29T02:49:54.151378Z",
     "shell.execute_reply.started": "2025-07-29T02:49:54.149273Z"
    }
   },
   "outputs": [
    {
     "data": {
      "text/html": [
       "<div><style>\n",
       ".dataframe > thead > tr,\n",
       ".dataframe > tbody > tr {\n",
       "  text-align: right;\n",
       "  white-space: pre-wrap;\n",
       "}\n",
       "</style>\n",
       "<small>shape: (3, 4)</small><table border=\"1\" class=\"dataframe\"><thead><tr><th>ent_id</th><th>rel_id</th><th>why</th><th>level</th></tr><tr><td>str</td><td>str</td><td>str</td><td>i64</td></tr></thead><tbody><tr><td>&quot;sz_1&quot;</td><td>&quot;sz_2&quot;</td><td>&quot;+ADDRESS+OPEN-SANCTIONS(DIRECT…</td><td>11</td></tr><tr><td>&quot;sz_1&quot;</td><td>&quot;sz_9&quot;</td><td>&quot;+ADDRESS+OPEN-SANCTIONS(DIRECT…</td><td>11</td></tr><tr><td>&quot;sz_1&quot;</td><td>&quot;sz_100075&quot;</td><td>&quot;+ADDRESS+OOR(:APPOINTMENT_OF_B…</td><td>11</td></tr></tbody></table></div>"
      ],
      "text/plain": [
       "shape: (3, 4)\n",
       "┌────────┬───────────┬─────────────────────────────────┬───────┐\n",
       "│ ent_id ┆ rel_id    ┆ why                             ┆ level │\n",
       "│ ---    ┆ ---       ┆ ---                             ┆ ---   │\n",
       "│ str    ┆ str       ┆ str                             ┆ i64   │\n",
       "╞════════╪═══════════╪═════════════════════════════════╪═══════╡\n",
       "│ sz_1   ┆ sz_2      ┆ +ADDRESS+OPEN-SANCTIONS(DIRECT… ┆ 11    │\n",
       "│ sz_1   ┆ sz_9      ┆ +ADDRESS+OPEN-SANCTIONS(DIRECT… ┆ 11    │\n",
       "│ sz_1   ┆ sz_100075 ┆ +ADDRESS+OOR(:APPOINTMENT_OF_B… ┆ 11    │\n",
       "└────────┴───────────┴─────────────────────────────────┴───────┘"
      ]
     },
     "execution_count": 13,
     "metadata": {},
     "output_type": "execute_result"
    }
   ],
   "source": [
    "df_rel = sz_export.df_rel\n",
    "df_rel.head(3)"
   ]
  },
  {
   "cell_type": "markdown",
   "metadata": {},
   "source": [
    "### Separate the Senzing entities by source"
   ]
  },
  {
   "cell_type": "markdown",
   "metadata": {},
   "source": [
    "The final step to preprocess the data for our graph is to separate the entities by their source (whether they come from OpenSanctions or Open Ownership)."
   ]
  },
  {
   "cell_type": "code",
   "execution_count": 14,
   "metadata": {
    "execution": {
     "iopub.execute_input": "2025-07-29T02:49:54.152245Z",
     "iopub.status.busy": "2025-07-29T02:49:54.152147Z",
     "iopub.status.idle": "2025-07-29T02:49:54.154727Z",
     "shell.execute_reply": "2025-07-29T02:49:54.154468Z",
     "shell.execute_reply.started": "2025-07-29T02:49:54.152238Z"
    }
   },
   "outputs": [
    {
     "data": {
      "text/html": [
       "<div><style>\n",
       ".dataframe > thead > tr,\n",
       ".dataframe > tbody > tr {\n",
       "  text-align: right;\n",
       "  white-space: pre-wrap;\n",
       "}\n",
       "</style>\n",
       "<small>shape: (3, 4)</small><table border=\"1\" class=\"dataframe\"><thead><tr><th>ent_id</th><th>rec_id</th><th>why</th><th>level</th></tr><tr><td>str</td><td>str</td><td>str</td><td>i64</td></tr></thead><tbody><tr><td>&quot;sz_1&quot;</td><td>&quot;17207853441353212969&quot;</td><td>&quot;+NAME+ADDRESS+NATIONALITY&quot;</td><td>1</td></tr><tr><td>&quot;sz_1&quot;</td><td>&quot;6747548100436839873&quot;</td><td>&quot;+NAME+DOB+NATIONALITY&quot;</td><td>1</td></tr><tr><td>&quot;sz_10&quot;</td><td>&quot;5927522753545014068&quot;</td><td>&quot;+NAME+DOB+NATIONALITY&quot;</td><td>1</td></tr></tbody></table></div>"
      ],
      "text/plain": [
       "shape: (3, 4)\n",
       "┌────────┬──────────────────────┬───────────────────────────┬───────┐\n",
       "│ ent_id ┆ rec_id               ┆ why                       ┆ level │\n",
       "│ ---    ┆ ---                  ┆ ---                       ┆ ---   │\n",
       "│ str    ┆ str                  ┆ str                       ┆ i64   │\n",
       "╞════════╪══════════════════════╪═══════════════════════════╪═══════╡\n",
       "│ sz_1   ┆ 17207853441353212969 ┆ +NAME+ADDRESS+NATIONALITY ┆ 1     │\n",
       "│ sz_1   ┆ 6747548100436839873  ┆ +NAME+DOB+NATIONALITY     ┆ 1     │\n",
       "│ sz_10  ┆ 5927522753545014068  ┆ +NAME+DOB+NATIONALITY     ┆ 1     │\n",
       "└────────┴──────────────────────┴───────────────────────────┴───────┘"
      ]
     },
     "execution_count": 14,
     "metadata": {},
     "output_type": "execute_result"
    }
   ],
   "source": [
    "df_sz_oo = sz_export.df_rec.filter(pl.col(\"source\") == \"OPEN-OWNERSHIP\").select(\"ent_id\", \"rec_id\", \"why\", \"level\")\n",
    "df_sz_oo.head(3)"
   ]
  },
  {
   "cell_type": "code",
   "execution_count": 15,
   "metadata": {
    "execution": {
     "iopub.execute_input": "2025-07-29T02:49:54.155204Z",
     "iopub.status.busy": "2025-07-29T02:49:54.155127Z",
     "iopub.status.idle": "2025-07-29T02:49:54.157949Z",
     "shell.execute_reply": "2025-07-29T02:49:54.157672Z",
     "shell.execute_reply.started": "2025-07-29T02:49:54.155197Z"
    }
   },
   "outputs": [
    {
     "data": {
      "text/html": [
       "<div><style>\n",
       ".dataframe > thead > tr,\n",
       ".dataframe > tbody > tr {\n",
       "  text-align: right;\n",
       "  white-space: pre-wrap;\n",
       "}\n",
       "</style>\n",
       "<small>shape: (3, 4)</small><table border=\"1\" class=\"dataframe\"><thead><tr><th>ent_id</th><th>rec_id</th><th>why</th><th>level</th></tr><tr><td>str</td><td>str</td><td>str</td><td>i64</td></tr></thead><tbody><tr><td>&quot;sz_1&quot;</td><td>&quot;NK-25vyVFzt8vdJGgAXMRTwTJ&quot;</td><td>&quot;&quot;</td><td>0</td></tr><tr><td>&quot;sz_2&quot;</td><td>&quot;NK-3p3mmVWmjwVtTfKchz4kNE&quot;</td><td>&quot;&quot;</td><td>0</td></tr><tr><td>&quot;sz_3&quot;</td><td>&quot;NK-auyPsLrBzRoxjCRWgjBvas&quot;</td><td>&quot;&quot;</td><td>0</td></tr></tbody></table></div>"
      ],
      "text/plain": [
       "shape: (3, 4)\n",
       "┌────────┬───────────────────────────┬─────┬───────┐\n",
       "│ ent_id ┆ rec_id                    ┆ why ┆ level │\n",
       "│ ---    ┆ ---                       ┆ --- ┆ ---   │\n",
       "│ str    ┆ str                       ┆ str ┆ i64   │\n",
       "╞════════╪═══════════════════════════╪═════╪═══════╡\n",
       "│ sz_1   ┆ NK-25vyVFzt8vdJGgAXMRTwTJ ┆     ┆ 0     │\n",
       "│ sz_2   ┆ NK-3p3mmVWmjwVtTfKchz4kNE ┆     ┆ 0     │\n",
       "│ sz_3   ┆ NK-auyPsLrBzRoxjCRWgjBvas ┆     ┆ 0     │\n",
       "└────────┴───────────────────────────┴─────┴───────┘"
      ]
     },
     "execution_count": 15,
     "metadata": {},
     "output_type": "execute_result"
    }
   ],
   "source": [
    "df_sz_os = sz_export.df_rec.filter(pl.col(\"source\") == \"OPEN-SANCTIONS\").select(\"ent_id\", \"rec_id\", \"why\", \"level\")\n",
    "df_sz_os.head(3)"
   ]
  },
  {
   "cell_type": "markdown",
   "metadata": {},
   "source": [
    "## Copy data to Kuzu graph"
   ]
  },
  {
   "cell_type": "markdown",
   "metadata": {},
   "source": [
    "Kuzu is an embedded, open source graph database that supports the Cypher query language. It uses a structured property graph model, which is similar to the labelled property graph model you may be familiar with from other systems -- the only difference being that Kuzu requires strict data types for properties in the schema.\n",
    "\n",
    "The following steps will create the graph schema in Kuzu (node and relationship tables) and copy the data into them."
   ]
  },
  {
   "cell_type": "code",
   "execution_count": 16,
   "metadata": {
    "execution": {
     "iopub.execute_input": "2025-07-29T02:49:54.158411Z",
     "iopub.status.busy": "2025-07-29T02:49:54.158329Z",
     "iopub.status.idle": "2025-07-29T02:49:54.166609Z",
     "shell.execute_reply": "2025-07-29T02:49:54.166343Z",
     "shell.execute_reply.started": "2025-07-29T02:49:54.158405Z"
    }
   },
   "outputs": [
    {
     "data": {
      "text/plain": [
       "<kuzu.query_result.QueryResult at 0x111b149d0>"
      ]
     },
     "execution_count": 16,
     "metadata": {},
     "output_type": "execute_result"
    }
   ],
   "source": [
    "conn.execute(\"CREATE NODE TABLE IF NOT EXISTS OpenSanctions (id STRING PRIMARY KEY, kind STRING, name STRING, addr STRING, url STRING)\")\n",
    "conn.execute(\"CREATE NODE TABLE IF NOT EXISTS OpenOwnership (id STRING PRIMARY KEY, kind STRING, name STRING, addr STRING, country STRING)\")\n",
    "conn.execute(\"CREATE NODE TABLE IF NOT EXISTS Risk (topic STRING PRIMARY KEY)\")\n",
    "conn.execute(\"CREATE NODE TABLE IF NOT EXISTS Entity (id STRING PRIMARY KEY, descrip STRING)\")\n",
    "conn.execute(\"CREATE REL TABLE IF NOT EXISTS Role (FROM OpenOwnership TO OpenOwnership, role STRING, date DATE)\")"
   ]
  },
  {
   "cell_type": "code",
   "execution_count": 17,
   "metadata": {
    "execution": {
     "iopub.execute_input": "2025-07-29T02:49:54.167138Z",
     "iopub.status.busy": "2025-07-29T02:49:54.167032Z",
     "iopub.status.idle": "2025-07-29T02:49:54.275383Z",
     "shell.execute_reply": "2025-07-29T02:49:54.275019Z",
     "shell.execute_reply.started": "2025-07-29T02:49:54.167130Z"
    }
   },
   "outputs": [
    {
     "data": {
      "text/plain": [
       "<kuzu.query_result.QueryResult at 0x111abbb50>"
      ]
     },
     "execution_count": 17,
     "metadata": {},
     "output_type": "execute_result"
    }
   ],
   "source": [
    "conn.execute(\"COPY OpenSanctions FROM df_os\")\n",
    "conn.execute(\"COPY OpenOwnership FROM df_oo\")\n",
    "conn.execute(\"COPY Risk FROM (LOAD FROM df_risk RETURN DISTINCT topic)\")\n",
    "conn.execute(\"COPY Entity FROM (LOAD FROM df_ent RETURN id, descrip)\")\n",
    "conn.execute(\"COPY Role FROM df_oa_relationships\")"
   ]
  },
  {
   "cell_type": "code",
   "execution_count": 18,
   "metadata": {
    "execution": {
     "iopub.execute_input": "2025-07-29T02:49:54.275889Z",
     "iopub.status.busy": "2025-07-29T02:49:54.275761Z",
     "iopub.status.idle": "2025-07-29T02:49:54.278164Z",
     "shell.execute_reply": "2025-07-29T02:49:54.277878Z",
     "shell.execute_reply.started": "2025-07-29T02:49:54.275879Z"
    }
   },
   "outputs": [],
   "source": [
    "# Create a yFiles graph widget so we can explore our graph as it's created\n",
    "g = KuzuGraphWidget(conn)\n",
    "\n",
    "# Add custom node configurations for clarity in visualization\n",
    "g.add_node_configuration(\"Entity\", color=\"red\", text= lambda node: {\"text\": node[\"properties\"][\"descrip\"]})  # type: ignore\n",
    "g.add_node_configuration(\"OpenSanctions\", color=\"yellow\", text= lambda node: {\"text\": node[\"properties\"][\"name\"]})  # type: ignore\n",
    "g.add_node_configuration(\"OpenOwnership\", color=\"green\", text= lambda node: {\"text\": node[\"properties\"][\"name\"]})  # type: ignore\n",
    "g.add_node_configuration(\"Risk\", color=\"blue\", text= lambda node: {\"text\": node[\"properties\"][\"topic\"]})  # type: ignore"
   ]
  },
  {
   "cell_type": "code",
   "execution_count": 19,
   "metadata": {
    "execution": {
     "iopub.execute_input": "2025-07-29T02:49:54.278507Z",
     "iopub.status.busy": "2025-07-29T02:49:54.278432Z",
     "iopub.status.idle": "2025-07-29T02:49:54.304086Z",
     "shell.execute_reply": "2025-07-29T02:49:54.303850Z",
     "shell.execute_reply.started": "2025-07-29T02:49:54.278501Z"
    }
   },
   "outputs": [
    {
     "data": {
      "application/vnd.jupyter.widget-view+json": {
       "model_id": "6192f44fcae5464b92bf2fecf84f13e2",
       "version_major": 2,
       "version_minor": 0
      },
      "text/plain": [
       "GraphWidget(layout=Layout(height='800px', width='100%'))"
      ]
     },
     "metadata": {},
     "output_type": "display_data"
    }
   ],
   "source": [
    "g.show_cypher(\"MATCH (a:OpenSanctions:OpenOwnership)-[b]->(c:OpenSanctions:OpenOwnership) RETURN * LIMIT 50\")"
   ]
  },
  {
   "cell_type": "code",
   "execution_count": 20,
   "metadata": {
    "execution": {
     "iopub.execute_input": "2025-07-29T02:49:54.304483Z",
     "iopub.status.busy": "2025-07-29T02:49:54.304414Z",
     "iopub.status.idle": "2025-07-29T02:49:54.320352Z",
     "shell.execute_reply": "2025-07-29T02:49:54.320021Z",
     "shell.execute_reply.started": "2025-07-29T02:49:54.304474Z"
    }
   },
   "outputs": [],
   "source": [
    "# Create Related table between entities\n",
    "conn.execute(\"CREATE REL TABLE IF NOT EXISTS Related (FROM Entity TO Entity, why STRING, level INT8)\");\n",
    "conn.execute(\"COPY Related FROM df_rel\");"
   ]
  },
  {
   "cell_type": "code",
   "execution_count": 21,
   "metadata": {
    "execution": {
     "iopub.execute_input": "2025-07-29T02:49:54.320742Z",
     "iopub.status.busy": "2025-07-29T02:49:54.320662Z",
     "iopub.status.idle": "2025-07-29T02:49:54.335242Z",
     "shell.execute_reply": "2025-07-29T02:49:54.334979Z",
     "shell.execute_reply.started": "2025-07-29T02:49:54.320730Z"
    }
   },
   "outputs": [
    {
     "data": {
      "application/vnd.jupyter.widget-view+json": {
       "model_id": "c846f80c51784c2bba5a6d88f24ae0fa",
       "version_major": 2,
       "version_minor": 0
      },
      "text/plain": [
       "GraphWidget(layout=Layout(height='500px', width='100%'))"
      ]
     },
     "metadata": {},
     "output_type": "display_data"
    }
   ],
   "source": [
    "g.show_cypher(\n",
    "    \"\"\"\n",
    "    MATCH (a:Entity)-[b *1..3]->(c)\n",
    "    WHERE a.descrip CONTAINS \"Abassin\"\n",
    "    RETURN * LIMIT 50\n",
    "    \"\"\"\n",
    ")"
   ]
  },
  {
   "cell_type": "markdown",
   "metadata": {},
   "source": [
    "We'll need to create `Matched` relationships between the entities in our graph. The from/to columns in the following table are the source and destination Senzing identifiers."
   ]
  },
  {
   "cell_type": "code",
   "execution_count": 22,
   "metadata": {
    "execution": {
     "iopub.execute_input": "2025-07-29T02:49:54.335628Z",
     "iopub.status.busy": "2025-07-29T02:49:54.335558Z",
     "iopub.status.idle": "2025-07-29T02:49:54.377050Z",
     "shell.execute_reply": "2025-07-29T02:49:54.376676Z",
     "shell.execute_reply.started": "2025-07-29T02:49:54.335621Z"
    }
   },
   "outputs": [],
   "source": [
    "# Create Matched table between multiple sets of entities\n",
    "conn.execute(\n",
    "    \"\"\"\n",
    "    CREATE REL TABLE IF NOT EXISTS Matched (\n",
    "        FROM Entity TO OpenSanctions,\n",
    "        FROM Entity TO OpenOwnership,\n",
    "        why STRING,\n",
    "        level INT8\n",
    "    )\n",
    "\"\"\"\n",
    ")\n",
    "conn.execute(\"COPY Matched FROM df_sz_os (from='Entity', to='OpenSanctions')\");\n",
    "conn.execute(\"COPY Matched FROM df_sz_oo (from='Entity', to='OpenOwnership')\");"
   ]
  },
  {
   "cell_type": "code",
   "execution_count": 23,
   "metadata": {
    "execution": {
     "iopub.execute_input": "2025-07-29T02:49:54.377577Z",
     "iopub.status.busy": "2025-07-29T02:49:54.377502Z",
     "iopub.status.idle": "2025-07-29T02:49:54.393692Z",
     "shell.execute_reply": "2025-07-29T02:49:54.393437Z",
     "shell.execute_reply.started": "2025-07-29T02:49:54.377570Z"
    }
   },
   "outputs": [
    {
     "data": {
      "text/plain": [
       "<kuzu.query_result.QueryResult at 0x107b4cf50>"
      ]
     },
     "execution_count": 23,
     "metadata": {},
     "output_type": "execute_result"
    }
   ],
   "source": [
    "# Add Risks to OpenSanctions\n",
    "conn.execute(\"CREATE REL TABLE IF NOT EXISTS HasRisk (FROM OpenSanctions TO Risk)\")\n",
    "conn.execute(\"COPY HasRisk FROM df_risk\")"
   ]
  },
  {
   "cell_type": "code",
   "execution_count": 24,
   "metadata": {
    "execution": {
     "iopub.execute_input": "2025-07-29T02:49:54.394291Z",
     "iopub.status.busy": "2025-07-29T02:49:54.394078Z",
     "iopub.status.idle": "2025-07-29T02:49:54.413186Z",
     "shell.execute_reply": "2025-07-29T02:49:54.412911Z",
     "shell.execute_reply.started": "2025-07-29T02:49:54.394282Z"
    }
   },
   "outputs": [
    {
     "data": {
      "application/vnd.jupyter.widget-view+json": {
       "model_id": "672617498ad54f60a87baf38662f01cd",
       "version_major": 2,
       "version_minor": 0
      },
      "text/plain": [
       "GraphWidget(layout=Layout(height='650px', width='100%'))"
      ]
     },
     "metadata": {},
     "output_type": "display_data"
    }
   ],
   "source": [
    "g.show_cypher(\n",
    "    \"\"\"\n",
    "    MATCH (a:Entity)-[b *1..3]->(c)\n",
    "    WHERE a.descrip CONTAINS \"Abassin\"\n",
    "    RETURN * LIMIT 100;\n",
    "    \"\"\",\n",
    "    layout=\"radial\"\n",
    ")"
   ]
  },
  {
   "cell_type": "markdown",
   "metadata": {},
   "source": [
    "We've successfully combined the data from OpenSanctions, Open Ownership, and resolved entities from Senzing to create a graph that's persisted in Kuzu!\n",
    "This graph is of high enough quality that it can be used for a variety of investigative tasks downstream. Happy querying!"
   ]
  },
  {
   "cell_type": "markdown",
   "metadata": {},
   "source": [
    "## Network analysis\n",
    "\n",
    "Let's demonstrate a common design pattern that we see for investigative graphs -- we can use centrality measures to identify the most connected elements of a subgraph, as a most likely controlling party or ultimate beneficial owner (UBO). Betweenness centrality is a good algorithm for this, as it shows important bridge nodes in the graph, allowing a deeper investigation in the vicinity of these bridge nodes.\n",
    "\n",
    "Kuzu makes it simple to use graph algorithms via the NetworkX Python package.\n",
    "\n",
    "First, let's convert the subgraph of entities, open ownership, and open sanctions nodes and relationships to a NetworkX graph.\n"
   ]
  },
  {
   "cell_type": "code",
   "execution_count": 25,
   "metadata": {
    "execution": {
     "iopub.execute_input": "2025-07-29T02:49:54.413599Z",
     "iopub.status.busy": "2025-07-29T02:49:54.413537Z",
     "iopub.status.idle": "2025-07-29T02:49:54.493574Z",
     "shell.execute_reply": "2025-07-29T02:49:54.493193Z",
     "shell.execute_reply.started": "2025-07-29T02:49:54.413593Z"
    }
   },
   "outputs": [],
   "source": [
    "subg = conn.execute(\n",
    "    \"\"\"\n",
    "    MATCH (a:Entity:OpenOwnership:OpenSanctions)-[b]->(c:Entity:OpenOwnership:OpenSanctions) RETURN *\n",
    "    \"\"\"\n",
    ")\n",
    "subg_networkx = subg.get_as_networkx(directed=True)  # type: ignore"
   ]
  },
  {
   "cell_type": "markdown",
   "metadata": {},
   "source": [
    "### Add a new column\n",
    "\n",
    "Kuzu is a strictly typed system, so if we want to update our nodes with a new property `betweenness_centrality`, we need to first add a new column to the relevant tables."
   ]
  },
  {
   "cell_type": "code",
   "execution_count": 26,
   "metadata": {
    "execution": {
     "iopub.execute_input": "2025-07-29T02:49:54.494191Z",
     "iopub.status.busy": "2025-07-29T02:49:54.494055Z",
     "iopub.status.idle": "2025-07-29T02:49:54.498172Z",
     "shell.execute_reply": "2025-07-29T02:49:54.497779Z",
     "shell.execute_reply.started": "2025-07-29T02:49:54.494182Z"
    }
   },
   "outputs": [
    {
     "data": {
      "text/plain": [
       "<kuzu.query_result.QueryResult at 0x132ccbbf0>"
      ]
     },
     "execution_count": 26,
     "metadata": {},
     "output_type": "execute_result"
    }
   ],
   "source": [
    "conn.execute(\"ALTER TABLE Entity ADD betweenness_centrality FLOAT\")\n",
    "conn.execute(\"ALTER TABLE OpenOwnership ADD betweenness_centrality FLOAT\")\n",
    "conn.execute(\"ALTER TABLE OpenSanctions ADD betweenness_centrality FLOAT\")"
   ]
  },
  {
   "cell_type": "markdown",
   "metadata": {},
   "source": [
    "### Run the betweenness centrality algorithm\n",
    "\n",
    "We can run the betweenness centrality algorithm in NetworkX."
   ]
  },
  {
   "cell_type": "code",
   "execution_count": 27,
   "metadata": {
    "execution": {
     "iopub.execute_input": "2025-07-29T02:49:54.501684Z",
     "iopub.status.busy": "2025-07-29T02:49:54.501562Z",
     "iopub.status.idle": "2025-07-29T02:49:54.527370Z",
     "shell.execute_reply": "2025-07-29T02:49:54.527092Z",
     "shell.execute_reply.started": "2025-07-29T02:49:54.501675Z"
    }
   },
   "outputs": [
    {
     "data": {
      "text/html": [
       "<div><style>\n",
       ".dataframe > thead > tr,\n",
       ".dataframe > tbody > tr {\n",
       "  text-align: right;\n",
       "  white-space: pre-wrap;\n",
       "}\n",
       "</style>\n",
       "<small>shape: (5, 2)</small><table border=\"1\" class=\"dataframe\"><thead><tr><th>id</th><th>betweenness_centrality</th></tr><tr><td>str</td><td>f64</td></tr></thead><tbody><tr><td>&quot;sz_100036&quot;</td><td>0.002753</td></tr><tr><td>&quot;sz_100225&quot;</td><td>0.002251</td></tr><tr><td>&quot;sz_100003&quot;</td><td>0.001314</td></tr><tr><td>&quot;sz_100092&quot;</td><td>0.001273</td></tr><tr><td>&quot;sz_100023&quot;</td><td>0.001176</td></tr></tbody></table></div>"
      ],
      "text/plain": [
       "shape: (5, 2)\n",
       "┌───────────┬────────────────────────┐\n",
       "│ id        ┆ betweenness_centrality │\n",
       "│ ---       ┆ ---                    │\n",
       "│ str       ┆ f64                    │\n",
       "╞═══════════╪════════════════════════╡\n",
       "│ sz_100036 ┆ 0.002753               │\n",
       "│ sz_100225 ┆ 0.002251               │\n",
       "│ sz_100003 ┆ 0.001314               │\n",
       "│ sz_100092 ┆ 0.001273               │\n",
       "│ sz_100023 ┆ 0.001176               │\n",
       "└───────────┴────────────────────────┘"
      ]
     },
     "execution_count": 27,
     "metadata": {},
     "output_type": "execute_result"
    }
   ],
   "source": [
    "import networkx as nx\n",
    "\n",
    "bc = nx.betweenness_centrality(subg_networkx)\n",
    "\n",
    "#  Transform the betweenness centrality results into a Polars dataframe\n",
    "df = pl.DataFrame({\"id\": k, \"betweenness_centrality\": v} for k, v in bc.items())\n",
    "df = (\n",
    "    df.with_columns(\n",
    "        pl.col(\"id\").str.replace(\"Entity_\", \"\")\n",
    "        .str.replace(\"OpenOwnership_\", \"\")\n",
    "        .str.replace(\"OpenSanctions_\", \"\")\n",
    "    )\n",
    ")\n",
    "\n",
    "df.sort(\"betweenness_centrality\", descending=True).head(5)"
   ]
  },
  {
   "cell_type": "markdown",
   "metadata": {},
   "source": [
    "### Update the database with the betweenness centrality results\n",
    "\n",
    "Now that we have the betweenness centrality results, we can update the database with the data in the Polars DataFrame's `betweenness_centrality` column.\n"
   ]
  },
  {
   "cell_type": "code",
   "execution_count": 28,
   "metadata": {
    "execution": {
     "iopub.execute_input": "2025-07-29T02:49:54.527912Z",
     "iopub.status.busy": "2025-07-29T02:49:54.527776Z",
     "iopub.status.idle": "2025-07-29T02:49:54.535745Z",
     "shell.execute_reply": "2025-07-29T02:49:54.535523Z",
     "shell.execute_reply.started": "2025-07-29T02:49:54.527900Z"
    }
   },
   "outputs": [
    {
     "data": {
      "text/plain": [
       "<kuzu.query_result.QueryResult at 0x132ead310>"
      ]
     },
     "execution_count": 28,
     "metadata": {},
     "output_type": "execute_result"
    }
   ],
   "source": [
    "conn.execute(\n",
    "    f\"\"\"\n",
    "    LOAD FROM df\n",
    "    MERGE (s1:Entity {{id: id}})\n",
    "    SET s1.betweenness_centrality = betweenness_centrality\n",
    "    MERGE (s2:OpenSanctions {{id: id}})\n",
    "    SET s2.betweenness_centrality = betweenness_centrality\n",
    "    MERGE (s3:OpenOwnership {{id: id}})\n",
    "    SET s3.betweenness_centrality = betweenness_centrality\n",
    "    \"\"\"\n",
    ")"
   ]
  },
  {
   "cell_type": "markdown",
   "metadata": {},
   "source": [
    "### Query the database\n",
    "\n",
    "Let's inspect the most important entities in descending order of betweenness centrality!"
   ]
  },
  {
   "cell_type": "code",
   "execution_count": 29,
   "metadata": {
    "execution": {
     "iopub.execute_input": "2025-07-29T02:49:54.536251Z",
     "iopub.status.busy": "2025-07-29T02:49:54.536135Z",
     "iopub.status.idle": "2025-07-29T02:49:54.539691Z",
     "shell.execute_reply": "2025-07-29T02:49:54.539459Z",
     "shell.execute_reply.started": "2025-07-29T02:49:54.536243Z"
    }
   },
   "outputs": [
    {
     "data": {
      "text/html": [
       "<div><style>\n",
       ".dataframe > thead > tr,\n",
       ".dataframe > tbody > tr {\n",
       "  text-align: right;\n",
       "  white-space: pre-wrap;\n",
       "}\n",
       "</style>\n",
       "<small>shape: (10, 3)</small><table border=\"1\" class=\"dataframe\"><thead><tr><th>a.id</th><th>a.descrip</th><th>a.betweenness_centrality</th></tr><tr><td>str</td><td>str</td><td>f32</td></tr></thead><tbody><tr><td>&quot;sz_100036&quot;</td><td>&quot;Victor Nyland Poulsen&quot;</td><td>0.002753</td></tr><tr><td>&quot;sz_100225&quot;</td><td>&quot;Daniel Symmons&quot;</td><td>0.002251</td></tr><tr><td>&quot;sz_100003&quot;</td><td>&quot;Kenneth Kurt Hansen&quot;</td><td>0.001314</td></tr><tr><td>&quot;sz_100092&quot;</td><td>&quot;Daniel Lee Symons&quot;</td><td>0.001273</td></tr><tr><td>&quot;sz_100023&quot;</td><td>&quot;Rudolf Esser&quot;</td><td>0.001176</td></tr><tr><td>&quot;sz_100080&quot;</td><td>&quot;Art By Lunei Holding ApS&quot;</td><td>0.001108</td></tr><tr><td>&quot;sz_100151&quot;</td><td>&quot;Daniel Nicholas Simons&quot;</td><td>0.001077</td></tr><tr><td>&quot;sz_100006&quot;</td><td>&quot;Helena Antoinette Marie Verbee…</td><td>0.00107</td></tr><tr><td>&quot;sz_100060&quot;</td><td>&quot;Anders Kjærgaard Frandsen&quot;</td><td>0.001064</td></tr><tr><td>&quot;sz_100072&quot;</td><td>&quot;Ida-Marie Langelund-Larsen Sil…</td><td>0.001015</td></tr></tbody></table></div>"
      ],
      "text/plain": [
       "shape: (10, 3)\n",
       "┌───────────┬─────────────────────────────────┬──────────────────────────┐\n",
       "│ a.id      ┆ a.descrip                       ┆ a.betweenness_centrality │\n",
       "│ ---       ┆ ---                             ┆ ---                      │\n",
       "│ str       ┆ str                             ┆ f32                      │\n",
       "╞═══════════╪═════════════════════════════════╪══════════════════════════╡\n",
       "│ sz_100036 ┆ Victor Nyland Poulsen           ┆ 0.002753                 │\n",
       "│ sz_100225 ┆ Daniel Symmons                  ┆ 0.002251                 │\n",
       "│ sz_100003 ┆ Kenneth Kurt Hansen             ┆ 0.001314                 │\n",
       "│ sz_100092 ┆ Daniel Lee Symons               ┆ 0.001273                 │\n",
       "│ sz_100023 ┆ Rudolf Esser                    ┆ 0.001176                 │\n",
       "│ sz_100080 ┆ Art By Lunei Holding ApS        ┆ 0.001108                 │\n",
       "│ sz_100151 ┆ Daniel Nicholas Simons          ┆ 0.001077                 │\n",
       "│ sz_100006 ┆ Helena Antoinette Marie Verbee… ┆ 0.00107                  │\n",
       "│ sz_100060 ┆ Anders Kjærgaard Frandsen       ┆ 0.001064                 │\n",
       "│ sz_100072 ┆ Ida-Marie Langelund-Larsen Sil… ┆ 0.001015                 │\n",
       "└───────────┴─────────────────────────────────┴──────────────────────────┘"
      ]
     },
     "execution_count": 29,
     "metadata": {},
     "output_type": "execute_result"
    }
   ],
   "source": [
    "res = conn.execute(\n",
    "    \"\"\"\n",
    "    MATCH (a:Entity)\n",
    "    RETURN a.id, a.descrip, a.betweenness_centrality\n",
    "    ORDER BY a.betweenness_centrality DESC\n",
    "    LIMIT 10\n",
    "    \"\"\"\n",
    ")\n",
    "res.get_as_pl()  # type: ignore"
   ]
  },
  {
   "cell_type": "markdown",
   "metadata": {},
   "source": [
    "It seems like the entity with the highest betweenness centrality is Victor Nyland Poulsen. It's worth inspecting the subgraph of related Open Ownership and Open Sanctions nodes around this entity to see if there are any interesting relationships.\n",
    "\n",
    "For this, we'll use the circular layout in yFiles to make sense of the large number of relationships."
   ]
  },
  {
   "cell_type": "code",
   "execution_count": 30,
   "metadata": {
    "execution": {
     "iopub.execute_input": "2025-07-29T02:49:54.540169Z",
     "iopub.status.busy": "2025-07-29T02:49:54.540082Z",
     "iopub.status.idle": "2025-07-29T02:49:54.584112Z",
     "shell.execute_reply": "2025-07-29T02:49:54.583738Z",
     "shell.execute_reply.started": "2025-07-29T02:49:54.540154Z"
    }
   },
   "outputs": [
    {
     "data": {
      "application/vnd.jupyter.widget-view+json": {
       "model_id": "2d48f6167ac64f40a19408fa7243353d",
       "version_major": 2,
       "version_minor": 0
      },
      "text/plain": [
       "GraphWidget(layout=Layout(height='710px', width='100%'))"
      ]
     },
     "metadata": {},
     "output_type": "display_data"
    }
   ],
   "source": [
    "g.show_cypher(\n",
    "    \"\"\"\n",
    "    MATCH (a)-[b]->(c:Entity)-[d *1..4]->(e)\n",
    "    WHERE c.id = \"sz_100036\"\n",
    "    RETURN * LIMIT 200;\n",
    "    \"\"\",\n",
    "    layout=\"circular\"\n",
    ")"
   ]
  }
 ],
 "metadata": {
  "kernelspec": {
   "display_name": "Python 3 (ipykernel)",
   "language": "python",
   "name": "python3"
  },
  "language_info": {
   "codemirror_mode": {
    "name": "ipython",
    "version": 3
   },
   "file_extension": ".py",
   "mimetype": "text/x-python",
   "name": "python",
   "nbconvert_exporter": "python",
   "pygments_lexer": "ipython3",
   "version": "3.13.3"
  }
 },
 "nbformat": 4,
 "nbformat_minor": 4
}
